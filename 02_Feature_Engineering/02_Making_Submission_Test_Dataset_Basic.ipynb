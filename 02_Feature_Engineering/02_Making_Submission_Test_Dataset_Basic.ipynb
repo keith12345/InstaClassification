{
 "cells": [
  {
   "cell_type": "code",
   "execution_count": 1,
   "metadata": {},
   "outputs": [],
   "source": [
    "import os\n",
    "\n",
    "from collections import OrderedDict\n",
    "\n",
    "import pandas as pd\n",
    "import numpy as np\n",
    "\n",
    "import seaborn as sns\n",
    "import matplotlib.pyplot as plt\n",
    "\n",
    "from sklearn.linear_model import LogisticRegression\n",
    "from sklearn.metrics import f1_score\n",
    "import scipy\n",
    "\n",
    "import warnings\n",
    "\n",
    "from Standard_functions import plot_features, get_user_split_data, plot_fit_score_pred\n",
    "\n",
    "warnings.filterwarnings('always') \n",
    "np.seterr(divide='ignore', invalid='ignore')\n",
    "%matplotlib inline"
   ]
  },
  {
   "cell_type": "code",
   "execution_count": 2,
   "metadata": {},
   "outputs": [],
   "source": [
    "os.chdir('../Data/')"
   ]
  },
  {
   "cell_type": "markdown",
   "metadata": {},
   "source": [
    "# CREATING TEST SET"
   ]
  },
  {
   "cell_type": "code",
   "execution_count": 3,
   "metadata": {},
   "outputs": [],
   "source": [
    "ord_prod_prior_df = pd.read_csv('order_products__prior.csv')\n",
    "ord_df = pd.read_csv('orders.csv')\n",
    "ord_prod_prior_df = ord_prod_prior_df.merge(ord_df, on='order_id')\n",
    "prod_df = pd.read_csv('products.csv')\n",
    "dep_df = pd.read_csv('departments.csv')"
   ]
  },
  {
   "cell_type": "code",
   "execution_count": 4,
   "metadata": {},
   "outputs": [],
   "source": [
    "df = (ord_prod_prior_df.groupby(['product_id','user_id'],as_index=False) \n",
    "                              .agg({'order_id':'count'}) \n",
    "                              .rename(columns={'order_id':'num_ord_per_user_per_prod'}))"
   ]
  },
  {
   "cell_type": "markdown",
   "metadata": {},
   "source": [
    "Moving split to after feature engineering\n",
    "\n",
    "```python \n",
    "test_ids = ord_df[ord_df.eval_set=='test'].user_id  \n",
    "df = df[df.user_id.isin(test_ids)]\n",
    "```"
   ]
  },
  {
   "cell_type": "markdown",
   "metadata": {},
   "source": [
    "## Feature Engineering"
   ]
  },
  {
   "cell_type": "markdown",
   "metadata": {},
   "source": [
    "Our feature engineering began in the 'Organizing data section.  \n",
    "We will visualize that first feature below and begin creating new features."
   ]
  },
  {
   "cell_type": "markdown",
   "metadata": {},
   "source": [
    "As you can see, we're setting the bar pretty low."
   ]
  },
  {
   "cell_type": "markdown",
   "metadata": {},
   "source": [
    "## Product Features\n",
    "Note that product features are not user-specific."
   ]
  },
  {
   "cell_type": "markdown",
   "metadata": {},
   "source": [
    "### `product_total_orders`\n",
    "Total number of orders placed for a given product.\n",
    "### `product_avg_add_to_cart_order`\n",
    "Average order in which a product was add to a users cart."
   ]
  },
  {
   "cell_type": "code",
   "execution_count": 5,
   "metadata": {},
   "outputs": [],
   "source": [
    "prod_features = ['product_total_orders','product_avg_add_to_cart_order']\n",
    "\n",
    "df_prod_features = (ord_prod_prior_df.groupby(['product_id'],as_index=False)\n",
    "                                           .agg(OrderedDict(\n",
    "                                                   [('order_id','nunique'),\n",
    "                                                    ('add_to_cart_order','mean')])))\n",
    "df_prod_features.columns = ['product_id'] + prod_features\n",
    "df = df.merge(df_prod_features, on='product_id')"
   ]
  },
  {
   "cell_type": "markdown",
   "metadata": {},
   "source": [
    "`product_total_orders` had some pretty enourmous rightward skew that ultimately resulted in the model producing 0 positive predictions. As a result I took the log base 2 transformation to punish outliers.  \n",
    "Note that I attempted a log base 10 transformation but log base 2 had better results."
   ]
  },
  {
   "cell_type": "code",
   "execution_count": 6,
   "metadata": {},
   "outputs": [],
   "source": [
    "df.product_total_orders = np.log2(df.product_total_orders)"
   ]
  },
  {
   "cell_type": "markdown",
   "metadata": {},
   "source": [
    "## User Features\n",
    "`'user_total_orders','user_avg_cartsize','user_total_products','user_avg_days_since_prior_order'`"
   ]
  },
  {
   "cell_type": "code",
   "execution_count": 7,
   "metadata": {},
   "outputs": [],
   "source": [
    "user_features = ['user_total_orders','user_avg_cartsize',\n",
    "                 'user_total_products','user_avg_days_since_prior_order']\n",
    "\n",
    "df_user_features = (ord_prod_prior_df.groupby(['user_id'],as_index=False)\n",
    "                    .agg(OrderedDict(\n",
    "                       [('order_id',\n",
    "                         ['nunique', # user_total_orders\n",
    "                        (lambda x: x.shape[0] / x.nunique())]), # user_avg_cartsize\n",
    "                        ('product_id','nunique'), # user_total_products\n",
    "                        ('days_since_prior_order','mean')]))) # user_avg_days_since_prior_order\n",
    "df_user_features.columns = ['user_id'] + user_features\n",
    "df = df.merge(df_user_features, on='user_id')"
   ]
  },
  {
   "cell_type": "markdown",
   "metadata": {},
   "source": [
    "## User-Product features"
   ]
  },
  {
   "cell_type": "code",
   "execution_count": 8,
   "metadata": {},
   "outputs": [],
   "source": [
    "user_prod_features = ['user_product_avg_add_to_cart_order']\n",
    "\n",
    "df_user_prod_features = (ord_prod_prior_df.groupby(\n",
    "                        ['product_id','user_id'],as_index=False) \\\n",
    "                        .agg(OrderedDict(\n",
    "                        [('add_to_cart_order','mean')])))\n",
    "\n",
    "df_user_prod_features.columns = ['product_id','user_id'] + user_prod_features \n",
    "df = df.merge(df_user_prod_features,on=['user_id','product_id'])\n",
    "df['user_product_order_freq'] = df['num_ord_per_user_per_prod'] / df['user_total_orders'] "
   ]
  },
  {
   "cell_type": "markdown",
   "metadata": {},
   "source": [
    "## Number of Orders Placed Since a Product was Last Ordered\n",
    "## Percentage of Orders Containing a Product"
   ]
  },
  {
   "cell_type": "code",
   "execution_count": 9,
   "metadata": {},
   "outputs": [],
   "source": [
    "new_feats = ['total_orders_containig_product','most_recent_order_by_user_by_product']\n",
    "\n",
    "most_recent_order_by_user_by_product = (ord_prod_prior_df.groupby(['user_id','product_id'],\n",
    "                                                        as_index=False).agg(OrderedDict(\n",
    "                                                        [('reordered','sum'),\n",
    "                                                        ('order_number','max')])))\n",
    "most_recent_order_by_user_by_product.columns = ['user_id','product_id'] + new_feats\n",
    "\n",
    "max_orders_per_user = ord_prod_prior_df.groupby(['user_id'],as_index=False).order_number.max()\n",
    "max_orders_per_user.columns = ['user_id'] + ['number_orders_since_product_last_ordered']\n",
    "\n",
    "number_orders_since_product_last_ordered = pd.merge(most_recent_order_by_user_by_product, \n",
    "                                                    max_orders_per_user,on='user_id')\n",
    "\n",
    "number_orders_since_product_last_ordered['percent_of_time_product_ordered'] =(\n",
    "    number_orders_since_product_last_ordered['total_orders_containig_product'] / \n",
    "    number_orders_since_product_last_ordered['number_orders_since_product_last_ordered'])\n",
    "    # Note that we use the column name `number_orders_since_product_last_ordered` as that\n",
    "    # is currently set to the max max order and does not yet actually contain the \n",
    "    # number of orders since a product was last ordered.\n",
    "\n",
    "percent_of_time_product_ordered = number_orders_since_product_last_ordered[['percent_of_time_product_ordered',\n",
    "                                                                      'user_id','product_id']]\n",
    "\n",
    "number_orders_since_product_last_ordered = (number_orders_since_product_last_ordered[\n",
    "                    ['most_recent_order_by_user_by_product','number_orders_since_product_last_ordered']]\n",
    "                    .diff(axis=1).drop('most_recent_order_by_user_by_product',axis=1))\n",
    "\n",
    "most_recent_order_by_user_by_product.drop('most_recent_order_by_user_by_product',\n",
    "                                          axis=1,inplace=True) # we're just using this to get back our product_id and user_id\n",
    "number_orders_since_product_last_ordered = pd.merge(number_orders_since_product_last_ordered,\n",
    "                            most_recent_order_by_user_by_product,left_index=True,right_index=True)\n",
    "\n",
    "combined_feats = pd.merge(number_orders_since_product_last_ordered,percent_of_time_product_ordered,\n",
    "                        on=['user_id','product_id'])\n",
    "\n",
    "combined_feats.drop('total_orders_containig_product',axis=1,inplace=True)\n",
    "\n",
    "df = pd.merge(df, combined_feats,on=['user_id','product_id'])"
   ]
  },
  {
   "cell_type": "markdown",
   "metadata": {},
   "source": [
    "## Time since most recent order by user"
   ]
  },
  {
   "cell_type": "code",
   "execution_count": 10,
   "metadata": {},
   "outputs": [],
   "source": [
    "mean_hod = (ord_df.groupby(['user_id'],as_index=False)\n",
    "                    .agg({'order_hour_of_day':'mean'}))\n",
    "mean_hod.columns = ['user_id','mean_order_hour_of_day_by_user']\n",
    "\n",
    "most_recent_order_time = (ord_df.groupby(['user_id'],as_index=False)\n",
    "                    .agg({'order_number':'max'}))\n",
    "temp = pd.merge(most_recent_order_time,ord_df, on=['user_id','order_number'],how='left')\n",
    "temp = pd.merge(temp[['user_id','order_hour_of_day']], mean_hod, on=['user_id'])\n",
    "temp['diff_between_average_and_current_order_time'] = (temp['order_hour_of_day'] - \n",
    "                                        temp['mean_order_hour_of_day_by_user'])\n",
    "df = pd.merge(df, temp.drop('order_hour_of_day',axis=1)\n",
    "              ,on=['user_id'])"
   ]
  },
  {
   "cell_type": "markdown",
   "metadata": {},
   "source": [
    "## Weighting products for more of more recent orders"
   ]
  },
  {
   "cell_type": "code",
   "execution_count": 11,
   "metadata": {},
   "outputs": [],
   "source": [
    "recent_order_weight = ord_prod_prior_df.loc[:,['product_id', 'reordered', 'user_id', 'order_number']]\n",
    "max_order_number = ord_df.groupby(['user_id'],as_index=False).agg({'order_number':'max'})\n",
    "max_order_number.columns = ['user_id','max_order_number']\n",
    "recent_order_weight = recent_order_weight.merge(max_order_number,on='user_id')\n",
    "# Here we set max_order_number to be the nth traingular number of the max order number\n",
    "recent_order_weight['max_order_number'] = ((recent_order_weight.max_order_number *\n",
    "                                            (recent_order_weight.max_order_number + 1)) / 2)\n",
    "recent_order_weight['recent_order_weight'] = ((recent_order_weight.reordered \n",
    "                                              * recent_order_weight.order_number)\n",
    "                                              / recent_order_weight.max_order_number)\n",
    "recent_order_weight = recent_order_weight.groupby(['product_id','user_id'],as_index=False).sum()\n",
    "recent_order_weight.drop(['reordered','order_number'],axis=1,inplace=True)\n",
    "df = pd.merge(df, recent_order_weight,on=['user_id','product_id'])"
   ]
  },
  {
   "cell_type": "markdown",
   "metadata": {},
   "source": [
    "### Removing Max Order Number\n",
    "Max order number clearly had a significant negative impact and has been removed."
   ]
  },
  {
   "cell_type": "code",
   "execution_count": 12,
   "metadata": {},
   "outputs": [],
   "source": [
    "df.drop(['max_order_number'],axis=1,inplace=True)"
   ]
  },
  {
   "cell_type": "markdown",
   "metadata": {},
   "source": [
    "## Adding Department Dummy Variable"
   ]
  },
  {
   "cell_type": "code",
   "execution_count": 13,
   "metadata": {},
   "outputs": [],
   "source": [
    "department_name_product_id = (prod_df.merge(dep_df,on='department_id')\n",
    "                              .drop(['product_name','aisle_id','department_id'],axis=1))\n",
    "dep_dummies = pd.get_dummies(department_name_product_id,drop_first=False)\n",
    "dummies_cols = dep_dummies.columns.tolist()\n",
    "new_cols = []\n",
    "for name in dummies_cols:\n",
    "    new_cols.append(str.replace(name,' ','_'))\n",
    "dep_dummies.columns = new_cols\n",
    "\n",
    "dep_dummies['positvely_corr_departments'] = dep_dummies.department_dairy_eggs + dep_dummies.department_produce\n",
    "dep_dummies['negatively_corr_departments'] = dep_dummies.department_pantry + dep_dummies.department_personal_care\n",
    "dep_dummies = dep_dummies[['negatively_corr_departments','positvely_corr_departments','product_id']]\n",
    "\n",
    "df = pd.merge(df, dep_dummies,on=['product_id'])"
   ]
  },
  {
   "cell_type": "code",
   "execution_count": 14,
   "metadata": {},
   "outputs": [],
   "source": [
    "test_ids = ord_df[ord_df.eval_set=='test'].user_id\n",
    "df = df[df.user_id.isin(test_ids)]"
   ]
  },
  {
   "cell_type": "code",
   "execution_count": 15,
   "metadata": {},
   "outputs": [],
   "source": [
    "df.reset_index(inplace=True,drop=True)"
   ]
  },
  {
   "cell_type": "code",
   "execution_count": 16,
   "metadata": {},
   "outputs": [],
   "source": [
    "pd.to_pickle(df,'full_features_with_dep_test')"
   ]
  },
  {
   "cell_type": "code",
   "execution_count": 17,
   "metadata": {},
   "outputs": [],
   "source": [
    "df.drop(['negatively_corr_departments','positvely_corr_departments'],axis=1,inplace=True)"
   ]
  },
  {
   "cell_type": "code",
   "execution_count": 18,
   "metadata": {},
   "outputs": [],
   "source": [
    "pd.to_pickle(df,'full_features_test')"
   ]
  },
  {
   "cell_type": "markdown",
   "metadata": {},
   "source": [
    "# TRAINING SET"
   ]
  },
  {
   "cell_type": "code",
   "execution_count": 3,
   "metadata": {},
   "outputs": [],
   "source": [
    "ord_prod_prior_df = pd.read_csv('order_products__prior.csv')\n",
    "ord_prod_train_df = pd.read_csv('order_products__train.csv')\n",
    "ord_df = pd.read_csv('orders.csv')\n",
    "ord_prod_prior_df = ord_prod_prior_df.merge(ord_df, on='order_id')\n",
    "ord_prod_train_df = ord_prod_train_df.merge(ord_df, on='order_id')\n",
    "prod_df = pd.read_csv('products.csv')\n",
    "dep_df = pd.read_csv('departments.csv')"
   ]
  },
  {
   "cell_type": "code",
   "execution_count": 4,
   "metadata": {},
   "outputs": [],
   "source": [
    "df = (ord_prod_prior_df.groupby(['product_id','user_id'],as_index=False) \n",
    "                              .agg({'order_id':'count'}) \n",
    "                              .rename(columns={'order_id':'num_ord_per_user_per_prod'}))"
   ]
  },
  {
   "cell_type": "markdown",
   "metadata": {},
   "source": [
    "test_ids = ord_df[ord_df.eval_set=='test'].user_id  \n",
    "df = df[~df.user_id.isin(test_ids)]"
   ]
  },
  {
   "cell_type": "code",
   "execution_count": 5,
   "metadata": {},
   "outputs": [],
   "source": [
    "test_carts = (ord_prod_train_df.groupby('user_id',as_index=False)\n",
    "                                      .agg({'product_id':(lambda x: set(x))})\n",
    "                                      .rename(columns={'product_id':'latest_cart'}))\n",
    "\n",
    "df = df.merge(test_carts, on='user_id')\n",
    "df['in_cart'] = (df.apply(lambda row: row['product_id'] in row['latest_cart'], axis=1).astype(int))"
   ]
  },
  {
   "cell_type": "code",
   "execution_count": 6,
   "metadata": {},
   "outputs": [
    {
     "data": {
      "text/html": [
       "<div>\n",
       "<style scoped>\n",
       "    .dataframe tbody tr th:only-of-type {\n",
       "        vertical-align: middle;\n",
       "    }\n",
       "\n",
       "    .dataframe tbody tr th {\n",
       "        vertical-align: top;\n",
       "    }\n",
       "\n",
       "    .dataframe thead th {\n",
       "        text-align: right;\n",
       "    }\n",
       "</style>\n",
       "<table border=\"1\" class=\"dataframe\">\n",
       "  <thead>\n",
       "    <tr style=\"text-align: right;\">\n",
       "      <th></th>\n",
       "      <th>product_id</th>\n",
       "      <th>user_id</th>\n",
       "      <th>num_ord_per_user_per_prod</th>\n",
       "      <th>latest_cart</th>\n",
       "      <th>in_cart</th>\n",
       "    </tr>\n",
       "  </thead>\n",
       "  <tbody>\n",
       "    <tr>\n",
       "      <th>0</th>\n",
       "      <td>1</td>\n",
       "      <td>138</td>\n",
       "      <td>2</td>\n",
       "      <td>{42475}</td>\n",
       "      <td>0</td>\n",
       "    </tr>\n",
       "    <tr>\n",
       "      <th>1</th>\n",
       "      <td>907</td>\n",
       "      <td>138</td>\n",
       "      <td>2</td>\n",
       "      <td>{42475}</td>\n",
       "      <td>0</td>\n",
       "    </tr>\n",
       "    <tr>\n",
       "      <th>2</th>\n",
       "      <td>1000</td>\n",
       "      <td>138</td>\n",
       "      <td>1</td>\n",
       "      <td>{42475}</td>\n",
       "      <td>0</td>\n",
       "    </tr>\n",
       "    <tr>\n",
       "      <th>3</th>\n",
       "      <td>3265</td>\n",
       "      <td>138</td>\n",
       "      <td>1</td>\n",
       "      <td>{42475}</td>\n",
       "      <td>0</td>\n",
       "    </tr>\n",
       "    <tr>\n",
       "      <th>4</th>\n",
       "      <td>4913</td>\n",
       "      <td>138</td>\n",
       "      <td>1</td>\n",
       "      <td>{42475}</td>\n",
       "      <td>0</td>\n",
       "    </tr>\n",
       "  </tbody>\n",
       "</table>\n",
       "</div>"
      ],
      "text/plain": [
       "   product_id  user_id  num_ord_per_user_per_prod latest_cart  in_cart\n",
       "0           1      138                          2     {42475}        0\n",
       "1         907      138                          2     {42475}        0\n",
       "2        1000      138                          1     {42475}        0\n",
       "3        3265      138                          1     {42475}        0\n",
       "4        4913      138                          1     {42475}        0"
      ]
     },
     "execution_count": 6,
     "metadata": {},
     "output_type": "execute_result"
    }
   ],
   "source": [
    "df.head()"
   ]
  },
  {
   "cell_type": "markdown",
   "metadata": {},
   "source": [
    "## Feature Engineering"
   ]
  },
  {
   "cell_type": "markdown",
   "metadata": {},
   "source": [
    "Our feature engineering began in the 'Organizing data section.  \n",
    "We will visualize that first feature below and begin creating new features."
   ]
  },
  {
   "cell_type": "markdown",
   "metadata": {},
   "source": [
    "As you can see, we're setting the bar pretty low."
   ]
  },
  {
   "cell_type": "markdown",
   "metadata": {},
   "source": [
    "## Product Features\n",
    "Note that product features are not user-specific."
   ]
  },
  {
   "cell_type": "markdown",
   "metadata": {},
   "source": [
    "### `product_total_orders`\n",
    "Total number of orders placed for a given product.\n",
    "### `product_avg_add_to_cart_order`\n",
    "Average order in which a product was add to a users cart."
   ]
  },
  {
   "cell_type": "code",
   "execution_count": 7,
   "metadata": {},
   "outputs": [],
   "source": [
    "prod_features = ['product_total_orders','product_avg_add_to_cart_order']\n",
    "\n",
    "df_prod_features = (ord_prod_prior_df.groupby(['product_id'],as_index=False)\n",
    "                                           .agg(OrderedDict(\n",
    "                                                   [('order_id','nunique'),\n",
    "                                                    ('add_to_cart_order','mean')])))\n",
    "df_prod_features.columns = ['product_id'] + prod_features\n",
    "df = df.merge(df_prod_features, on='product_id')"
   ]
  },
  {
   "cell_type": "markdown",
   "metadata": {},
   "source": [
    "`product_total_orders` had some pretty enourmous rightward skew that ultimately resulted in the model producing 0 positive predictions. As a result I took the log base 2 transformation to punish outliers.  \n",
    "Note that I attempted a log base 10 transformation but log base 2 had better results."
   ]
  },
  {
   "cell_type": "code",
   "execution_count": 8,
   "metadata": {},
   "outputs": [],
   "source": [
    "df.product_total_orders = np.log2(df.product_total_orders)"
   ]
  },
  {
   "cell_type": "markdown",
   "metadata": {},
   "source": [
    "## User Features\n",
    "`'user_total_orders','user_avg_cartsize','user_total_products','user_avg_days_since_prior_order'`"
   ]
  },
  {
   "cell_type": "code",
   "execution_count": 9,
   "metadata": {},
   "outputs": [],
   "source": [
    "user_features = ['user_total_orders','user_avg_cartsize',\n",
    "                 'user_total_products','user_avg_days_since_prior_order']\n",
    "\n",
    "df_user_features = (ord_prod_prior_df.groupby(['user_id'],as_index=False)\n",
    "                    .agg(OrderedDict(\n",
    "                       [('order_id',\n",
    "                         ['nunique', # user_total_orders\n",
    "                        (lambda x: x.shape[0] / x.nunique())]), # user_avg_cartsize\n",
    "                        ('product_id','nunique'), # user_total_products\n",
    "                        ('days_since_prior_order','mean')]))) # user_avg_days_since_prior_order\n",
    "df_user_features.columns = ['user_id'] + user_features\n",
    "df = df.merge(df_user_features, on='user_id')"
   ]
  },
  {
   "cell_type": "markdown",
   "metadata": {},
   "source": [
    "## User-Product features"
   ]
  },
  {
   "cell_type": "code",
   "execution_count": 10,
   "metadata": {},
   "outputs": [],
   "source": [
    "user_prod_features = ['user_product_avg_add_to_cart_order']\n",
    "\n",
    "df_user_prod_features = (ord_prod_prior_df.groupby(\n",
    "                        ['product_id','user_id'],as_index=False) \\\n",
    "                        .agg(OrderedDict(\n",
    "                        [('add_to_cart_order','mean')])))\n",
    "\n",
    "df_user_prod_features.columns = ['product_id','user_id'] + user_prod_features \n",
    "df = df.merge(df_user_prod_features,on=['user_id','product_id'])\n",
    "df['user_product_order_freq'] = df['num_ord_per_user_per_prod'] / df['user_total_orders'] "
   ]
  },
  {
   "cell_type": "markdown",
   "metadata": {},
   "source": [
    "## Number of Orders Placed Since a Product was Last Ordered\n",
    "## Percentage of Orders Containing a Product"
   ]
  },
  {
   "cell_type": "code",
   "execution_count": 11,
   "metadata": {},
   "outputs": [],
   "source": [
    "new_feats = ['total_orders_containig_product','most_recent_order_by_user_by_product']\n",
    "\n",
    "most_recent_order_by_user_by_product = (ord_prod_prior_df.groupby(['user_id','product_id'],\n",
    "                                                        as_index=False).agg(OrderedDict(\n",
    "                                                        [('reordered','sum'),\n",
    "                                                        ('order_number','max')])))\n",
    "most_recent_order_by_user_by_product.columns = ['user_id','product_id'] + new_feats\n",
    "\n",
    "max_orders_per_user = ord_prod_prior_df.groupby(['user_id'],as_index=False).order_number.max()\n",
    "max_orders_per_user.columns = ['user_id'] + ['number_orders_since_product_last_ordered']\n",
    "\n",
    "number_orders_since_product_last_ordered = pd.merge(most_recent_order_by_user_by_product, \n",
    "                                                    max_orders_per_user,on='user_id')\n",
    "\n",
    "number_orders_since_product_last_ordered['percent_of_time_product_ordered'] =(\n",
    "    number_orders_since_product_last_ordered['total_orders_containig_product'] / \n",
    "    number_orders_since_product_last_ordered['number_orders_since_product_last_ordered'])\n",
    "    # Note that we use the column name `number_orders_since_product_last_ordered` as that\n",
    "    # is currently set to the max max order and does not yet actually contain the \n",
    "    # number of orders since a product was last ordered.\n",
    "\n",
    "percent_of_time_product_ordered = number_orders_since_product_last_ordered[['percent_of_time_product_ordered',\n",
    "                                                                      'user_id','product_id']]\n",
    "\n",
    "number_orders_since_product_last_ordered = (number_orders_since_product_last_ordered[\n",
    "                    ['most_recent_order_by_user_by_product','number_orders_since_product_last_ordered']]\n",
    "                    .diff(axis=1).drop('most_recent_order_by_user_by_product',axis=1))\n",
    "\n",
    "most_recent_order_by_user_by_product.drop('most_recent_order_by_user_by_product',\n",
    "                                          axis=1,inplace=True) # we're just using this to get back our product_id and user_id\n",
    "number_orders_since_product_last_ordered = pd.merge(number_orders_since_product_last_ordered,most_recent_order_by_user_by_product,\n",
    "                        left_index=True,right_index=True)\n",
    "\n",
    "combined_feats = pd.merge(number_orders_since_product_last_ordered,percent_of_time_product_ordered,\n",
    "                        on=['user_id','product_id'])\n",
    "\n",
    "combined_feats.drop('total_orders_containig_product',axis=1,inplace=True)\n",
    "\n",
    "df = pd.merge(df, combined_feats,on=['user_id','product_id'])"
   ]
  },
  {
   "cell_type": "markdown",
   "metadata": {},
   "source": [
    "## Time since most recent order by user"
   ]
  },
  {
   "cell_type": "code",
   "execution_count": 12,
   "metadata": {},
   "outputs": [],
   "source": [
    "mean_hod = (ord_df.groupby(['user_id'],as_index=False)\n",
    "                    .agg({'order_hour_of_day':'mean'}))\n",
    "mean_hod.columns = ['user_id','mean_order_hour_of_day_by_user']\n",
    "\n",
    "most_recent_order_time = (ord_df.groupby(['user_id'],as_index=False)\n",
    "                    .agg({'order_number':'max'}))\n",
    "temp = pd.merge(most_recent_order_time,ord_df, on=['user_id','order_number'],how='left')\n",
    "temp = pd.merge(temp[['user_id','order_hour_of_day']], mean_hod, on=['user_id'])\n",
    "temp['diff_between_average_and_current_order_time'] = (temp['order_hour_of_day'] - \n",
    "                                        temp['mean_order_hour_of_day_by_user'])\n",
    "df = pd.merge(df, temp.drop('order_hour_of_day',axis=1)\n",
    "              ,on=['user_id'])"
   ]
  },
  {
   "cell_type": "markdown",
   "metadata": {},
   "source": [
    "## Weighting products for more of more recent orders"
   ]
  },
  {
   "cell_type": "code",
   "execution_count": 13,
   "metadata": {},
   "outputs": [],
   "source": [
    "recent_order_weight = ord_prod_prior_df.loc[:,['product_id', 'reordered', 'user_id', 'order_number']]\n",
    "max_order_number = ord_df.groupby(['user_id'],as_index=False).agg({'order_number':'max'})\n",
    "max_order_number.columns = ['user_id','max_order_number']\n",
    "recent_order_weight = recent_order_weight.merge(max_order_number,on='user_id')\n",
    "# Here we set max_order_number to be the nth traingular number of the max order number\n",
    "recent_order_weight['max_order_number'] = ((recent_order_weight.max_order_number *\n",
    "                                            (recent_order_weight.max_order_number + 1)) / 2)\n",
    "recent_order_weight['recent_order_weight'] = ((recent_order_weight.reordered \n",
    "                                              * recent_order_weight.order_number)\n",
    "                                              / recent_order_weight.max_order_number)\n",
    "recent_order_weight = recent_order_weight.groupby(['product_id','user_id'],as_index=False).sum()\n",
    "recent_order_weight.drop(['reordered','order_number'],axis=1,inplace=True)\n",
    "df = pd.merge(df, recent_order_weight,on=['user_id','product_id'])"
   ]
  },
  {
   "cell_type": "markdown",
   "metadata": {},
   "source": [
    "### Removing Max Order Number\n",
    "Max order number clearly had a significant negative impact and has been removed."
   ]
  },
  {
   "cell_type": "code",
   "execution_count": 14,
   "metadata": {},
   "outputs": [],
   "source": [
    "df.drop(['max_order_number'],axis=1,inplace=True)"
   ]
  },
  {
   "cell_type": "code",
   "execution_count": 15,
   "metadata": {},
   "outputs": [],
   "source": [
    "pd.to_pickle(df,'full_features_train')"
   ]
  },
  {
   "cell_type": "markdown",
   "metadata": {},
   "source": [
    "## Adding Department Dummy Variable"
   ]
  },
  {
   "cell_type": "code",
   "execution_count": 16,
   "metadata": {},
   "outputs": [],
   "source": [
    "department_name_product_id = (prod_df.merge(dep_df,on='department_id')\n",
    "                              .drop(['product_name','aisle_id','department_id'],axis=1))\n",
    "dep_dummies = pd.get_dummies(department_name_product_id,drop_first=False)\n",
    "dummies_cols = dep_dummies.columns.tolist()\n",
    "new_cols = []\n",
    "for name in dummies_cols:\n",
    "    new_cols.append(str.replace(name,' ','_'))\n",
    "dep_dummies.columns = new_cols\n",
    "\n",
    "dep_dummies['positvely_corr_departments'] = dep_dummies.department_dairy_eggs + dep_dummies.department_produce\n",
    "dep_dummies['negatively_corr_departments'] = dep_dummies.department_pantry + dep_dummies.department_personal_care\n",
    "dep_dummies = dep_dummies[['negatively_corr_departments','positvely_corr_departments','product_id']]\n",
    "\n",
    "df = pd.merge(df, dep_dummies,on=['product_id'])"
   ]
  },
  {
   "cell_type": "code",
   "execution_count": 17,
   "metadata": {},
   "outputs": [],
   "source": [
    "pd.to_pickle(df,'full_features_with_dep_train')"
   ]
  },
  {
   "cell_type": "code",
   "execution_count": null,
   "metadata": {},
   "outputs": [],
   "source": []
  }
 ],
 "metadata": {
  "kernelspec": {
   "display_name": "Python 3",
   "language": "python",
   "name": "python3"
  },
  "language_info": {
   "codemirror_mode": {
    "name": "ipython",
    "version": 3
   },
   "file_extension": ".py",
   "mimetype": "text/x-python",
   "name": "python",
   "nbconvert_exporter": "python",
   "pygments_lexer": "ipython3",
   "version": "3.7.2"
  }
 },
 "nbformat": 4,
 "nbformat_minor": 2
}

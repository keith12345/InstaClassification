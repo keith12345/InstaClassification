{
 "cells": [
  {
   "cell_type": "code",
   "execution_count": 1,
   "metadata": {},
   "outputs": [],
   "source": [
    "import os \n",
    "\n",
    "import pandas as pd\n",
    "import numpy as np\n",
    "\n",
    "from sklearn.preprocessing import MinMaxScaler, PolynomialFeatures"
   ]
  },
  {
   "cell_type": "code",
   "execution_count": 2,
   "metadata": {},
   "outputs": [],
   "source": [
    "os.chdir('../Data/')"
   ]
  },
  {
   "cell_type": "markdown",
   "metadata": {},
   "source": [
    "Without Dertpament:  \n",
    "* Logistic Regression\n",
    "* Gausssian Naive Bayes\n",
    "* Random Forest Model\n",
    "    * full_features_train - Already Made\n",
    "    * full_features_test - Already Made  \n",
    "\n",
    "\n",
    "After Scaling Data:\n",
    "* Logistic Regression\n",
    "    * full_features_scaled_train - Make here\n",
    "    * full_features_scaled_test - Make here  \n",
    "\n",
    "\n",
    "With Polynomial Features:\n",
    "* Gaussian Naive Bayes\n",
    "    * full_features_train_poly - Make here\n",
    "    * full_features_test_poly - Make here\n",
    "\n",
    "\n",
    "Scaled Polynomial Features:\n",
    "* Logistic Regression\n",
    "* Gaussian Naive Bayes\n",
    "    * full_features_train_scaled_poly - Make here\n",
    "    * full_features_test_scaled_poly - Make here\n",
    "\n",
    "\n",
    "Adding Departments:\n",
    "* Multinomial Naive Bayes\n",
    "* Gausssian Naive Bayes\n",
    "    * full_features_train_with_dep - Already Made\n",
    "    * full_features_test_with_dep - Already Made"
   ]
  },
  {
   "cell_type": "markdown",
   "metadata": {},
   "source": [
    "# Train"
   ]
  },
  {
   "cell_type": "markdown",
   "metadata": {},
   "source": [
    "### Scaled Features"
   ]
  },
  {
   "cell_type": "code",
   "execution_count": 3,
   "metadata": {},
   "outputs": [],
   "source": [
    "df = pd.read_pickle('full_features_train')"
   ]
  },
  {
   "cell_type": "code",
   "execution_count": 5,
   "metadata": {},
   "outputs": [],
   "source": [
    "indexers_list = ['product_id','latest_cart','in_cart','user_id']\n",
    "indexers_df = df.loc[:,indexers_list]\n",
    "scaled_df = df.drop(indexers_list,axis=1)\n",
    "scaled_columns = scaled_df.columns.tolist()\n",
    "\n",
    "scaler = MinMaxScaler()\n",
    "scaled_df = scaler.fit_transform(scaled_df.values)\n",
    "\n",
    "df = indexers_df.merge(pd.DataFrame(pd.DataFrame(scaled_df,\n",
    "                    columns=scaled_columns)),left_index=True,right_index=True)"
   ]
  },
  {
   "cell_type": "code",
   "execution_count": 6,
   "metadata": {},
   "outputs": [],
   "source": [
    "pd.to_pickle(df,'full_features_scaled_train')"
   ]
  },
  {
   "cell_type": "markdown",
   "metadata": {},
   "source": [
    "### Polynomial Features"
   ]
  },
  {
   "cell_type": "code",
   "execution_count": 7,
   "metadata": {},
   "outputs": [],
   "source": [
    "df = pd.read_pickle('full_features_train')"
   ]
  },
  {
   "cell_type": "code",
   "execution_count": 8,
   "metadata": {},
   "outputs": [],
   "source": [
    "pf = PolynomialFeatures()\n",
    "indexers_list = ['product_id','latest_cart','in_cart','user_id']\n",
    "indexers_df = df.loc[:,indexers_list]\n",
    "normal_feats_df = df.drop(indexers_list,axis=1)\n",
    "poly_feats_df = pf.fit_transform(normal_feats_df)\n",
    "df = indexers_df.merge(pd.DataFrame(poly_feats_df),left_index=True,right_index=True)"
   ]
  },
  {
   "cell_type": "code",
   "execution_count": 9,
   "metadata": {},
   "outputs": [],
   "source": [
    "pd.to_pickle(df,'full_features_poly_train')"
   ]
  },
  {
   "cell_type": "markdown",
   "metadata": {},
   "source": [
    "### Scaled Polynomial Features"
   ]
  },
  {
   "cell_type": "markdown",
   "metadata": {},
   "source": [
    "Uses above-created polynomial features"
   ]
  },
  {
   "cell_type": "code",
   "execution_count": 10,
   "metadata": {},
   "outputs": [],
   "source": [
    "indexers_list = ['product_id','latest_cart','in_cart','user_id']\n",
    "non_scaled_df = df.loc[:,indexers_list]\n",
    "scaled_df = df.drop(indexers_list,axis=1)\n",
    "scaled_columns = scaled_df.columns.tolist()\n",
    "scaler = MinMaxScaler()\n",
    "scaled_df = scaler.fit_transform(scaled_df.values)\n",
    "df = indexers_df.merge(pd.DataFrame(pd.DataFrame(scaled_df,\n",
    "                    columns=scaled_columns)),left_index=True,right_index=True)"
   ]
  },
  {
   "cell_type": "code",
   "execution_count": 11,
   "metadata": {},
   "outputs": [],
   "source": [
    "pd.to_pickle(df,'full_features_scaled_poly_train')"
   ]
  },
  {
   "cell_type": "markdown",
   "metadata": {},
   "source": [
    "# Test"
   ]
  },
  {
   "cell_type": "markdown",
   "metadata": {},
   "source": [
    "### Scaled Features"
   ]
  },
  {
   "cell_type": "code",
   "execution_count": 3,
   "metadata": {},
   "outputs": [],
   "source": [
    "df = pd.read_pickle('full_features_test')"
   ]
  },
  {
   "cell_type": "code",
   "execution_count": 4,
   "metadata": {},
   "outputs": [],
   "source": [
    "indexers_list = ['product_id','user_id']\n",
    "indexers_df = df.loc[:,indexers_list]\n",
    "non_scaled_df = df.loc[:,indexers_list]\n",
    "scaled_df = df.drop(indexers_list,axis=1)\n",
    "scaled_columns = scaled_df.columns.tolist()\n",
    "\n",
    "scaler = MinMaxScaler()\n",
    "scaled_df = scaler.fit_transform(scaled_df.values)\n",
    "\n",
    "df = indexers_df.merge(pd.DataFrame(pd.DataFrame(scaled_df,\n",
    "                    columns=scaled_columns)),left_index=True,right_index=True)"
   ]
  },
  {
   "cell_type": "code",
   "execution_count": 5,
   "metadata": {},
   "outputs": [],
   "source": [
    "pd.to_pickle(df,'full_features_scaled_test')"
   ]
  },
  {
   "cell_type": "markdown",
   "metadata": {},
   "source": [
    "### Polynomial Features"
   ]
  },
  {
   "cell_type": "code",
   "execution_count": 6,
   "metadata": {},
   "outputs": [],
   "source": [
    "df = pd.read_pickle('full_features_test')"
   ]
  },
  {
   "cell_type": "code",
   "execution_count": 7,
   "metadata": {},
   "outputs": [],
   "source": [
    "pf = PolynomialFeatures()\n",
    "indexers_list = ['product_id','user_id']\n",
    "indexers_df = df.loc[:,indexers_list]\n",
    "normal_feats_df = df.drop(indexers_list,axis=1)\n",
    "poly_feats_df = pf.fit_transform(normal_feats_df)\n",
    "df = indexers_df.merge(pd.DataFrame(poly_feats_df),left_index=True,right_index=True)"
   ]
  },
  {
   "cell_type": "code",
   "execution_count": 8,
   "metadata": {},
   "outputs": [],
   "source": [
    "pd.to_pickle(df,'full_features_poly_test')"
   ]
  },
  {
   "cell_type": "markdown",
   "metadata": {},
   "source": [
    "### Scaled Polynomial Features"
   ]
  },
  {
   "cell_type": "markdown",
   "metadata": {},
   "source": [
    "Uses above-created polynomial features"
   ]
  },
  {
   "cell_type": "code",
   "execution_count": 9,
   "metadata": {},
   "outputs": [],
   "source": [
    "indexers_list = ['product_id','user_id']\n",
    "non_scaled_df = df.loc[:,indexers_list]\n",
    "scaled_df = df.drop(indexers_list,axis=1)\n",
    "scaled_columns = scaled_df.columns.tolist()\n",
    "scaler = MinMaxScaler()\n",
    "scaled_df = scaler.fit_transform(scaled_df.values)\n",
    "df = indexers_df.merge(pd.DataFrame(pd.DataFrame(scaled_df,\n",
    "                    columns=scaled_columns)),left_index=True,right_index=True)"
   ]
  },
  {
   "cell_type": "code",
   "execution_count": 10,
   "metadata": {},
   "outputs": [],
   "source": [
    "pd.to_pickle(df,'full_features_scaled_poly_test')"
   ]
  }
 ],
 "metadata": {
  "kernelspec": {
   "display_name": "Python 3",
   "language": "python",
   "name": "python3"
  },
  "language_info": {
   "codemirror_mode": {
    "name": "ipython",
    "version": 3
   },
   "file_extension": ".py",
   "mimetype": "text/x-python",
   "name": "python",
   "nbconvert_exporter": "python",
   "pygments_lexer": "ipython3",
   "version": "3.7.2"
  }
 },
 "nbformat": 4,
 "nbformat_minor": 2
}

{
 "cells": [
  {
   "cell_type": "markdown",
   "metadata": {},
   "source": [
    "Potential New Columns:  \n",
    "* Derived from prod_df\n",
    "    * sum of orders from department_id by user_id\n",
    "    * sum of orders from aisle_id by user_id\n",
    "    * word count from product_name\n",
    "        * number of times words from a particular product appear in all products\n",
    "        * note the potential for multicolinearity with count of product_id\n",
    "    * hour_of_day by product_id\n",
    "        * mean\n",
    "        * median\n",
    "        * mode\n",
    "        * standard deviation\n",
    "    * order_dow by product_id\n",
    "        * mean\n",
    "        * median\n",
    "        * mode\n",
    "        * standard deviation\n",
    "* Derived from ord_df:\n",
    "    * hour_of_day by user\n",
    "        * mean\n",
    "        * median\n",
    "        * mode\n",
    "        * standard deviation\n",
    "    * order_dow by user_id\n",
    "        * mean\n",
    "        * median\n",
    "        * mode\n",
    "        * standard deviation\n",
    "    * number of orders by user_id\n",
    "    * days_since_prior_order by user_id\n",
    "        * ~~mean - USED - POOR PREDICTOR~~\n",
    "        * ~~median - returned same as mean~~\n",
    "        * ~~mode - returned same as mean~~\n",
    "        * ~~standard deviation - Failed??? returned zeros~~\n",
    "        * ~~min - USED - POOR PREDICTOR~~\n",
    "        * ~~max - USED - POOR PREDICTOR~~\n",
    "    * ~~boolean for order on weekday or weekend - DOW NOT A GOOD PREDICTOR~~\n",
    "    * ~~boolean for order during/not during work hours - SHOULD BE COVERED BY MODE HOUR ORDERED~~\n",
    "* Derived from ord_prod_df join with ord_df:\n",
    "    * ~~mean order_hour_of_day for that product by user_id - NOT ENOUGH ORDERS PER PERSON~~\n",
    "    * ~~mode order_hour_of_day for that product by user_id - NOT ENOUGH ORDERS PER PERSON~~\n",
    "    * ~~mean order_hour_of_day by product - NOT A GOOD PREDICTOR~~\n",
    "    * mode order_hour_of_day by product - **Possibly a good predictor**\n",
    "    * ~~mean order_dow by product - NOT A GOOD PREDICTOR~~\n",
    "    * mode order_dow by product - NOT A GOOD PREDICTOR - **Possibly a good predictor**\n",
    "    * The increasing or decreasing frequency of orders for a particular item\n",
    "        * Group by order_id, sort by order_number\n",
    "        * join ord_prod_train_df with with ord_df on order_id\n",
    "* Derived from ord_prod_train_df\n",
    "    * sum reodered per product\n",
    "    * min add_to_cart_order\n",
    "    * mean add_to_cart_order\n",
    "    * median add_to_cart_order\n",
    "    * mode add_to_cart_order\n",
    "* dep_df:\n",
    "    * probably useless unless I do some NLP stuff\n",
    "    * Only includes department_id and department_name\n",
    "    \n",
    "\n",
    "    \n",
    "\n",
    "* N/A:\n",
    "    * Make feature based on what users order together.\n",
    "        * Note really usable because it would require real-time data.\n",
    "\n",
    "Total reorders by user\n",
    "\n",
    "last time they ordered a particular item:\n",
    "\n",
    "number of days since last ordered that item\n",
    "sum of days_since_prior_order (not including initial date but including all subsequent dates)\n",
    "    Sum of subsequent order numbers\n",
    "order_products_df join with \n",
    "\n",
    "for each item that someone has ever ordered, \n",
    "\n",
    "total re-orders for a user\n",
    "\n",
    "plot the line of best fit showing whether there's increasing or decreasing likelihood that someone will order something. rolling regression???\n",
    "likelihood of a specific user to reorder??? already covered...\n",
    "\n",
    "~~sum of reorders by product_id~~\n",
    "\n",
    "sum of reorders by user id???\n",
    "\n",
    "\n",
    "\n",
    "## Remember to think about what I want and how to get it rather than just what I have and what I can do with it\n",
    "\n",
    "tmux for keeping stuff running on aws"
   ]
  },
  {
   "cell_type": "code",
   "execution_count": 1,
   "metadata": {},
   "outputs": [],
   "source": [
    "from sklearn.linear_model import LinearRegression"
   ]
  },
  {
   "cell_type": "code",
   "execution_count": 2,
   "metadata": {},
   "outputs": [],
   "source": [
    "# `[1,0]` indicates item ordered. `[0,1]` indicate that the item was not ordered.\n",
    "# an incerasing coefficient means that the user is ordering the item more now\n",
    "# than they were previously.\n",
    "\n",
    "X = [[0,1],[0,1],[0,1],[0,1],[0,1],[1,0],[1,0],[1,0],[0,1],[1,0],[1,0],[0,1],[1,0],[1,0],[1,0]] # example order history\n",
    "# X = [[0,1],[0,1],[0,1],[0,1],[0,1],[0,1],[0,1],[0,1],[0,1],[0,1],[0,1],[0,1],[0,1],[0,1],[1,0]] # example order history\n",
    "# X = [[1,0],[0,1],[0,1],[0,1],[0,1],[0,1],[0,1],[0,1],[0,1],[0,1],[0,1],[0,1],[0,1],[0,1],[0,1]] # example order history\n",
    "y = [1,2,3,4,5,6,7,8,9,10,11,12,13,14,15] # this will be our order umber"
   ]
  },
  {
   "cell_type": "code",
   "execution_count": 3,
   "metadata": {},
   "outputs": [
    {
     "data": {
      "text/plain": [
       "2.6785714285714266"
      ]
     },
     "execution_count": 3,
     "metadata": {},
     "output_type": "execute_result"
    }
   ],
   "source": [
    "lr = LinearRegression()\n",
    "lr.fit(X, y)\n",
    "lr.coef_[0]"
   ]
  },
  {
   "cell_type": "markdown",
   "metadata": {},
   "source": [
    "#### Checklist\n",
    "\n",
    "polynomial - squaring and rooting all features, etc.  \n",
    "perfect logistic - randomized gridsearch -> hyper parameters, threshold\n",
    "setup amazon\n",
    "run xgboost\n",
    "ensembling  (svm and knn too slow,  definitely try naive bayes and maybe xgboost)\n",
    "~~Department - Get_dummies~~~  \n",
    "\n",
    "\n",
    "\n",
    "\n",
    "\n",
    "\n",
    "\n",
    "\n",
    "class imbalance  hold off on this  \n",
    "  \n",
    "\n",
    "\n"
   ]
  },
  {
   "cell_type": "markdown",
   "metadata": {},
   "source": [
    "build a case for using f1-score"
   ]
  },
  {
   "cell_type": "markdown",
   "metadata": {},
   "source": [
    "get rid of people who are les likely to order for the sake of training (class imbalance)"
   ]
  }
 ],
 "metadata": {
  "kernelspec": {
   "display_name": "Python 3",
   "language": "python",
   "name": "python3"
  },
  "language_info": {
   "codemirror_mode": {
    "name": "ipython",
    "version": 3
   },
   "file_extension": ".py",
   "mimetype": "text/x-python",
   "name": "python",
   "nbconvert_exporter": "python",
   "pygments_lexer": "ipython3",
   "version": "3.7.2"
  }
 },
 "nbformat": 4,
 "nbformat_minor": 2
}

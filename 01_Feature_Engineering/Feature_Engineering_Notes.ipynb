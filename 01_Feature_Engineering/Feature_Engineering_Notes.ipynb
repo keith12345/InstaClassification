{
 "cells": [
  {
   "cell_type": "markdown",
   "metadata": {},
   "source": [
    "Potential New Columns:  \n",
    "* Derived from prod_df\n",
    "    * sum of orders from department_id by user_id\n",
    "    * sum of orders from aisle_id by user_id\n",
    "    * word count from product_name\n",
    "        * number of times words from a particular product appear in all products\n",
    "        * note the potential for multicolinearity with count of product_id\n",
    "* Derived from ord_df:\n",
    "    * mean order_hour_of_day by user_id\n",
    "    * mode order_hour_of_day by user_id\n",
    "    * mean order_dow by user_id\n",
    "    * mode order_dow by user_id\n",
    "    * max order_number by user_id\n",
    "    * max days_since_prior_order\n",
    "    * min days_since_prior_order\n",
    "    * average days between orders - mean of days_since_prior_order\n",
    "    * median days_since_prior_order\n",
    "    * mode days_since_prior_order\n",
    "    * count of mode for days_since_prior_order\n",
    "    * boolean for order on weekday or weekend\n",
    "* Derived from ord_prod_df join with ord_df:\n",
    "    * mean order_hour_of_day for that item by user_id\n",
    "    * mode order_hour_of_day for that item by user_id\n",
    "    * mean order_dow for that item by user_id\n",
    "    * mode order_dow for that item by user_id\n",
    "    * The increasing or decreasing frequency of orders for a particular item\n",
    "        * Group by order_id, sort by order_number\n",
    "        * join ord_prod_train_df with with ord_df on order_id\n",
    "    * boolean for order during work hours or outside work hours \n",
    "        * potential for multicolinearity boolean for order on weekday or weekend derived from ord_df\n",
    "* Derived from ord_prod_train_df\n",
    "    * sum reodered\n",
    "        * could potentially do the mean of reordered as the would better take into account how frequently they put something in their cart. sum could over train for people who simply have shopped more times.\n",
    "    * min add_to_cart_order\n",
    "    * mean add_to_cart_order\n",
    "    * median add_to_cart_order\n",
    "    * mode add_to_cart_order\n",
    "* dep_df:\n",
    "    * probably useless unless I do some NLP stuff\n",
    "    * Only includes department_id and department_name\n",
    "    \n",
    "\n",
    "    \n",
    "\n",
    "* N/A:\n",
    "    * Make feature based on what users order together.\n",
    "        * Note really usable because it would require real-time data."
   ]
  },
  {
   "cell_type": "code",
   "execution_count": null,
   "metadata": {},
   "outputs": [],
   "source": []
  }
 ],
 "metadata": {
  "kernelspec": {
   "display_name": "Python 3",
   "language": "python",
   "name": "python3"
  },
  "language_info": {
   "codemirror_mode": {
    "name": "ipython",
    "version": 3
   },
   "file_extension": ".py",
   "mimetype": "text/x-python",
   "name": "python",
   "nbconvert_exporter": "python",
   "pygments_lexer": "ipython3",
   "version": "3.7.2"
  }
 },
 "nbformat": 4,
 "nbformat_minor": 2
}

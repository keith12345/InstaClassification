{
 "cells": [
  {
   "cell_type": "markdown",
   "metadata": {},
   "source": [
    "load the respective training data  \n",
    "load the respective test data  \n",
    "add function(s) specific to that dataset  \n",
    "train each model on the training data  \n",
    "pickle the trained model (for safe keeping, not totally necessary)  \n",
    "make predictions on the test data  \n",
    "pickle the results  "
   ]
  },
  {
   "cell_type": "code",
   "execution_count": 1,
   "metadata": {},
   "outputs": [],
   "source": [
    "import os\n",
    "\n",
    "import pandas as pd\n",
    "import numpy as np\n",
    "\n",
    "from predict_submit_funcs import submit_fit_score_pred_log, submit_fit_score_pred_G_NB, submit_fit_score_pred_M_NB, submit_fit_score_pred_rfc\n",
    "\n",
    "import pickle\n"
   ]
  },
  {
   "cell_type": "code",
   "execution_count": 2,
   "metadata": {},
   "outputs": [],
   "source": [
    "os.chdir('../Data/')"
   ]
  },
  {
   "cell_type": "code",
   "execution_count": 3,
   "metadata": {},
   "outputs": [],
   "source": [
    "ord_df = pd.read_csv('orders.csv')\n",
    "final_order_id = ord_df[ord_df.eval_set=='test'].loc[:,['order_id','user_id']]"
   ]
  },
  {
   "cell_type": "markdown",
   "metadata": {},
   "source": [
    "# Without adding department"
   ]
  },
  {
   "cell_type": "code",
   "execution_count": 4,
   "metadata": {},
   "outputs": [],
   "source": [
    "train_df = pd.read_pickle('full_features_train')\n",
    "test_df = pd.read_pickle('full_features_test')"
   ]
  },
  {
   "cell_type": "markdown",
   "metadata": {},
   "source": [
    "## Logistic Regression"
   ]
  },
  {
   "cell_type": "code",
   "execution_count": 5,
   "metadata": {},
   "outputs": [],
   "source": [
    "predictions = submit_fit_score_pred_log(train_df, test_df, final_order_id,C=11250)\n",
    "pd.DataFrame.to_csv(predictions,'predictions_full_features_log')"
   ]
  },
  {
   "cell_type": "markdown",
   "metadata": {},
   "source": [
    "## Gaussian Naive Bayes"
   ]
  },
  {
   "cell_type": "code",
   "execution_count": 6,
   "metadata": {},
   "outputs": [],
   "source": [
    "predictions = submit_fit_score_pred_G_NB(train_df, test_df, final_order_id)\n",
    "pd.DataFrame.to_csv(predictions,'predictions_full_features_g_nb')"
   ]
  },
  {
   "cell_type": "markdown",
   "metadata": {},
   "source": [
    "## Random Forest"
   ]
  },
  {
   "cell_type": "code",
   "execution_count": 7,
   "metadata": {},
   "outputs": [],
   "source": [
    "predictions = submit_fit_score_pred_rfc(train_df, test_df, final_order_id)\n",
    "pd.DataFrame.to_csv(predictions,'predictions_full_features_rfc')"
   ]
  },
  {
   "cell_type": "markdown",
   "metadata": {},
   "source": [
    "# After Scaling Data"
   ]
  },
  {
   "cell_type": "code",
   "execution_count": 8,
   "metadata": {},
   "outputs": [],
   "source": [
    "train_df = pd.read_pickle('full_features_scaled_train')\n",
    "test_df = pd.read_pickle('full_features_scaled_test')"
   ]
  },
  {
   "cell_type": "markdown",
   "metadata": {},
   "source": [
    "## Logistic Regression"
   ]
  },
  {
   "cell_type": "code",
   "execution_count": 9,
   "metadata": {},
   "outputs": [],
   "source": [
    "predictions = submit_fit_score_pred_log(train_df, test_df, final_order_id,C=10611)\n",
    "pd.DataFrame.to_csv(predictions,'predictions_full_features_scaled_log')"
   ]
  },
  {
   "cell_type": "markdown",
   "metadata": {},
   "source": [
    "# With Polynomial Features"
   ]
  },
  {
   "cell_type": "code",
   "execution_count": 11,
   "metadata": {},
   "outputs": [],
   "source": [
    "train_df = pd.read_pickle('full_features_poly_train')\n",
    "test_df = pd.read_pickle('full_features_poly_test')"
   ]
  },
  {
   "cell_type": "markdown",
   "metadata": {},
   "source": [
    "## Gaussian Naive Bayes"
   ]
  },
  {
   "cell_type": "code",
   "execution_count": 12,
   "metadata": {},
   "outputs": [],
   "source": [
    "predictions = submit_fit_score_pred_G_NB(train_df, test_df, final_order_id)\n",
    "pd.DataFrame.to_csv(predictions,'predictions_full_features_poly_g_nb')"
   ]
  },
  {
   "cell_type": "markdown",
   "metadata": {},
   "source": [
    "# Scaled Polynomial Features"
   ]
  },
  {
   "cell_type": "code",
   "execution_count": 4,
   "metadata": {},
   "outputs": [],
   "source": [
    "train_df = pd.read_pickle('full_features_scaled_poly_train')\n",
    "test_df = pd.read_pickle('full_features_scaled_poly_test')"
   ]
  },
  {
   "cell_type": "markdown",
   "metadata": {},
   "source": [
    "## Logistic Regression"
   ]
  },
  {
   "cell_type": "code",
   "execution_count": null,
   "metadata": {},
   "outputs": [],
   "source": [
    "predictions, lr = submit_fit_score_pred_log(train_df, test_df, final_order_id,C=11250)\n",
    "pd.DataFrame.to_csv(predictions,'predictions_full_features_scaled_poly_log')\n",
    "\n",
    "with open(\"../Models/full_features_scaled_poly_log_model.pkl\", \"wb\") as f:\n",
    "    pickle.dump(lr, f)"
   ]
  },
  {
   "cell_type": "markdown",
   "metadata": {},
   "source": [
    "## Gaussian Naive Bayes"
   ]
  },
  {
   "cell_type": "code",
   "execution_count": 5,
   "metadata": {},
   "outputs": [],
   "source": [
    "predictions, gnb = submit_fit_score_pred_G_NB(train_df, test_df, final_order_id)\n",
    "pd.DataFrame.to_csv(predictions,'predictions_full_features_scaled_poly_g_nb')\n",
    "\n",
    "with open(\"../Models/full_features_scaled_poly_log_g_nb.pkl\", \"wb\") as f:\n",
    "    pickle.dump(gnb, f)"
   ]
  },
  {
   "cell_type": "markdown",
   "metadata": {},
   "source": [
    "# Adding Departments"
   ]
  },
  {
   "cell_type": "code",
   "execution_count": 4,
   "metadata": {},
   "outputs": [],
   "source": [
    "train_df = pd.read_pickle('full_features_with_dep_train')\n",
    "test_df = pd.read_pickle('full_features_with_dep_test')"
   ]
  },
  {
   "cell_type": "markdown",
   "metadata": {},
   "source": [
    "## Gaussian Naive Bayes"
   ]
  },
  {
   "cell_type": "code",
   "execution_count": 6,
   "metadata": {},
   "outputs": [],
   "source": [
    "predictions, gnb = submit_fit_score_pred_G_NB(train_df, test_df, final_order_id)\n",
    "pd.DataFrame.to_csv(predictions,'predictions_full_features_dep_g_nb')\n",
    "\n",
    "with open(\"../Models/full_features_with_dep_g_nb.pkl\", \"wb\") as f:\n",
    "    pickle.dump(gnb, f)"
   ]
  },
  {
   "cell_type": "markdown",
   "metadata": {},
   "source": [
    "## Multinomial Naive Bayes"
   ]
  },
  {
   "cell_type": "code",
   "execution_count": 5,
   "metadata": {},
   "outputs": [],
   "source": [
    "predictions, mnb = submit_fit_score_pred_M_NB(train_df, test_df, final_order_id)\n",
    "pd.DataFrame.to_csv(predictions,'predictions_full_features_dep_m_nb')\n",
    "\n",
    "with open(\"../Models/full_features_with_dep_m_nb.pkl\", \"wb\") as f:\n",
    "    pickle.dump(mnb, f)"
   ]
  },
  {
   "cell_type": "markdown",
   "metadata": {},
   "source": [
    "# Combining Predictions"
   ]
  },
  {
   "cell_type": "markdown",
   "metadata": {},
   "source": [
    "``` python \n",
    "pd.read_csv('predictions_full_features_log')\n",
    "pd.read_csv('predictions_full_features_g_nb')\n",
    "pd.read_csv('predictions_full_features_rfc')\n",
    "pd.read_csv('predictions_full_features_scaled_log')\n",
    "pd.read_csv('predictions_full_features_poly_g_nb')\n",
    "pd.read_csv('predictions_full_features_scaled_poly_log')\n",
    "pd.read_csv('predictions_full_features_scaled_poly_g_nb')\n",
    "pd.read_csv('predictions_full_features_dep_g_nb')\n",
    "pd.read_csv('predictions_full_features_dep_m_nb')\n",
    "```"
   ]
  },
  {
   "cell_type": "code",
   "execution_count": null,
   "metadata": {},
   "outputs": [],
   "source": []
  },
  {
   "cell_type": "code",
   "execution_count": 89,
   "metadata": {},
   "outputs": [],
   "source": [
    "csvs = ['predictions_full_features_g_nb',\n",
    "'predictions_full_features_rfc','predictions_full_features_scaled_log',\n",
    "'predictions_full_features_scaled_poly_log',\n",
    "'predictions_full_features_scaled_poly_g_nb','predictions_full_features_dep_g_nb']\n",
    "\n",
    "df = pd.read_csv('predictions_full_features_dep_m_nb',index_col='Unnamed: 0')\n",
    "for csv in csvs:\n",
    "    df.prediction = pd.read_csv(csv).prediction + df.prediction\n",
    "\n",
    "df.prediction = df.prediction / 7\n",
    "\n"
   ]
  },
  {
   "cell_type": "code",
   "execution_count": 90,
   "metadata": {},
   "outputs": [
    {
     "data": {
      "text/html": [
       "<div>\n",
       "<style scoped>\n",
       "    .dataframe tbody tr th:only-of-type {\n",
       "        vertical-align: middle;\n",
       "    }\n",
       "\n",
       "    .dataframe tbody tr th {\n",
       "        vertical-align: top;\n",
       "    }\n",
       "\n",
       "    .dataframe thead th {\n",
       "        text-align: right;\n",
       "    }\n",
       "</style>\n",
       "<table border=\"1\" class=\"dataframe\">\n",
       "  <thead>\n",
       "    <tr style=\"text-align: right;\">\n",
       "      <th></th>\n",
       "      <th>product_id</th>\n",
       "      <th>user_id</th>\n",
       "      <th>prediction</th>\n",
       "      <th>order_id</th>\n",
       "    </tr>\n",
       "  </thead>\n",
       "  <tbody>\n",
       "    <tr>\n",
       "      <th>0</th>\n",
       "      <td>1</td>\n",
       "      <td>764</td>\n",
       "      <td>0.714286</td>\n",
       "      <td>2563471</td>\n",
       "    </tr>\n",
       "    <tr>\n",
       "      <th>1</th>\n",
       "      <td>40199</td>\n",
       "      <td>764</td>\n",
       "      <td>0.142857</td>\n",
       "      <td>2563471</td>\n",
       "    </tr>\n",
       "    <tr>\n",
       "      <th>2</th>\n",
       "      <td>8859</td>\n",
       "      <td>764</td>\n",
       "      <td>1.000000</td>\n",
       "      <td>2563471</td>\n",
       "    </tr>\n",
       "    <tr>\n",
       "      <th>3</th>\n",
       "      <td>22340</td>\n",
       "      <td>764</td>\n",
       "      <td>0.857143</td>\n",
       "      <td>2563471</td>\n",
       "    </tr>\n",
       "    <tr>\n",
       "      <th>4</th>\n",
       "      <td>48667</td>\n",
       "      <td>764</td>\n",
       "      <td>0.142857</td>\n",
       "      <td>2563471</td>\n",
       "    </tr>\n",
       "  </tbody>\n",
       "</table>\n",
       "</div>"
      ],
      "text/plain": [
       "   product_id  user_id  prediction  order_id\n",
       "0           1      764    0.714286   2563471\n",
       "1       40199      764    0.142857   2563471\n",
       "2        8859      764    1.000000   2563471\n",
       "3       22340      764    0.857143   2563471\n",
       "4       48667      764    0.142857   2563471"
      ]
     },
     "execution_count": 90,
     "metadata": {},
     "output_type": "execute_result"
    }
   ],
   "source": [
    "df.head()"
   ]
  },
  {
   "cell_type": "code",
   "execution_count": 83,
   "metadata": {},
   "outputs": [],
   "source": [
    "conditions = [\n",
    "    (df.prediction > 0.4),\n",
    "    (df.prediction < 0.4)\n",
    "]\n",
    "choices = [1,0]\n",
    "df.prediction = np.select(conditions, choices)"
   ]
  },
  {
   "cell_type": "code",
   "execution_count": 84,
   "metadata": {},
   "outputs": [],
   "source": [
    "def format_for_submission(predictions):\n",
    "    predictions['product_id'] = predictions.prediction * predictions.product_id\n",
    "    predictions.drop('prediction',axis=1,inplace=True)\n",
    "    predictions = (pd.DataFrame(predictions.groupby('order_id')\n",
    "                    ['product_id'].apply(products_concat)).reset_index())\n",
    "    predictions.columns = ['order_id','products']\n",
    "    return predictions"
   ]
  },
  {
   "cell_type": "code",
   "execution_count": 85,
   "metadata": {},
   "outputs": [],
   "source": [
    "def products_concat(series):\n",
    "    out = ''\n",
    "    for product in series:\n",
    "        if product > 0:\n",
    "            out = out + str(int(product)) + ' '\n",
    "    \n",
    "    if out != '':\n",
    "        return out.rstrip()\n",
    "    else:\n",
    "        return 'None'"
   ]
  },
  {
   "cell_type": "code",
   "execution_count": 86,
   "metadata": {},
   "outputs": [],
   "source": [
    "predictions = format_for_submission(df)"
   ]
  },
  {
   "cell_type": "code",
   "execution_count": 87,
   "metadata": {},
   "outputs": [
    {
     "data": {
      "text/html": [
       "<div>\n",
       "<style scoped>\n",
       "    .dataframe tbody tr th:only-of-type {\n",
       "        vertical-align: middle;\n",
       "    }\n",
       "\n",
       "    .dataframe tbody tr th {\n",
       "        vertical-align: top;\n",
       "    }\n",
       "\n",
       "    .dataframe thead th {\n",
       "        text-align: right;\n",
       "    }\n",
       "</style>\n",
       "<table border=\"1\" class=\"dataframe\">\n",
       "  <thead>\n",
       "    <tr style=\"text-align: right;\">\n",
       "      <th></th>\n",
       "      <th>product_id</th>\n",
       "      <th>user_id</th>\n",
       "      <th>order_id</th>\n",
       "    </tr>\n",
       "  </thead>\n",
       "  <tbody>\n",
       "    <tr>\n",
       "      <th>0</th>\n",
       "      <td>1</td>\n",
       "      <td>764</td>\n",
       "      <td>2563471</td>\n",
       "    </tr>\n",
       "    <tr>\n",
       "      <th>1</th>\n",
       "      <td>0</td>\n",
       "      <td>764</td>\n",
       "      <td>2563471</td>\n",
       "    </tr>\n",
       "    <tr>\n",
       "      <th>2</th>\n",
       "      <td>8859</td>\n",
       "      <td>764</td>\n",
       "      <td>2563471</td>\n",
       "    </tr>\n",
       "    <tr>\n",
       "      <th>3</th>\n",
       "      <td>22340</td>\n",
       "      <td>764</td>\n",
       "      <td>2563471</td>\n",
       "    </tr>\n",
       "    <tr>\n",
       "      <th>4</th>\n",
       "      <td>0</td>\n",
       "      <td>764</td>\n",
       "      <td>2563471</td>\n",
       "    </tr>\n",
       "  </tbody>\n",
       "</table>\n",
       "</div>"
      ],
      "text/plain": [
       "   product_id  user_id  order_id\n",
       "0           1      764   2563471\n",
       "1           0      764   2563471\n",
       "2        8859      764   2563471\n",
       "3       22340      764   2563471\n",
       "4           0      764   2563471"
      ]
     },
     "execution_count": 87,
     "metadata": {},
     "output_type": "execute_result"
    }
   ],
   "source": [
    "df.head()"
   ]
  },
  {
   "cell_type": "code",
   "execution_count": 88,
   "metadata": {},
   "outputs": [],
   "source": [
    "pd.DataFrame.to_csv(predictions,'predictions_ensemble.csv',index=False)"
   ]
  },
  {
   "cell_type": "code",
   "execution_count": null,
   "metadata": {},
   "outputs": [],
   "source": []
  }
 ],
 "metadata": {
  "kernelspec": {
   "display_name": "Python 3",
   "language": "python",
   "name": "python3"
  },
  "language_info": {
   "codemirror_mode": {
    "name": "ipython",
    "version": 3
   },
   "file_extension": ".py",
   "mimetype": "text/x-python",
   "name": "python",
   "nbconvert_exporter": "python",
   "pygments_lexer": "ipython3",
   "version": "3.7.2"
  }
 },
 "nbformat": 4,
 "nbformat_minor": 2
}

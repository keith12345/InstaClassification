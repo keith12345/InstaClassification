{
 "cells": [
  {
   "cell_type": "code",
   "execution_count": 6,
   "metadata": {},
   "outputs": [],
   "source": [
    "# load packages\n",
    "import plotly.plotly as py\n",
    "import plotly.figure_factory as ff\n",
    "import plotly.graph_objs as go\n",
    "\n",
    "import pandas as pd\n",
    "import numpy as np\n",
    "\n",
    "import os"
   ]
  },
  {
   "cell_type": "code",
   "execution_count": 7,
   "metadata": {},
   "outputs": [],
   "source": [
    "os.chdir('../Data/')"
   ]
  },
  {
   "cell_type": "code",
   "execution_count": 45,
   "metadata": {},
   "outputs": [],
   "source": [
    "df = pd.read_pickle('percentage_reorders_by_aisle')"
   ]
  },
  {
   "cell_type": "code",
   "execution_count": 10,
   "metadata": {},
   "outputs": [],
   "source": [
    "table = ff.create_table(df)\n",
    "#py.iplot(table, filename='jupyter-table1')"
   ]
  },
  {
   "cell_type": "code",
   "execution_count": 47,
   "metadata": {},
   "outputs": [
    {
     "name": "stderr",
     "output_type": "stream",
     "text": [
      "/anaconda3/lib/python3.7/site-packages/IPython/core/display.py:689: UserWarning:\n",
      "\n",
      "Consider using IPython.display.IFrame instead\n",
      "\n"
     ]
    },
    {
     "data": {
      "text/html": [
       "<iframe id=\"igraph\" scrolling=\"no\" style=\"border:none;\" seamless=\"seamless\" src=\"https://plot.ly/~keith12345/22.embed\" height=\"525px\" width=\"100%\"></iframe>"
      ],
      "text/plain": [
       "<plotly.tools.PlotlyDisplay object>"
      ]
     },
     "execution_count": 47,
     "metadata": {},
     "output_type": "execute_result"
    }
   ],
   "source": [
    "\n",
    "\n",
    "trace1 = {\"x\": df[df['Order Status'] == 'Reordered']['Percent of Reorders Containing Aisle'], \n",
    "          \"y\": df[df['Order Status'] == 'Reordered']['Number of Orders'], \n",
    "          \"marker\": {\"color\": \"grey\", \"size\": 12}, \n",
    "          \"mode\": \"markers\", \n",
    "          \"name\": \"Reordered\", \n",
    "          'text': df[df['Order Status'] == 'Reordered']['Aisle'],\n",
    "          \"type\": \"scatter\"\n",
    "}\n",
    "\n",
    "trace2 = {\"x\": df[df['Order Status'] == 'First Order']['Percent of Reorders Containing Aisle'], \n",
    "          \"y\": df[df['Order Status'] == 'First Order']['Number of Orders'], \n",
    "          \"marker\": {\"color\": \"blue\", \"size\": 12}, \n",
    "          \"mode\": \"markers\", \n",
    "          \"name\": \"First Order\", \n",
    "          'text': df[df['Order Status'] == 'First Order']['Aisle'],\n",
    "          \"type\": \"scatter\", \n",
    "}\n",
    "\n",
    "data = [trace1, trace2]\n",
    "layout = go.Layout(\n",
    "    {\"title\": \"New Orders and Reorders by Aisle\"}, \n",
    "    xaxis=dict(\n",
    "        type='log',\n",
    "        autorange=True,\n",
    "        title='Percent of Reorders Containing Aisle'\n",
    "    ),\n",
    "    yaxis=dict(\n",
    "        type='log',\n",
    "        autorange=True,\n",
    "        title='Number of Orders'\n",
    "    )\n",
    ")\n",
    "fig = go.Figure(data=data, layout=layout)\n",
    "py.iplot(fig)"
   ]
  },
  {
   "cell_type": "code",
   "execution_count": 48,
   "metadata": {},
   "outputs": [],
   "source": [
    "df = pd.read_pickle('percentage_reorders_by_department')"
   ]
  },
  {
   "cell_type": "code",
   "execution_count": 88,
   "metadata": {},
   "outputs": [
    {
     "data": {
      "text/html": [
       "<div>\n",
       "<style scoped>\n",
       "    .dataframe tbody tr th:only-of-type {\n",
       "        vertical-align: middle;\n",
       "    }\n",
       "\n",
       "    .dataframe tbody tr th {\n",
       "        vertical-align: top;\n",
       "    }\n",
       "\n",
       "    .dataframe thead th {\n",
       "        text-align: right;\n",
       "    }\n",
       "</style>\n",
       "<table border=\"1\" class=\"dataframe\">\n",
       "  <thead>\n",
       "    <tr style=\"text-align: right;\">\n",
       "      <th></th>\n",
       "      <th>Department</th>\n",
       "      <th>Number of Orders</th>\n",
       "      <th>Order Status</th>\n",
       "      <th>Percent of Reorders Containing Department</th>\n",
       "    </tr>\n",
       "  </thead>\n",
       "  <tbody>\n",
       "    <tr>\n",
       "      <th>0</th>\n",
       "      <td>produce</td>\n",
       "      <td>6160710</td>\n",
       "      <td>Reordered</td>\n",
       "      <td>0.610559</td>\n",
       "    </tr>\n",
       "    <tr>\n",
       "      <th>1</th>\n",
       "      <td>dairy eggs</td>\n",
       "      <td>3627221</td>\n",
       "      <td>Reordered</td>\n",
       "      <td>0.527302</td>\n",
       "    </tr>\n",
       "    <tr>\n",
       "      <th>2</th>\n",
       "      <td>beverages</td>\n",
       "      <td>1757892</td>\n",
       "      <td>Reordered</td>\n",
       "      <td>0.332406</td>\n",
       "    </tr>\n",
       "    <tr>\n",
       "      <th>3</th>\n",
       "      <td>snacks</td>\n",
       "      <td>1657973</td>\n",
       "      <td>Reordered</td>\n",
       "      <td>0.289274</td>\n",
       "    </tr>\n",
       "    <tr>\n",
       "      <th>4</th>\n",
       "      <td>frozen</td>\n",
       "      <td>1211890</td>\n",
       "      <td>Reordered</td>\n",
       "      <td>0.237016</td>\n",
       "    </tr>\n",
       "  </tbody>\n",
       "</table>\n",
       "</div>"
      ],
      "text/plain": [
       "   Department  Number of Orders Order Status  \\\n",
       "0     produce           6160710    Reordered   \n",
       "1  dairy eggs           3627221    Reordered   \n",
       "2   beverages           1757892    Reordered   \n",
       "3      snacks           1657973    Reordered   \n",
       "4      frozen           1211890    Reordered   \n",
       "\n",
       "   Percent of Reorders Containing Department  \n",
       "0                                   0.610559  \n",
       "1                                   0.527302  \n",
       "2                                   0.332406  \n",
       "3                                   0.289274  \n",
       "4                                   0.237016  "
      ]
     },
     "execution_count": 88,
     "metadata": {},
     "output_type": "execute_result"
    }
   ],
   "source": [
    "df"
   ]
  },
  {
   "cell_type": "code",
   "execution_count": 89,
   "metadata": {},
   "outputs": [
    {
     "data": {
      "text/html": [
       "<iframe id=\"igraph\" scrolling=\"no\" style=\"border:none;\" seamless=\"seamless\" src=\"https://plot.ly/~keith12345/62.embed\" height=\"600px\" width=\"1000px\"></iframe>"
      ],
      "text/plain": [
       "<plotly.tools.PlotlyDisplay object>"
      ]
     },
     "execution_count": 89,
     "metadata": {},
     "output_type": "execute_result"
    }
   ],
   "source": [
    "\n",
    "\n",
    "trace1 = {\"x\": df[df['Order Status'] == 'Reordered']['Percent of Reorders Containing Department'], \n",
    "          \"y\": df[df['Order Status'] == 'Reordered']['Number of Orders'], \n",
    "          \"marker\": {\"color\": \"grey\", \"size\": 12}, \n",
    "          \"mode\": \"text\", \n",
    "          \"name\": \"Reordered Product\", \n",
    "          'text': df[df['Order Status'] == 'Reordered']['Department'],\n",
    "          'textfont': dict(\n",
    "              family='Global Font',\n",
    "              size=18,\n",
    "              color='#519430'\n",
    "          ),\n",
    "          \"type\": \"scatter\"\n",
    "}\n",
    "\n",
    "trace2 = {\"x\": df[df['Order Status'] == 'First Order']['Percent of Reorders Containing Department'], \n",
    "          \"y\": df[df['Order Status'] == 'First Order']['Number of Orders'], \n",
    "          \"marker\": {\"color\": \"blue\", \"size\": 12}, \n",
    "          \"mode\": \"text\", \n",
    "          \"name\": \"New Product\", \n",
    "          'text': df[df['Order Status'] == 'First Order']['Department'],\n",
    "          'textfont': dict(\n",
    "              family='Global Font',\n",
    "              size=18,\n",
    "              color='#FF8300'\n",
    "          ),\n",
    "          \"type\": \"scatter\", \n",
    "}\n",
    "\n",
    "layout = go.Layout(\n",
    "    autosize=False,\n",
    "    width=1000,\n",
    "    height=600,\n",
    "    title=\"New Orders and Reorders by Department\",\n",
    "    xaxis=dict(\n",
    "        type='log',\n",
    "        autorange=True,\n",
    "        title='Percent of Orders Containing Product by Department'\n",
    "    ),    \n",
    "    yaxis=dict(\n",
    "        type='log',\n",
    "        autorange=True,\n",
    "        title='Number of Products Ordered by Department'\n",
    "    )\n",
    ")\n",
    "\n",
    "fig = go.Figure(data=data, layout=layout)\n",
    "py.iplot(fig)"
   ]
  },
  {
   "cell_type": "code",
   "execution_count": null,
   "metadata": {},
   "outputs": [],
   "source": []
  }
 ],
 "metadata": {
  "kernelspec": {
   "display_name": "Python 3",
   "language": "python",
   "name": "python3"
  },
  "language_info": {
   "codemirror_mode": {
    "name": "ipython",
    "version": 3
   },
   "file_extension": ".py",
   "mimetype": "text/x-python",
   "name": "python",
   "nbconvert_exporter": "python",
   "pygments_lexer": "ipython3",
   "version": "3.7.2"
  }
 },
 "nbformat": 4,
 "nbformat_minor": 2
}

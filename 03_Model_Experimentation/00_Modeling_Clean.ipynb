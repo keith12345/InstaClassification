{
 "cells": [
  {
   "cell_type": "code",
   "execution_count": 1,
   "metadata": {},
   "outputs": [],
   "source": [
    "import os\n",
    "\n",
    "import pandas as pd\n",
    "import numpy as np\n",
    "\n",
    "import seaborn as sns\n",
    "import matplotlib.pyplot as plt\n",
    "\n",
    "from sklearn.preprocessing import MinMaxScaler, PolynomialFeatures\n",
    "\n",
    "import xgboost as xgb\n",
    "import xgboost as XGBClassifier\n",
    "\n",
    "\n",
    "from Standard_functions import plot_features, get_user_split_data, plot_fit_score_pred, fit_score_pred, kfold_val_fit_score_pred_log, kfold_val_fit_score_pred_G_NB, kfold_val_fit_score_pred_RF, fit_score_pred_RF, kfold_val_fit_score_pred_M_NB, fit_score_pred_G_NB\n",
    "\n",
    "import warnings\n",
    "\n",
    "warnings.filterwarnings('always') \n",
    "np.seterr(divide='ignore', invalid='ignore')\n",
    "%matplotlib inline"
   ]
  },
  {
   "cell_type": "code",
   "execution_count": 2,
   "metadata": {},
   "outputs": [],
   "source": [
    "os.chdir('../Data/')"
   ]
  },
  {
   "cell_type": "markdown",
   "metadata": {},
   "source": [
    "## Logistic Regression\n",
    "Out of box Logistic Regression \n",
    "Average f1-score: 0.250 +- 0.001\n",
    "\n",
    "Adding departments:\n",
    "Average f1-score: 0.247 +- 0.004\n",
    "\n",
    "After scaling data:\n",
    "\n",
    "With polynomial features:\n",
    "Average f1-score: 0.190 +- 0.003\n",
    "   \n",
    "## Gaussian Naive Bayes - All Features\n",
    "Average f1-score: 0.347 +- 0.001\n",
    "\n",
    "Out of box Gaussian Naive Bayes\n",
    "Average f1-score: 0.400 +- 0.001\n",
    "\n",
    "Added Department Features:\n",
    "Average f1-score: 0.401 +- 0.001\n",
    "\n",
    "After Scaling Data:\n",
    "Average f1-score: 0.267 +- 0.002\n",
    "\n",
    "With polynomial features:\n",
    "Our f1-score is 0.396\n",
    "\n",
    "## Random Forest n_estimators = 10  - All Features\n",
    "Average f1-score: 0.278 +- 0.002\n",
    "\n",
    "## Multinomial Naive Bayes - All Features\n",
    "Average f1-score: 0.286 +- 0.000\n",
    "\n",
    "After adding departments:\n",
    "Average f1-score: 0.287 +- 0.000\n",
    "\n",
    "After scaling data:\n",
    "Average f1-score: 0.139 +- 0.001\n",
    "\n",
    "\n"
   ]
  },
  {
   "cell_type": "markdown",
   "metadata": {},
   "source": [
    "# Testing Models with KFold Cross Validation"
   ]
  },
  {
   "cell_type": "code",
   "execution_count": 3,
   "metadata": {},
   "outputs": [],
   "source": [
    "df = pd.read_pickle('full_features')"
   ]
  },
  {
   "cell_type": "markdown",
   "metadata": {},
   "source": [
    "### Logistic Regression"
   ]
  },
  {
   "cell_type": "code",
   "execution_count": 6,
   "metadata": {},
   "outputs": [
    {
     "name": "stderr",
     "output_type": "stream",
     "text": [
      "/anaconda3/lib/python3.7/site-packages/sklearn/linear_model/logistic.py:758: ConvergenceWarning: lbfgs failed to converge. Increase the number of iterations.\n",
      "  \"of iterations.\", ConvergenceWarning)\n",
      "/anaconda3/lib/python3.7/site-packages/sklearn/linear_model/logistic.py:758: ConvergenceWarning: lbfgs failed to converge. Increase the number of iterations.\n",
      "  \"of iterations.\", ConvergenceWarning)\n",
      "/anaconda3/lib/python3.7/site-packages/sklearn/linear_model/logistic.py:758: ConvergenceWarning: lbfgs failed to converge. Increase the number of iterations.\n",
      "  \"of iterations.\", ConvergenceWarning)\n",
      "/anaconda3/lib/python3.7/site-packages/sklearn/linear_model/logistic.py:758: ConvergenceWarning: lbfgs failed to converge. Increase the number of iterations.\n",
      "  \"of iterations.\", ConvergenceWarning)\n",
      "/anaconda3/lib/python3.7/site-packages/sklearn/linear_model/logistic.py:758: ConvergenceWarning: lbfgs failed to converge. Increase the number of iterations.\n",
      "  \"of iterations.\", ConvergenceWarning)\n"
     ]
    },
    {
     "name": "stdout",
     "output_type": "stream",
     "text": [
      "Individual f-1 score:  [0.24854027402000123, 0.25192092680257866, 0.2501146657493407, 0.24945508310876874, 0.2505835158567738]\n",
      "Average f1-score: 0.250 +- 0.001\n"
     ]
    }
   ],
   "source": [
    "kfold_val_fit_score_pred_log(df)"
   ]
  },
  {
   "cell_type": "markdown",
   "metadata": {},
   "source": [
    "### Gaussian Naive Bayes"
   ]
  },
  {
   "cell_type": "code",
   "execution_count": 7,
   "metadata": {},
   "outputs": [
    {
     "name": "stdout",
     "output_type": "stream",
     "text": [
      "Individual f-1 score:  [0.40078980926654684, 0.398303739110914, 0.3996617211169772, 0.39949921512655223, 0.39952020112117387]\n",
      "Average f1-score: 0.400 +- 0.001\n"
     ]
    }
   ],
   "source": [
    "kfold_val_fit_score_pred_G_NB(df)"
   ]
  },
  {
   "cell_type": "markdown",
   "metadata": {},
   "source": [
    "### Multinomial Naive Bayes"
   ]
  },
  {
   "cell_type": "code",
   "execution_count": 8,
   "metadata": {},
   "outputs": [
    {
     "name": "stdout",
     "output_type": "stream",
     "text": [
      "Individual f-1 score:  [0.28663903956515396, 0.28639571016703874, 0.28620533573544504, 0.28682152283079676, 0.28556139654162765]\n",
      "Average f1-score: 0.286 +- 0.000\n"
     ]
    }
   ],
   "source": [
    "kfold_val_fit_score_pred_M_NB(df)"
   ]
  },
  {
   "cell_type": "markdown",
   "metadata": {},
   "source": [
    "### Random Forest Classifier"
   ]
  },
  {
   "cell_type": "code",
   "execution_count": null,
   "metadata": {},
   "outputs": [],
   "source": [
    "# kfold_val_fit_score_pred_RF(df)"
   ]
  },
  {
   "cell_type": "markdown",
   "metadata": {},
   "source": [
    "# Adding Departments"
   ]
  },
  {
   "cell_type": "code",
   "execution_count": 3,
   "metadata": {},
   "outputs": [],
   "source": [
    "df = pd.read_pickle('full_features_with_dep')"
   ]
  },
  {
   "cell_type": "markdown",
   "metadata": {},
   "source": [
    "### Logistic Regression"
   ]
  },
  {
   "cell_type": "code",
   "execution_count": 10,
   "metadata": {},
   "outputs": [
    {
     "name": "stderr",
     "output_type": "stream",
     "text": [
      "/anaconda3/lib/python3.7/site-packages/sklearn/linear_model/logistic.py:758: ConvergenceWarning: lbfgs failed to converge. Increase the number of iterations.\n",
      "  \"of iterations.\", ConvergenceWarning)\n",
      "/anaconda3/lib/python3.7/site-packages/sklearn/linear_model/logistic.py:758: ConvergenceWarning: lbfgs failed to converge. Increase the number of iterations.\n",
      "  \"of iterations.\", ConvergenceWarning)\n",
      "/anaconda3/lib/python3.7/site-packages/sklearn/linear_model/logistic.py:758: ConvergenceWarning: lbfgs failed to converge. Increase the number of iterations.\n",
      "  \"of iterations.\", ConvergenceWarning)\n",
      "/anaconda3/lib/python3.7/site-packages/sklearn/linear_model/logistic.py:758: ConvergenceWarning: lbfgs failed to converge. Increase the number of iterations.\n",
      "  \"of iterations.\", ConvergenceWarning)\n",
      "/anaconda3/lib/python3.7/site-packages/sklearn/linear_model/logistic.py:758: ConvergenceWarning: lbfgs failed to converge. Increase the number of iterations.\n",
      "  \"of iterations.\", ConvergenceWarning)\n"
     ]
    },
    {
     "name": "stdout",
     "output_type": "stream",
     "text": [
      "Individual f-1 score:  [0.24800991306779555, 0.2538462999544142, 0.24596284035381905, 0.24186042030004914, 0.24486354987113715]\n",
      "Average f1-score: 0.247 +- 0.004\n"
     ]
    }
   ],
   "source": [
    "kfold_val_fit_score_pred_log(df)"
   ]
  },
  {
   "cell_type": "markdown",
   "metadata": {},
   "source": [
    "### Gaussian Naive Bayes"
   ]
  },
  {
   "cell_type": "code",
   "execution_count": 11,
   "metadata": {},
   "outputs": [
    {
     "name": "stdout",
     "output_type": "stream",
     "text": [
      "Individual f-1 score:  [0.40018050686112994, 0.40026553556336997, 0.4007927546897124, 0.40028699762080033, 0.40172806861198523]\n",
      "Average f1-score: 0.401 +- 0.001\n"
     ]
    }
   ],
   "source": [
    "kfold_val_fit_score_pred_G_NB(df)"
   ]
  },
  {
   "cell_type": "markdown",
   "metadata": {},
   "source": [
    "### Multinomial Naive Bayes"
   ]
  },
  {
   "cell_type": "code",
   "execution_count": 12,
   "metadata": {},
   "outputs": [
    {
     "name": "stdout",
     "output_type": "stream",
     "text": [
      "Individual f-1 score:  [0.28628313217835794, 0.2875283548821056, 0.2876747609777055, 0.2869519269685659, 0.28720741658977583]\n",
      "Average f1-score: 0.287 +- 0.000\n"
     ]
    }
   ],
   "source": [
    "kfold_val_fit_score_pred_M_NB(df)"
   ]
  },
  {
   "cell_type": "markdown",
   "metadata": {},
   "source": [
    "### Random Forest Classifier"
   ]
  },
  {
   "cell_type": "code",
   "execution_count": null,
   "metadata": {},
   "outputs": [],
   "source": [
    "# kfold_val_fit_score_pred_RF(df)"
   ]
  },
  {
   "cell_type": "markdown",
   "metadata": {},
   "source": [
    "# Polynomial Features"
   ]
  },
  {
   "cell_type": "code",
   "execution_count": 4,
   "metadata": {},
   "outputs": [],
   "source": [
    "pf = PolynomialFeatures()\n",
    "indexers_list = ['product_id','latest_cart','in_cart','user_id']\n",
    "indexers_df = df.loc[:,indexers_list]\n",
    "normal_feats_df = df.drop(indexers_list,axis=1)\n",
    "poly_feats_df = pf.fit_transform(normal_feats_df)\n",
    "df = indexers_df.merge(pd.DataFrame(poly_feats_df),left_index=True,right_index=True)"
   ]
  },
  {
   "cell_type": "code",
   "execution_count": 6,
   "metadata": {},
   "outputs": [
    {
     "name": "stderr",
     "output_type": "stream",
     "text": [
      "/anaconda3/lib/python3.7/site-packages/sklearn/linear_model/logistic.py:758: ConvergenceWarning: lbfgs failed to converge. Increase the number of iterations.\n",
      "  \"of iterations.\", ConvergenceWarning)\n",
      "/anaconda3/lib/python3.7/site-packages/sklearn/linear_model/logistic.py:758: ConvergenceWarning: lbfgs failed to converge. Increase the number of iterations.\n",
      "  \"of iterations.\", ConvergenceWarning)\n",
      "/anaconda3/lib/python3.7/site-packages/sklearn/linear_model/logistic.py:758: ConvergenceWarning: lbfgs failed to converge. Increase the number of iterations.\n",
      "  \"of iterations.\", ConvergenceWarning)\n",
      "/anaconda3/lib/python3.7/site-packages/sklearn/linear_model/logistic.py:758: ConvergenceWarning: lbfgs failed to converge. Increase the number of iterations.\n",
      "  \"of iterations.\", ConvergenceWarning)\n",
      "/anaconda3/lib/python3.7/site-packages/sklearn/linear_model/logistic.py:758: ConvergenceWarning: lbfgs failed to converge. Increase the number of iterations.\n",
      "  \"of iterations.\", ConvergenceWarning)\n"
     ]
    },
    {
     "name": "stdout",
     "output_type": "stream",
     "text": [
      "Individual f-1 score:  [0.1908362717322626, 0.18758191849300457, 0.1858493344028919, 0.19577897121843144, 0.19001494099830266]\n",
      "Average f1-score: 0.190 +- 0.003\n"
     ]
    }
   ],
   "source": [
    "kfold_val_fit_score_pred_log(df)"
   ]
  },
  {
   "cell_type": "markdown",
   "metadata": {},
   "source": [
    "### Gaussian Naive Bayes"
   ]
  },
  {
   "cell_type": "code",
   "execution_count": 5,
   "metadata": {},
   "outputs": [
    {
     "name": "stdout",
     "output_type": "stream",
     "text": [
      "Our f1-score is 0.39657863970066476\n",
      "And we've predicted 1419002 non-re-orders and 276677 re-orders.\n"
     ]
    }
   ],
   "source": [
    "X_tr, X_val, y_tr, y_val = get_user_split_data(df)\n",
    "fit_score_pred_G_NB(X_tr, X_val, y_tr, y_val)"
   ]
  },
  {
   "cell_type": "code",
   "execution_count": null,
   "metadata": {},
   "outputs": [],
   "source": [
    "kfold_val_fit_score_pred_G_NB(df)"
   ]
  },
  {
   "cell_type": "markdown",
   "metadata": {},
   "source": [
    "### Multinomial Naive Bayes"
   ]
  },
  {
   "cell_type": "code",
   "execution_count": null,
   "metadata": {},
   "outputs": [],
   "source": [
    "kfold_val_fit_score_pred_M_NB(df)"
   ]
  },
  {
   "cell_type": "markdown",
   "metadata": {},
   "source": [
    "### Random Forest Classifier"
   ]
  },
  {
   "cell_type": "code",
   "execution_count": null,
   "metadata": {},
   "outputs": [],
   "source": [
    "kfold_val_fit_score_pred_RF(df)"
   ]
  },
  {
   "cell_type": "code",
   "execution_count": null,
   "metadata": {},
   "outputs": [],
   "source": [
    "pd.to_pickle(df,'poly_feats_df.pkl')"
   ]
  },
  {
   "cell_type": "markdown",
   "metadata": {},
   "source": [
    "# Scaling Data"
   ]
  },
  {
   "cell_type": "code",
   "execution_count": null,
   "metadata": {},
   "outputs": [],
   "source": [
    "df = pd.read_pickle('full_features_with_dep')"
   ]
  },
  {
   "cell_type": "code",
   "execution_count": 18,
   "metadata": {},
   "outputs": [],
   "source": [
    "indexers_list = ['product_id','latest_cart','in_cart','user_id']\n",
    "non_scaled_df = df.loc[:,indexers_list]\n",
    "scaled_df = df.drop(indexers_list,axis=1)\n",
    "scaled_columns = scaled_df.columns.tolist()\n",
    "\n",
    "scaler = MinMaxScaler()\n",
    "scaled_df = scaler.fit_transform(scaled_df.values)\n",
    "\n",
    "df = pd.DataFrame(scaled_df,columns=scaled_columns)"
   ]
  },
  {
   "cell_type": "markdown",
   "metadata": {},
   "source": [
    "Note that we've dropped scaled_negatively_corr_departments, scaled_positvely_corr_departments as they are only used in the logistic model and did not improve the score."
   ]
  },
  {
   "cell_type": "markdown",
   "metadata": {},
   "source": [
    "### Logistic Regression"
   ]
  },
  {
   "cell_type": "code",
   "execution_count": 49,
   "metadata": {},
   "outputs": [
    {
     "name": "stderr",
     "output_type": "stream",
     "text": [
      "/anaconda3/lib/python3.7/site-packages/sklearn/linear_model/logistic.py:758: ConvergenceWarning: lbfgs failed to converge. Increase the number of iterations.\n",
      "  \"of iterations.\", ConvergenceWarning)\n",
      "/anaconda3/lib/python3.7/site-packages/sklearn/linear_model/logistic.py:758: ConvergenceWarning: lbfgs failed to converge. Increase the number of iterations.\n",
      "  \"of iterations.\", ConvergenceWarning)\n",
      "/anaconda3/lib/python3.7/site-packages/sklearn/linear_model/logistic.py:758: ConvergenceWarning: lbfgs failed to converge. Increase the number of iterations.\n",
      "  \"of iterations.\", ConvergenceWarning)\n",
      "/anaconda3/lib/python3.7/site-packages/sklearn/linear_model/logistic.py:758: ConvergenceWarning: lbfgs failed to converge. Increase the number of iterations.\n",
      "  \"of iterations.\", ConvergenceWarning)\n"
     ]
    },
    {
     "name": "stdout",
     "output_type": "stream",
     "text": [
      "Individual f-1 score:  [0.27027103557961407, 0.2657603374256232, 0.26698453899108454, 0.2643937928463923, 0.2685578929027214]\n",
      "Average f1-score: 0.267 +- 0.002\n"
     ]
    }
   ],
   "source": [
    "kfold_val_fit_score_pred_log(df)"
   ]
  },
  {
   "cell_type": "markdown",
   "metadata": {},
   "source": [
    "### Gaussian Naive Bayes"
   ]
  },
  {
   "cell_type": "code",
   "execution_count": 50,
   "metadata": {},
   "outputs": [
    {
     "name": "stdout",
     "output_type": "stream",
     "text": [
      "Individual f-1 score:  [0.40018050686112994, 0.40026553556336997, 0.4007927546897124, 0.40028699762080033, 0.40172806861198523]\n",
      "Average f1-score: 0.401 +- 0.001\n"
     ]
    }
   ],
   "source": [
    "kfold_val_fit_score_pred_G_NB(df)"
   ]
  },
  {
   "cell_type": "markdown",
   "metadata": {},
   "source": [
    "### Multinomial Naive Bayes"
   ]
  },
  {
   "cell_type": "code",
   "execution_count": 51,
   "metadata": {},
   "outputs": [
    {
     "name": "stdout",
     "output_type": "stream",
     "text": [
      "Individual f-1 score:  [0.14125383841952227, 0.13835858230370232, 0.13965824271587163, 0.13766116925278168, 0.14041412911084045]\n",
      "Average f1-score: 0.139 +- 0.001\n"
     ]
    }
   ],
   "source": [
    "kfold_val_fit_score_pred_M_NB(df)"
   ]
  },
  {
   "cell_type": "markdown",
   "metadata": {},
   "source": [
    "### Random Forest Classifier"
   ]
  },
  {
   "cell_type": "code",
   "execution_count": null,
   "metadata": {},
   "outputs": [],
   "source": [
    "kfold_val_fit_score_pred_RF(df)"
   ]
  },
  {
   "cell_type": "code",
   "execution_count": null,
   "metadata": {},
   "outputs": [],
   "source": [
    "pd.to_pickle(df,'scaled_feats_df.pkl')"
   ]
  },
  {
   "cell_type": "markdown",
   "metadata": {},
   "source": [
    "# Making one dataset that will contain all features (scaled and unscaled) so it can be run on both models.\n",
    "Note the need to filter features for respective models.\n",
    "Test data will also ultimately need to be in each of the respective forms."
   ]
  },
  {
   "cell_type": "code",
   "execution_count": null,
   "metadata": {},
   "outputs": [],
   "source": [
    "df = pd.read_pickle('full_features_with_dep')"
   ]
  },
  {
   "cell_type": "code",
   "execution_count": null,
   "metadata": {},
   "outputs": [],
   "source": [
    "indexers_list = ['product_id','latest_cart','in_cart','user_id']\n",
    "non_scaled_df = df.loc[:,indexers_list]\n",
    "predict_feats_df = df.drop(indexers_list,axis=1)\n",
    "reg_columns = predict_feats_df.columns.tolist()\n",
    "\n",
    "scaled_columns = []\n",
    "for col in reg_columns:\n",
    "    scaled_columns.append('scaled_'+col)\n",
    "\n",
    "scaler = MinMaxScaler()\n",
    "scaled_df = scaler.fit_transform(predict_feats_df.values)\n",
    "\n",
    "df = pd.DataFrame(scaled_df,columns=scaled_columns)\n",
    "df.drop(['scaled_negatively_corr_departments','scaled_positvely_corr_departments'],axis=1,inplace=True)\n",
    "scaled_columns = df.columns.tolist()\n",
    "df = pd.merge(df,non_scaled_df,left_index=True,right_index=True)\n",
    "df = pd.merge(df,predict_feats_df,left_index=True,right_index=True)\n",
    "\n"
   ]
  },
  {
   "cell_type": "code",
   "execution_count": 42,
   "metadata": {},
   "outputs": [
    {
     "name": "stderr",
     "output_type": "stream",
     "text": [
      "/anaconda3/lib/python3.7/site-packages/sklearn/linear_model/logistic.py:758: ConvergenceWarning: lbfgs failed to converge. Increase the number of iterations.\n",
      "  \"of iterations.\", ConvergenceWarning)\n",
      "/anaconda3/lib/python3.7/site-packages/sklearn/linear_model/logistic.py:758: ConvergenceWarning: lbfgs failed to converge. Increase the number of iterations.\n",
      "  \"of iterations.\", ConvergenceWarning)\n",
      "/anaconda3/lib/python3.7/site-packages/sklearn/linear_model/logistic.py:758: ConvergenceWarning: lbfgs failed to converge. Increase the number of iterations.\n",
      "  \"of iterations.\", ConvergenceWarning)\n"
     ]
    },
    {
     "name": "stdout",
     "output_type": "stream",
     "text": [
      "Individual f-1 score:  [0.2706563324071497, 0.2657351211479652, 0.26677009873060653, 0.2647211352600066, 0.26870925991293093]\n",
      "Average f1-score: 0.267 +- 0.002\n"
     ]
    }
   ],
   "source": [
    "kfold_val_fit_score_pred_log(df[indexers_list+scaled_columns])"
   ]
  },
  {
   "cell_type": "markdown",
   "metadata": {},
   "source": [
    "### Gaussian Naive Bayes"
   ]
  },
  {
   "cell_type": "code",
   "execution_count": 45,
   "metadata": {},
   "outputs": [
    {
     "name": "stdout",
     "output_type": "stream",
     "text": [
      "Individual f-1 score:  [0.40018050686112994, 0.40026553556336997, 0.4007927546897124, 0.40028699762080033, 0.40172806861198523]\n",
      "Average f1-score: 0.401 +- 0.001\n"
     ]
    }
   ],
   "source": [
    "kfold_val_fit_score_pred_G_NB(df[indexers_list+reg_columns])"
   ]
  },
  {
   "cell_type": "markdown",
   "metadata": {},
   "source": [
    "### Multinomial Naive Bayes"
   ]
  },
  {
   "cell_type": "code",
   "execution_count": 46,
   "metadata": {},
   "outputs": [
    {
     "name": "stdout",
     "output_type": "stream",
     "text": [
      "Individual f-1 score:  [0.28628313217835794, 0.2875283548821056, 0.2876747609777055, 0.2869519269685659, 0.28720741658977583]\n",
      "Average f1-score: 0.287 +- 0.000\n"
     ]
    }
   ],
   "source": [
    "kfold_val_fit_score_pred_M_NB(df[indexers_list+reg_columns])"
   ]
  },
  {
   "cell_type": "markdown",
   "metadata": {},
   "source": [
    "### Random Forest Classifier"
   ]
  },
  {
   "cell_type": "code",
   "execution_count": null,
   "metadata": {},
   "outputs": [],
   "source": [
    "kfold_val_fit_score_pred_RF(df)"
   ]
  },
  {
   "cell_type": "code",
   "execution_count": null,
   "metadata": {},
   "outputs": [],
   "source": [
    "pd.to_pickle(df,'scaled_and_not_scaled_feats_df.pkl')"
   ]
  },
  {
   "cell_type": "code",
   "execution_count": null,
   "metadata": {},
   "outputs": [],
   "source": []
  }
 ],
 "metadata": {
  "kernelspec": {
   "display_name": "Python 3",
   "language": "python",
   "name": "python3"
  },
  "language_info": {
   "codemirror_mode": {
    "name": "ipython",
    "version": 3
   },
   "file_extension": ".py",
   "mimetype": "text/x-python",
   "name": "python",
   "nbconvert_exporter": "python",
   "pygments_lexer": "ipython3",
   "version": "3.7.2"
  }
 },
 "nbformat": 4,
 "nbformat_minor": 2
}

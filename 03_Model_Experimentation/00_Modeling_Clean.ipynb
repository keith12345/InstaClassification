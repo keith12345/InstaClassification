{
 "cells": [
  {
   "cell_type": "code",
   "execution_count": 52,
   "metadata": {},
   "outputs": [],
   "source": [
    "import os\n",
    "\n",
    "import pandas as pd\n",
    "import numpy as np\n",
    "\n",
    "import seaborn as sns\n",
    "import matplotlib.pyplot as plt\n",
    "\n",
    "from sklearn.preprocessing import MinMaxScaler\n",
    "\n",
    "import xgboost as xgb\n",
    "import xgboost as XGBClassifier\n",
    "\n",
    "\n",
    "from Standard_functions import plot_features, get_user_split_data, plot_fit_score_pred, fit_score_pred, kfold_val_fit_score_pred_log, kfold_val_fit_score_pred_G_NB, kfold_val_fit_score_pred_RF, fit_score_pred_RF, kfold_val_fit_score_pred_M_NB\n",
    "\n",
    "import warnings\n",
    "\n",
    "warnings.filterwarnings('always') \n",
    "np.seterr(divide='ignore', invalid='ignore')\n",
    "%matplotlib inline"
   ]
  },
  {
   "cell_type": "code",
   "execution_count": 2,
   "metadata": {},
   "outputs": [],
   "source": [
    "os.chdir('../Data/')"
   ]
  },
  {
   "cell_type": "code",
   "execution_count": 3,
   "metadata": {},
   "outputs": [],
   "source": [
    "df = pd.read_pickle('full_features')"
   ]
  },
  {
   "cell_type": "markdown",
   "metadata": {},
   "source": [
    "## Logistic Regression\n",
    "The following score was achieved in Logistic Regression using the following features:  \n",
    "Average f1-score: 0.144 +- 0.016:\n",
    "* num_ord_per_user_per_prod  \n",
    "* product_total_orders  \n",
    "* product_avg_add_to_cart_order  \n",
    "* user_total_orders  \n",
    "* user_avg_cartsize  \n",
    "* user_total_products  \n",
    "* user_avg_days_since_prior_order  \n",
    "* user_product_avg_add_to_cart_order  \n",
    "* user_product_order_freq  \n",
    "* number_orders_since_product_last_ordered  \n",
    "* percent_of_time_product_ordered  \n",
    "* mean_order_hour_of_day_by_user  \n",
    "* diff_between_average_and_current_order_time  \n",
    "* max_order_number  \n",
    "* recent_order_weight  \n",
    "\n",
    "After dropping max_order_number the following score was achieved:  \n",
    "Average f1-score: 0.250 +- 0.001\n",
    "   \n",
    "## Gaussian Naive Bayes - All Features\n",
    "Average f1-score: 0.347 +- 0.001\n",
    "\n",
    "\n",
    "After dropping max_order_number the following score was achieved:  \n",
    "Average f1-score: 0.400 +- 0.001\n",
    "\n",
    "\n",
    "## Random Forest n_estimators = 10  - All Features\n",
    "Average f1-score: 0.278 +- 0.002\n",
    "\n",
    "## Multinomial Naive Bayes - All Features\n",
    "Average f1-score: 0.183 +- 0.001\n",
    "\n",
    "\n",
    "After dropping max_order_number the following score was achieved:  \n",
    "Average f1-score: 0.286 +- 0.000\n",
    "\n"
   ]
  },
  {
   "cell_type": "markdown",
   "metadata": {},
   "source": [
    "# Testing Models with KFold Cross Validation"
   ]
  },
  {
   "cell_type": "markdown",
   "metadata": {},
   "source": [
    "### Logistic Regression"
   ]
  },
  {
   "cell_type": "code",
   "execution_count": 6,
   "metadata": {},
   "outputs": [
    {
     "name": "stderr",
     "output_type": "stream",
     "text": [
      "/anaconda3/lib/python3.7/site-packages/sklearn/linear_model/logistic.py:758: ConvergenceWarning: lbfgs failed to converge. Increase the number of iterations.\n",
      "  \"of iterations.\", ConvergenceWarning)\n",
      "/anaconda3/lib/python3.7/site-packages/sklearn/linear_model/logistic.py:758: ConvergenceWarning: lbfgs failed to converge. Increase the number of iterations.\n",
      "  \"of iterations.\", ConvergenceWarning)\n",
      "/anaconda3/lib/python3.7/site-packages/sklearn/linear_model/logistic.py:758: ConvergenceWarning: lbfgs failed to converge. Increase the number of iterations.\n",
      "  \"of iterations.\", ConvergenceWarning)\n",
      "/anaconda3/lib/python3.7/site-packages/sklearn/linear_model/logistic.py:758: ConvergenceWarning: lbfgs failed to converge. Increase the number of iterations.\n",
      "  \"of iterations.\", ConvergenceWarning)\n",
      "/anaconda3/lib/python3.7/site-packages/sklearn/linear_model/logistic.py:758: ConvergenceWarning: lbfgs failed to converge. Increase the number of iterations.\n",
      "  \"of iterations.\", ConvergenceWarning)\n"
     ]
    },
    {
     "name": "stdout",
     "output_type": "stream",
     "text": [
      "Individual f-1 score:  [0.24854027402000123, 0.25192092680257866, 0.2501146657493407, 0.24945508310876874, 0.2505835158567738]\n",
      "Average f1-score: 0.250 +- 0.001\n"
     ]
    }
   ],
   "source": [
    "kfold_val_fit_score_pred_log(df)"
   ]
  },
  {
   "cell_type": "markdown",
   "metadata": {},
   "source": [
    "### Gaussian Naive Bayes"
   ]
  },
  {
   "cell_type": "code",
   "execution_count": 7,
   "metadata": {},
   "outputs": [
    {
     "name": "stdout",
     "output_type": "stream",
     "text": [
      "Individual f-1 score:  [0.40078980926654684, 0.398303739110914, 0.3996617211169772, 0.39949921512655223, 0.39952020112117387]\n",
      "Average f1-score: 0.400 +- 0.001\n"
     ]
    }
   ],
   "source": [
    "kfold_val_fit_score_pred_G_NB(df)"
   ]
  },
  {
   "cell_type": "markdown",
   "metadata": {},
   "source": [
    "### Multinomial Naive Bayes"
   ]
  },
  {
   "cell_type": "code",
   "execution_count": 8,
   "metadata": {},
   "outputs": [
    {
     "name": "stdout",
     "output_type": "stream",
     "text": [
      "Individual f-1 score:  [0.28663903956515396, 0.28639571016703874, 0.28620533573544504, 0.28682152283079676, 0.28556139654162765]\n",
      "Average f1-score: 0.286 +- 0.000\n"
     ]
    }
   ],
   "source": [
    "kfold_val_fit_score_pred_M_NB(df)"
   ]
  },
  {
   "cell_type": "markdown",
   "metadata": {},
   "source": [
    "### Random Forest Classifier"
   ]
  },
  {
   "cell_type": "code",
   "execution_count": null,
   "metadata": {},
   "outputs": [],
   "source": [
    "kfold_val_fit_score_pred_RF(df)"
   ]
  },
  {
   "cell_type": "markdown",
   "metadata": {},
   "source": [
    "# Adding Departments"
   ]
  },
  {
   "cell_type": "code",
   "execution_count": 9,
   "metadata": {},
   "outputs": [],
   "source": [
    "df = pd.read_pickle('full_features_with_dep')"
   ]
  },
  {
   "cell_type": "markdown",
   "metadata": {},
   "source": [
    "### Logistic Regression"
   ]
  },
  {
   "cell_type": "code",
   "execution_count": 10,
   "metadata": {},
   "outputs": [
    {
     "name": "stderr",
     "output_type": "stream",
     "text": [
      "/anaconda3/lib/python3.7/site-packages/sklearn/linear_model/logistic.py:758: ConvergenceWarning: lbfgs failed to converge. Increase the number of iterations.\n",
      "  \"of iterations.\", ConvergenceWarning)\n",
      "/anaconda3/lib/python3.7/site-packages/sklearn/linear_model/logistic.py:758: ConvergenceWarning: lbfgs failed to converge. Increase the number of iterations.\n",
      "  \"of iterations.\", ConvergenceWarning)\n",
      "/anaconda3/lib/python3.7/site-packages/sklearn/linear_model/logistic.py:758: ConvergenceWarning: lbfgs failed to converge. Increase the number of iterations.\n",
      "  \"of iterations.\", ConvergenceWarning)\n",
      "/anaconda3/lib/python3.7/site-packages/sklearn/linear_model/logistic.py:758: ConvergenceWarning: lbfgs failed to converge. Increase the number of iterations.\n",
      "  \"of iterations.\", ConvergenceWarning)\n",
      "/anaconda3/lib/python3.7/site-packages/sklearn/linear_model/logistic.py:758: ConvergenceWarning: lbfgs failed to converge. Increase the number of iterations.\n",
      "  \"of iterations.\", ConvergenceWarning)\n"
     ]
    },
    {
     "name": "stdout",
     "output_type": "stream",
     "text": [
      "Individual f-1 score:  [0.24800991306779555, 0.2538462999544142, 0.24596284035381905, 0.24186042030004914, 0.24486354987113715]\n",
      "Average f1-score: 0.247 +- 0.004\n"
     ]
    }
   ],
   "source": [
    "kfold_val_fit_score_pred_log(df)"
   ]
  },
  {
   "cell_type": "markdown",
   "metadata": {},
   "source": [
    "### Gaussian Naive Bayes"
   ]
  },
  {
   "cell_type": "code",
   "execution_count": 11,
   "metadata": {},
   "outputs": [
    {
     "name": "stdout",
     "output_type": "stream",
     "text": [
      "Individual f-1 score:  [0.40018050686112994, 0.40026553556336997, 0.4007927546897124, 0.40028699762080033, 0.40172806861198523]\n",
      "Average f1-score: 0.401 +- 0.001\n"
     ]
    }
   ],
   "source": [
    "kfold_val_fit_score_pred_G_NB(df)"
   ]
  },
  {
   "cell_type": "markdown",
   "metadata": {},
   "source": [
    "### Multinomial Naive Bayes"
   ]
  },
  {
   "cell_type": "code",
   "execution_count": 12,
   "metadata": {},
   "outputs": [
    {
     "name": "stdout",
     "output_type": "stream",
     "text": [
      "Individual f-1 score:  [0.28628313217835794, 0.2875283548821056, 0.2876747609777055, 0.2869519269685659, 0.28720741658977583]\n",
      "Average f1-score: 0.287 +- 0.000\n"
     ]
    }
   ],
   "source": [
    "kfold_val_fit_score_pred_M_NB(df)"
   ]
  },
  {
   "cell_type": "markdown",
   "metadata": {},
   "source": [
    "### Random Forest Classifier"
   ]
  },
  {
   "cell_type": "code",
   "execution_count": null,
   "metadata": {},
   "outputs": [],
   "source": [
    "kfold_val_fit_score_pred_RF(df)"
   ]
  },
  {
   "cell_type": "markdown",
   "metadata": {},
   "source": [
    "# Scaling Data"
   ]
  },
  {
   "cell_type": "code",
   "execution_count": 47,
   "metadata": {},
   "outputs": [],
   "source": [
    "non_scaled_columns = ['product_id','latest_cart','in_cart','user_id']\n",
    "non_scaled_df = df.loc[:,non_scaled_columns]\n",
    "predict_feats_df = df.drop(non_scaled_columns,axis=1)\n",
    "columns = predict_feats_df.columns.tolist()\n",
    "\n",
    "scaled_columns = []\n",
    "for col in columns:\n",
    "    columns.append('scaled_'+col)\n",
    "\n",
    "scaler = MinMaxScaler()\n",
    "scaled_df = scaler.fit_transform(scaled_df.values)\n",
    "\n",
    "df = pd.DataFrame(scaled_df,columns=scaled_columns)"
   ]
  },
  {
   "cell_type": "code",
   "execution_count": 54,
   "metadata": {},
   "outputs": [],
   "source": []
  },
  {
   "cell_type": "code",
   "execution_count": 55,
   "metadata": {},
   "outputs": [
    {
     "data": {
      "text/plain": [
       "['scaled_num_ord_per_user_per_prod',\n",
       " 'scaled_product_total_orders',\n",
       " 'scaled_product_avg_add_to_cart_order',\n",
       " 'scaled_user_total_orders',\n",
       " 'scaled_user_avg_cartsize',\n",
       " 'scaled_user_total_products',\n",
       " 'scaled_user_avg_days_since_prior_order',\n",
       " 'scaled_user_product_avg_add_to_cart_order',\n",
       " 'scaled_user_product_order_freq',\n",
       " 'scaled_number_orders_since_product_last_ordered',\n",
       " 'scaled_percent_of_time_product_ordered',\n",
       " 'scaled_mean_order_hour_of_day_by_user',\n",
       " 'scaled_diff_between_average_and_current_order_time',\n",
       " 'scaled_recent_order_weight',\n",
       " 'scaled_negatively_corr_departments',\n",
       " 'scaled_positvely_corr_departments']"
      ]
     },
     "execution_count": 55,
     "metadata": {},
     "output_type": "execute_result"
    }
   ],
   "source": [
    "new_scaled_columns"
   ]
  },
  {
   "cell_type": "code",
   "execution_count": 48,
   "metadata": {},
   "outputs": [],
   "source": [
    "df = pd.merge(df,non_scaled_df,left_index=True,right_index=True)"
   ]
  },
  {
   "cell_type": "markdown",
   "metadata": {},
   "source": [
    "### Logistic Regression"
   ]
  },
  {
   "cell_type": "code",
   "execution_count": 49,
   "metadata": {},
   "outputs": [
    {
     "name": "stderr",
     "output_type": "stream",
     "text": [
      "/anaconda3/lib/python3.7/site-packages/sklearn/linear_model/logistic.py:758: ConvergenceWarning: lbfgs failed to converge. Increase the number of iterations.\n",
      "  \"of iterations.\", ConvergenceWarning)\n",
      "/anaconda3/lib/python3.7/site-packages/sklearn/linear_model/logistic.py:758: ConvergenceWarning: lbfgs failed to converge. Increase the number of iterations.\n",
      "  \"of iterations.\", ConvergenceWarning)\n",
      "/anaconda3/lib/python3.7/site-packages/sklearn/linear_model/logistic.py:758: ConvergenceWarning: lbfgs failed to converge. Increase the number of iterations.\n",
      "  \"of iterations.\", ConvergenceWarning)\n",
      "/anaconda3/lib/python3.7/site-packages/sklearn/linear_model/logistic.py:758: ConvergenceWarning: lbfgs failed to converge. Increase the number of iterations.\n",
      "  \"of iterations.\", ConvergenceWarning)\n"
     ]
    },
    {
     "name": "stdout",
     "output_type": "stream",
     "text": [
      "Individual f-1 score:  [0.27027103557961407, 0.2657603374256232, 0.26698453899108454, 0.2643937928463923, 0.2685578929027214]\n",
      "Average f1-score: 0.267 +- 0.002\n"
     ]
    }
   ],
   "source": [
    "kfold_val_fit_score_pred_log(df)"
   ]
  },
  {
   "cell_type": "markdown",
   "metadata": {},
   "source": [
    "### Gaussian Naive Bayes"
   ]
  },
  {
   "cell_type": "code",
   "execution_count": 50,
   "metadata": {},
   "outputs": [
    {
     "name": "stdout",
     "output_type": "stream",
     "text": [
      "Individual f-1 score:  [0.40018050686112994, 0.40026553556336997, 0.4007927546897124, 0.40028699762080033, 0.40172806861198523]\n",
      "Average f1-score: 0.401 +- 0.001\n"
     ]
    }
   ],
   "source": [
    "kfold_val_fit_score_pred_G_NB(df)"
   ]
  },
  {
   "cell_type": "markdown",
   "metadata": {},
   "source": [
    "### Multinomial Naive Bayes"
   ]
  },
  {
   "cell_type": "code",
   "execution_count": 51,
   "metadata": {},
   "outputs": [
    {
     "name": "stdout",
     "output_type": "stream",
     "text": [
      "Individual f-1 score:  [0.14125383841952227, 0.13835858230370232, 0.13965824271587163, 0.13766116925278168, 0.14041412911084045]\n",
      "Average f1-score: 0.139 +- 0.001\n"
     ]
    }
   ],
   "source": [
    "kfold_val_fit_score_pred_M_NB(df)"
   ]
  },
  {
   "cell_type": "markdown",
   "metadata": {},
   "source": [
    "### Random Forest Classifier"
   ]
  },
  {
   "cell_type": "code",
   "execution_count": null,
   "metadata": {},
   "outputs": [],
   "source": [
    "kfold_val_fit_score_pred_RF(df)"
   ]
  },
  {
   "cell_type": "code",
   "execution_count": 39,
   "metadata": {},
   "outputs": [],
   "source": []
  }
 ],
 "metadata": {
  "kernelspec": {
   "display_name": "Python 3",
   "language": "python",
   "name": "python3"
  },
  "language_info": {
   "codemirror_mode": {
    "name": "ipython",
    "version": 3
   },
   "file_extension": ".py",
   "mimetype": "text/x-python",
   "name": "python",
   "nbconvert_exporter": "python",
   "pygments_lexer": "ipython3",
   "version": "3.7.2"
  }
 },
 "nbformat": 4,
 "nbformat_minor": 2
}

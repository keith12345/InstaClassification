{
 "cells": [
  {
   "cell_type": "code",
   "execution_count": 136,
   "metadata": {},
   "outputs": [],
   "source": [
    "import os\n",
    "\n",
    "import pandas as pd\n",
    "import numpy as np\n",
    "\n",
    "import seaborn as sns\n",
    "import matplotlib.pyplot as plt\n",
    "\n",
    "from sklearn.preprocessing import MinMaxScaler, PolynomialFeatures\n",
    "\n",
    "import xgboost as xgb\n",
    "import xgboost as XGBClassifier\n",
    "from sklearn.linear_model import LogisticRegression\n",
    "from sklearn.model_selection import GridSearchCV\n",
    "from sklearn.ensemble import RandomForestClassifier\n",
    "from sklearn.metrics import roc_auc_score\n",
    "from sklearn.metrics import roc_curve\n",
    "from sklearn.naive_bayes import GaussianNB\n",
    "from sklearn.metrics import f1_score\n",
    "import copy\n",
    "\n",
    "from Standard_functions import fit_score_pred, kfold_val_fit_score_pred_log, get_user_split_data\n",
    "from sklearn.metrics import f1_score\n",
    "import warnings\n",
    "from tqdm import tqdm\n",
    "\n",
    "warnings.filterwarnings('always')\n",
    "np.seterr(divide='ignore', invalid='ignore')\n",
    "%matplotlib inline"
   ]
  },
  {
   "cell_type": "code",
   "execution_count": 19,
   "metadata": {},
   "outputs": [],
   "source": [
    "os.chdir('../Data/')"
   ]
  },
  {
   "cell_type": "markdown",
   "metadata": {},
   "source": [
    "# Full Features Logistic\n",
    "solver='liblinear',penalty='l1',C=11250"
   ]
  },
  {
   "cell_type": "code",
   "execution_count": 3,
   "metadata": {},
   "outputs": [],
   "source": [
    "df = pd.read_pickle('full_features')"
   ]
  },
  {
   "cell_type": "code",
   "execution_count": 4,
   "metadata": {},
   "outputs": [],
   "source": [
    "rs = np.random.RandomState(101)\n",
    "\n",
    "total_users = df['user_id'].unique()\n",
    "small_df_users = rs.choice(total_users, \n",
    "               size=int(total_users.shape[0] * .005), \n",
    "               replace=False)\n",
    "\n",
    "df = df[df['user_id'].isin(small_df_users)]"
   ]
  },
  {
   "cell_type": "code",
   "execution_count": 5,
   "metadata": {},
   "outputs": [],
   "source": [
    "X = df.drop(['product_id','user_id',\n",
    "                      'latest_cart','in_cart'],axis=1) \n",
    "y = df['in_cart']\n"
   ]
  },
  {
   "cell_type": "code",
   "execution_count": 6,
   "metadata": {},
   "outputs": [],
   "source": [
    "lr = LogisticRegression()"
   ]
  },
  {
   "cell_type": "code",
   "execution_count": 21,
   "metadata": {},
   "outputs": [
    {
     "data": {
      "text/plain": [
       "GridSearchCV(cv=10, error_score='raise-deprecating',\n",
       "       estimator=LogisticRegression(C=1.0, class_weight=None, dual=False, fit_intercept=True,\n",
       "          intercept_scaling=1, max_iter=100, multi_class='warn',\n",
       "          n_jobs=None, penalty='l2', random_state=None, solver='warn',\n",
       "          tol=0.0001, verbose=0, warm_start=False),\n",
       "       fit_params=None, iid='warn', n_jobs=None,\n",
       "       param_grid={'C': array([10500.     , 10611.11111, 10722.22222, 10833.33333, 10944.44444,\n",
       "       11055.55556, 11166.66667, 11277.77778, 11388.88889, 11500.     ]), 'penalty': ['l1'], 'solver': ['liblinear']},\n",
       "       pre_dispatch='2*n_jobs', refit=True, return_train_score='warn',\n",
       "       scoring=None, verbose=0)"
      ]
     },
     "execution_count": 21,
     "metadata": {},
     "output_type": "execute_result"
    }
   ],
   "source": [
    "param_grid = {\n",
    "    'C': np.linspace(10500,11500,10),\n",
    "    'penalty': ['l1'],\n",
    "    'solver': ['liblinear']\n",
    "}\n",
    "grid = GridSearchCV(lr,param_grid=param_grid, cv=10)\n",
    "grid.fit(X,y)"
   ]
  },
  {
   "cell_type": "code",
   "execution_count": 22,
   "metadata": {},
   "outputs": [
    {
     "data": {
      "text/plain": [
       "{'C': 11277.777777777777, 'penalty': 'l1', 'solver': 'liblinear'}"
      ]
     },
     "execution_count": 22,
     "metadata": {},
     "output_type": "execute_result"
    }
   ],
   "source": [
    "grid.best_params_"
   ]
  },
  {
   "cell_type": "code",
   "execution_count": 23,
   "metadata": {},
   "outputs": [],
   "source": [
    "df = pd.read_pickle('full_features')"
   ]
  },
  {
   "cell_type": "code",
   "execution_count": 5,
   "metadata": {},
   "outputs": [],
   "source": [
    "X_tr, X_val, y_tr, y_val = get_user_split_data(df)"
   ]
  },
  {
   "cell_type": "code",
   "execution_count": 7,
   "metadata": {},
   "outputs": [
    {
     "name": "stdout",
     "output_type": "stream",
     "text": [
      "Our f1-score is 0.2904841402337229\n",
      "The coefficients are: \n",
      "                                        Features  Coefficients\n",
      "0                     num_ord_per_user_per_prod        0.0290\n",
      "1                          product_total_orders        0.0489\n",
      "2                 product_avg_add_to_cart_order       -0.1194\n",
      "3                             user_total_orders        0.0107\n",
      "4                             user_avg_cartsize        0.0257\n",
      "5                           user_total_products       -0.0026\n",
      "6               user_avg_days_since_prior_order        0.0007\n",
      "7            user_product_avg_add_to_cart_order       -0.0019\n",
      "8                       user_product_order_freq        1.5766\n",
      "9      number_orders_since_product_last_ordered       -0.0991\n",
      "10              percent_of_time_product_ordered       -4.1319\n",
      "11               mean_order_hour_of_day_by_user        0.0136\n",
      "12  diff_between_average_and_current_order_time       -0.0035\n",
      "13                             max_order_number       -0.0000\n",
      "14                          recent_order_weight        6.5283\n",
      "And we've predicted 7124 non-re-orders and 262 re-orders.\n"
     ]
    }
   ],
   "source": [
    "\n",
    "\"\"\"    \n",
    "Takes a DataFrame, training, and validation data as its input.\n",
    "Returns Seaborn Pairplot, f1-score, features and their coefficients, and predicted non-re-orders and re-orders.\n",
    "\"\"\"\n",
    "\n",
    "# Note that plot_features already removes 'product_id','user_id',\n",
    "# and 'latest_cart' so we don't need to do it for that function.\n",
    "\n",
    "reduced_df = df.drop(['product_id','user_id',\n",
    "                    'latest_cart','in_cart'],axis=1)\n",
    "\n",
    "\n",
    "\n",
    "features = reduced_df.columns\n",
    "\n",
    "lr = LogisticRegression(solver='liblinear',penalty='l1',C=11250)\n",
    "lr.fit(X_tr, y_tr)\n",
    "vals = pd.DataFrame(lr.predict(X_val))[0].value_counts()\n",
    "coefs = [round(x,4) for x in lr.coef_.tolist()[0]]\n",
    "print('Our f1-score is',f1_score(lr.predict(X_val), y_val))\n",
    "print('The coefficients are: \\n',\n",
    "      pd.DataFrame(list(zip(features,coefs)),\n",
    "            columns=['Features','Coefficients']))\n",
    "print('And we\\'ve predicted',vals[0],'non-re-orders and',\n",
    "vals[1],'re-orders.')"
   ]
  },
  {
   "cell_type": "code",
   "execution_count": 14,
   "metadata": {},
   "outputs": [],
   "source": [
    "import pickle\n",
    "\n",
    "with open(\"../Models/test_model.pkl\", \"wb\") as f:\n",
    "    pickle.dump(lr, f)"
   ]
  },
  {
   "cell_type": "code",
   "execution_count": 15,
   "metadata": {},
   "outputs": [],
   "source": [
    "with open(\"../Models/test_model.pkl\", 'rb') as file:  \n",
    "    test = pickle.load(file)"
   ]
  },
  {
   "cell_type": "code",
   "execution_count": 34,
   "metadata": {},
   "outputs": [
    {
     "name": "stdout",
     "output_type": "stream",
     "text": [
      "Our f1-score is 0.26621437503499507\n",
      "The coefficients are: \n",
      "                                        Features  Coefficients\n",
      "0                     num_ord_per_user_per_prod       -0.0015\n",
      "1                          product_total_orders        0.0530\n",
      "2                 product_avg_add_to_cart_order       -0.0966\n",
      "3                             user_total_orders        0.0115\n",
      "4                             user_avg_cartsize        0.0284\n",
      "5                           user_total_products       -0.0028\n",
      "6               user_avg_days_since_prior_order       -0.0031\n",
      "7            user_product_avg_add_to_cart_order       -0.0048\n",
      "8                       user_product_order_freq        1.6560\n",
      "9      number_orders_since_product_last_ordered       -0.0971\n",
      "10              percent_of_time_product_ordered       -3.9957\n",
      "11               mean_order_hour_of_day_by_user       -0.0016\n",
      "12  diff_between_average_and_current_order_time       -0.0065\n",
      "13                             max_order_number       -0.0000\n",
      "14                          recent_order_weight        6.7433\n",
      "And we've predicted 1648671 non-re-orders and 47063 re-orders.\n"
     ]
    }
   ],
   "source": [
    "plot_fit_score_pred(df, X_tr, X_val, y_tr, y_val)"
   ]
  },
  {
   "cell_type": "markdown",
   "metadata": {},
   "source": [
    "# Full Features After Scaling\n",
    "'C': 11388.888888888889, 'penalty': 'l1', 'solver': 'liblinear'"
   ]
  },
  {
   "cell_type": "code",
   "execution_count": 23,
   "metadata": {},
   "outputs": [],
   "source": [
    "df = pd.read_pickle('full_features_scaled_train')"
   ]
  },
  {
   "cell_type": "code",
   "execution_count": 24,
   "metadata": {},
   "outputs": [],
   "source": [
    "rs = np.random.RandomState(101)\n",
    "\n",
    "total_users = df['user_id'].unique()\n",
    "small_df_users = rs.choice(total_users, \n",
    "               size=int(total_users.shape[0] * .005), \n",
    "               replace=False)\n",
    "\n",
    "df = df[df['user_id'].isin(small_df_users)]"
   ]
  },
  {
   "cell_type": "code",
   "execution_count": 25,
   "metadata": {},
   "outputs": [],
   "source": [
    "lr = LogisticRegression()"
   ]
  },
  {
   "cell_type": "code",
   "execution_count": 26,
   "metadata": {},
   "outputs": [],
   "source": [
    "X = df.drop(['product_id','user_id',\n",
    "                      'latest_cart','in_cart'],axis=1) \n",
    "y = df['in_cart']"
   ]
  },
  {
   "cell_type": "code",
   "execution_count": 27,
   "metadata": {},
   "outputs": [
    {
     "data": {
      "text/plain": [
       "GridSearchCV(cv=10, error_score='raise-deprecating',\n",
       "       estimator=LogisticRegression(C=1.0, class_weight=None, dual=False, fit_intercept=True,\n",
       "          intercept_scaling=1, max_iter=100, multi_class='warn',\n",
       "          n_jobs=None, penalty='l2', random_state=None, solver='warn',\n",
       "          tol=0.0001, verbose=0, warm_start=False),\n",
       "       fit_params=None, iid='warn', n_jobs=None,\n",
       "       param_grid={'C': array([10500.     , 10611.11111, 10722.22222, 10833.33333, 10944.44444,\n",
       "       11055.55556, 11166.66667, 11277.77778, 11388.88889, 11500.     ]), 'penalty': ['l1'], 'solver': ['liblinear', 'saga']},\n",
       "       pre_dispatch='2*n_jobs', refit=True, return_train_score='warn',\n",
       "       scoring=None, verbose=0)"
      ]
     },
     "execution_count": 27,
     "metadata": {},
     "output_type": "execute_result"
    }
   ],
   "source": [
    "param_grid = {\n",
    "    'C': np.linspace(10500,11500,10),\n",
    "    'penalty': ['l1'],\n",
    "    'solver': ['liblinear','saga']\n",
    "}\n",
    "grid = GridSearchCV(lr,param_grid=param_grid, cv=10)\n",
    "grid.fit(X,y)"
   ]
  },
  {
   "cell_type": "code",
   "execution_count": 28,
   "metadata": {},
   "outputs": [
    {
     "data": {
      "text/plain": [
       "{'C': 10611.111111111111, 'penalty': 'l1', 'solver': 'liblinear'}"
      ]
     },
     "execution_count": 28,
     "metadata": {},
     "output_type": "execute_result"
    }
   ],
   "source": [
    "grid.best_params_"
   ]
  },
  {
   "cell_type": "code",
   "execution_count": 29,
   "metadata": {},
   "outputs": [],
   "source": [
    "df = pd.read_pickle('full_features_scaled_train')"
   ]
  },
  {
   "cell_type": "code",
   "execution_count": 48,
   "metadata": {},
   "outputs": [],
   "source": [
    "def plot_fit_score_pred(df, X_tr, X_val, y_tr, y_val):\n",
    "    \"\"\"    \n",
    "    Takes a DataFrame, training, and validation data as its input.\n",
    "    Returns Seaborn Pairplot, f1-score, features and their coefficients, and predicted non-re-orders and re-orders.\n",
    "    \"\"\"\n",
    "    \n",
    "    # Note that plot_features already removes 'product_id','user_id',\n",
    "    # and 'latest_cart' so we don't need to do it for that function.\n",
    "    \n",
    "    reduced_df = df.drop(['product_id','user_id',\n",
    "                        'latest_cart','in_cart'],axis=1)\n",
    "    \n",
    "\n",
    "    \n",
    "    features = reduced_df.columns\n",
    "    \n",
    "    lr = LogisticRegression(solver='liblinear',penalty='l1',C=10611)\n",
    "    lr.fit(X_tr, y_tr)\n",
    "    vals = pd.DataFrame(lr.predict(X_val))[0].value_counts()\n",
    "    coefs = [round(x,4) for x in lr.coef_.tolist()[0]]\n",
    "    print('Our f1-score is',f1_score(lr.predict(X_val), y_val))\n",
    "    print('The coefficients are: \\n',\n",
    "          pd.DataFrame(list(zip(features,coefs)),\n",
    "                columns=['Features','Coefficients']))\n",
    "    print('And we\\'ve predicted',vals[0],'non-re-orders and',\n",
    "    vals[1],'re-orders.')"
   ]
  },
  {
   "cell_type": "code",
   "execution_count": 49,
   "metadata": {},
   "outputs": [
    {
     "name": "stderr",
     "output_type": "stream",
     "text": [
      "0it [00:00, ?it/s]"
     ]
    },
    {
     "name": "stdout",
     "output_type": "stream",
     "text": [
      "Our f1-score is 0.2667406602528529\n",
      "The coefficients are: \n",
      "                                        Features  Coefficients\n",
      "0                     num_ord_per_user_per_prod       -0.0074\n",
      "1                          product_total_orders        0.0530\n",
      "2                 product_avg_add_to_cart_order       -0.0966\n",
      "3                             user_total_orders        0.0109\n",
      "4                             user_avg_cartsize        0.0283\n",
      "5                           user_total_products       -0.0028\n",
      "6               user_avg_days_since_prior_order       -0.0033\n",
      "7            user_product_avg_add_to_cart_order       -0.0049\n",
      "8                       user_product_order_freq        1.5781\n",
      "9      number_orders_since_product_last_ordered       -0.0969\n",
      "10              percent_of_time_product_ordered       -3.9033\n",
      "11               mean_order_hour_of_day_by_user       -0.0015\n",
      "12  diff_between_average_and_current_order_time       -0.0065\n",
      "13                          recent_order_weight        6.7971\n",
      "And we've predicted 1648554 non-re-orders and 47180 re-orders.\n"
     ]
    },
    {
     "data": {
      "text/plain": [
       "0it [00:00, ?it/s]"
      ]
     },
     "execution_count": 49,
     "metadata": {},
     "output_type": "execute_result"
    }
   ],
   "source": [
    "X_tr, X_val, y_tr, y_val = get_user_split_data(df)\n",
    "plot_fit_score_pred(df, X_tr, X_val, y_tr, y_val)"
   ]
  },
  {
   "cell_type": "markdown",
   "metadata": {},
   "source": [
    "# Scaled Polynomial Features Logistic"
   ]
  },
  {
   "cell_type": "code",
   "execution_count": 3,
   "metadata": {},
   "outputs": [],
   "source": [
    "df = pd.read_pickle('full_features_scaled_poly_train')"
   ]
  },
  {
   "cell_type": "code",
   "execution_count": 4,
   "metadata": {},
   "outputs": [],
   "source": [
    "rs = np.random.RandomState(101)\n",
    "\n",
    "total_users = df['user_id'].unique()\n",
    "small_df_users = rs.choice(total_users, \n",
    "               size=int(total_users.shape[0] * .005), \n",
    "               replace=False)\n",
    "\n",
    "df = df[df['user_id'].isin(small_df_users)]"
   ]
  },
  {
   "cell_type": "code",
   "execution_count": 5,
   "metadata": {},
   "outputs": [],
   "source": [
    "X = df.drop(['product_id','user_id',\n",
    "                      'latest_cart','in_cart'],axis=1) \n",
    "y = df['in_cart']"
   ]
  },
  {
   "cell_type": "code",
   "execution_count": 6,
   "metadata": {},
   "outputs": [],
   "source": [
    "lr = LogisticRegression()"
   ]
  },
  {
   "cell_type": "code",
   "execution_count": null,
   "metadata": {},
   "outputs": [],
   "source": [
    "param_grid = {\n",
    "    'C': np.linspace(1,10000,5),\n",
    "    'penalty': ['l1'],\n",
    "    'solver': ['liblinear']\n",
    "}\n",
    "grid = GridSearchCV(lr,param_grid=param_grid, cv=10)\n",
    "grid.fit(X,y)"
   ]
  },
  {
   "cell_type": "code",
   "execution_count": null,
   "metadata": {},
   "outputs": [],
   "source": [
    "grid.best_params_"
   ]
  },
  {
   "cell_type": "code",
   "execution_count": 6,
   "metadata": {},
   "outputs": [],
   "source": [
    "def plot_fit_score_pred(df, X_tr, X_val, y_tr, y_val):\n",
    "    \"\"\"    \n",
    "    Takes a DataFrame, training, and validation data as its input.\n",
    "    Returns Seaborn Pairplot, f1-score, features and their coefficients, and predicted non-re-orders and re-orders.\n",
    "    \"\"\"\n",
    "    \n",
    "    # Note that plot_features already removes 'product_id','user_id',\n",
    "    # and 'latest_cart' so we don't need to do it for that function.\n",
    "    \n",
    "    reduced_df = df.drop(['product_id','user_id',\n",
    "                        'latest_cart','in_cart'],axis=1)\n",
    "    \n",
    "\n",
    "    \n",
    "    features = reduced_df.columns\n",
    "    \n",
    "    lr = LogisticRegression(solver='liblinear',penalty='l1',C=11250)\n",
    "    lr.fit(X_tr, y_tr)\n",
    "    vals = pd.DataFrame(lr.predict(X_val))[0].value_counts()\n",
    "    coefs = [round(x,4) for x in lr.coef_.tolist()[0]]\n",
    "    print('Our f1-score is',f1_score(lr.predict(X_val), y_val))\n",
    "    print('The coefficients are: \\n',\n",
    "          pd.DataFrame(list(zip(features,coefs)),\n",
    "                columns=['Features','Coefficients']))\n",
    "    print('And we\\'ve predicted',vals[0],'non-re-orders and',\n",
    "    vals[1],'re-orders.')"
   ]
  },
  {
   "cell_type": "code",
   "execution_count": 29,
   "metadata": {},
   "outputs": [],
   "source": [
    "df = pd.read_pickle('full_features_scaled_train')"
   ]
  },
  {
   "cell_type": "code",
   "execution_count": 31,
   "metadata": {},
   "outputs": [
    {
     "name": "stdout",
     "output_type": "stream",
     "text": [
      "Our f1-score is 0.2667238581898883\n",
      "The coefficients are: \n",
      "                                        Features  Coefficients\n",
      "0                     num_ord_per_user_per_prod       -0.7238\n",
      "1                          product_total_orders        1.0214\n",
      "2                 product_avg_add_to_cart_order       -4.8931\n",
      "3                             user_total_orders        1.0589\n",
      "4                             user_avg_cartsize        1.9556\n",
      "5                           user_total_products       -2.0093\n",
      "6               user_avg_days_since_prior_order       -0.0934\n",
      "7            user_product_avg_add_to_cart_order       -0.7017\n",
      "8                       user_product_order_freq        1.6027\n",
      "9      number_orders_since_product_last_ordered       -9.4602\n",
      "10              percent_of_time_product_ordered       -3.9432\n",
      "11               mean_order_hour_of_day_by_user        0.0165\n",
      "12  diff_between_average_and_current_order_time       -0.2233\n",
      "13                          recent_order_weight        6.7090\n",
      "And we've predicted 1648503 non-re-orders and 47231 re-orders.\n"
     ]
    }
   ],
   "source": [
    "X_tr, X_val, y_tr, y_val = get_user_split_data(df)\n",
    "plot_fit_score_pred(df, X_tr, X_val, y_tr, y_val)"
   ]
  },
  {
   "cell_type": "markdown",
   "metadata": {},
   "source": [
    "# Full Features Random Forest\n",
    "'max_depth': 4,\n",
    " 'max_leaf_nodes': 42,\n",
    " 'min_samples_leaf': 12,\n",
    " 'min_samples_split': 2,\n",
    " 'n_estimators': 33"
   ]
  },
  {
   "cell_type": "code",
   "execution_count": 53,
   "metadata": {},
   "outputs": [],
   "source": [
    "df = pd.read_pickle('full_features_train')"
   ]
  },
  {
   "cell_type": "code",
   "execution_count": 54,
   "metadata": {},
   "outputs": [],
   "source": [
    "rs = np.random.RandomState(101)\n",
    "\n",
    "total_users = df['user_id'].unique()\n",
    "small_df_users = rs.choice(total_users, \n",
    "               size=int(total_users.shape[0] * .05), \n",
    "               replace=False)\n",
    "\n",
    "df = df[df['user_id'].isin(small_df_users)]"
   ]
  },
  {
   "cell_type": "code",
   "execution_count": 55,
   "metadata": {},
   "outputs": [],
   "source": [
    "rfc = RandomForestClassifier(n_jobs=4,random_state=42)"
   ]
  },
  {
   "cell_type": "code",
   "execution_count": 56,
   "metadata": {},
   "outputs": [],
   "source": [
    "X = df.drop(['product_id','user_id',\n",
    "                      'latest_cart','in_cart'],axis=1) \n",
    "y = df['in_cart']"
   ]
  },
  {
   "cell_type": "code",
   "execution_count": 81,
   "metadata": {},
   "outputs": [
    {
     "data": {
      "text/plain": [
       "GridSearchCV(cv=10, error_score='raise-deprecating',\n",
       "       estimator=RandomForestClassifier(bootstrap=True, class_weight=None, criterion='gini',\n",
       "            max_depth=None, max_features='auto', max_leaf_nodes=None,\n",
       "            min_impurity_decrease=0.0, min_impurity_split=None,\n",
       "            min_samples_leaf=1, min_samples_split=2,\n",
       "            min_weight_fraction_leaf=0.0, n_estimators='warn', n_jobs=4,\n",
       "            oob_score=False, random_state=42, verbose=0, warm_start=False),\n",
       "       fit_params=None, iid='warn', n_jobs=None,\n",
       "       param_grid={'n_estimators': [33], 'max_depth': [4], 'max_leaf_nodes': [42], 'min_samples_split': [2], 'min_samples_leaf': range(2, 13, 2)},\n",
       "       pre_dispatch='2*n_jobs', refit=True, return_train_score='warn',\n",
       "       scoring=None, verbose=0)"
      ]
     },
     "execution_count": 81,
     "metadata": {},
     "output_type": "execute_result"
    }
   ],
   "source": [
    "param_grid = {\n",
    "    'n_estimators': [33],\n",
    "    'max_depth': [4],\n",
    "    'max_leaf_nodes': [42],\n",
    "    'min_samples_split': [2],\n",
    "    'min_samples_leaf': [12]\n",
    "}\n",
    "grid = GridSearchCV(rfc,param_grid=param_grid, cv=10)\n",
    "grid.fit(X,y)"
   ]
  },
  {
   "cell_type": "code",
   "execution_count": 82,
   "metadata": {},
   "outputs": [
    {
     "data": {
      "text/plain": [
       "{'max_depth': 4,\n",
       " 'max_leaf_nodes': 42,\n",
       " 'min_samples_leaf': 12,\n",
       " 'min_samples_split': 2,\n",
       " 'n_estimators': 33}"
      ]
     },
     "execution_count": 82,
     "metadata": {},
     "output_type": "execute_result"
    }
   ],
   "source": [
    "grid.best_params_"
   ]
  },
  {
   "cell_type": "code",
   "execution_count": 88,
   "metadata": {},
   "outputs": [],
   "source": [
    "df = pd.read_pickle('full_features_train')"
   ]
  },
  {
   "cell_type": "code",
   "execution_count": 109,
   "metadata": {},
   "outputs": [],
   "source": [
    "def plot_fit_score_pred(df, X_tr, X_val, y_tr, y_val):\n",
    "    \"\"\"    \n",
    "    Takes a DataFrame, training, and validation data as its input.\n",
    "    Returns Seaborn Pairplot, f1-score, features and their coefficients, and predicted non-re-orders and re-orders.\n",
    "    \"\"\"\n",
    "    \n",
    "    # Note that plot_features already removes 'product_id','user_id',\n",
    "    # and 'latest_cart' so we don't need to do it for that function.\n",
    "    \n",
    "    reduced_df = df.drop(['product_id','user_id',\n",
    "                        'latest_cart','in_cart'],axis=1)\n",
    "    \n",
    "    \n",
    "    features = reduced_df.columns\n",
    "    \n",
    "    rfc = RandomForestClassifier(n_estimators=10)\n",
    "    rfc.fit(X_tr, y_tr)\n",
    "    vals = pd.DataFrame(rfc.predict(X_val))[0].value_counts()\n",
    "    print('Our f1-score is',f1_score(rfc.predict(X_val), y_val))\n",
    "    print('And we\\'ve predicted',vals[0],'non-re-orders and',\n",
    "    vals[1],'re-orders.')"
   ]
  },
  {
   "cell_type": "code",
   "execution_count": 110,
   "metadata": {},
   "outputs": [
    {
     "name": "stdout",
     "output_type": "stream",
     "text": [
      "Our f1-score is 0.24203591482737533\n",
      "And we've predicted 1647143 non-re-orders and 48591 re-orders.\n"
     ]
    }
   ],
   "source": [
    "X_tr, X_val, y_tr, y_val = get_user_split_data(df)\n",
    "plot_fit_score_pred(df, X_tr, X_val, y_tr, y_val)"
   ]
  },
  {
   "cell_type": "code",
   "execution_count": 113,
   "metadata": {},
   "outputs": [
    {
     "data": {
      "text/plain": [
       "131209"
      ]
     },
     "execution_count": 113,
     "metadata": {},
     "output_type": "execute_result"
    }
   ],
   "source": [
    "df.user_id.nunique()"
   ]
  },
  {
   "cell_type": "code",
   "execution_count": 114,
   "metadata": {},
   "outputs": [],
   "source": [
    "train_df = pd.read_pickle('full_features_scaled_poly_train')\n",
    "test_df = pd.read_pickle('full_features_scaled_poly_test')"
   ]
  },
  {
   "cell_type": "code",
   "execution_count": 115,
   "metadata": {},
   "outputs": [
    {
     "data": {
      "text/html": [
       "<div>\n",
       "<style scoped>\n",
       "    .dataframe tbody tr th:only-of-type {\n",
       "        vertical-align: middle;\n",
       "    }\n",
       "\n",
       "    .dataframe tbody tr th {\n",
       "        vertical-align: top;\n",
       "    }\n",
       "\n",
       "    .dataframe thead th {\n",
       "        text-align: right;\n",
       "    }\n",
       "</style>\n",
       "<table border=\"1\" class=\"dataframe\">\n",
       "  <thead>\n",
       "    <tr style=\"text-align: right;\">\n",
       "      <th></th>\n",
       "      <th>product_id</th>\n",
       "      <th>latest_cart</th>\n",
       "      <th>in_cart</th>\n",
       "      <th>user_id</th>\n",
       "      <th>0</th>\n",
       "      <th>1</th>\n",
       "      <th>2</th>\n",
       "      <th>3</th>\n",
       "      <th>4</th>\n",
       "      <th>5</th>\n",
       "      <th>...</th>\n",
       "      <th>110</th>\n",
       "      <th>111</th>\n",
       "      <th>112</th>\n",
       "      <th>113</th>\n",
       "      <th>114</th>\n",
       "      <th>115</th>\n",
       "      <th>116</th>\n",
       "      <th>117</th>\n",
       "      <th>118</th>\n",
       "      <th>119</th>\n",
       "    </tr>\n",
       "  </thead>\n",
       "  <tbody>\n",
       "    <tr>\n",
       "      <th>0</th>\n",
       "      <td>1</td>\n",
       "      <td>{42475}</td>\n",
       "      <td>0</td>\n",
       "      <td>138</td>\n",
       "      <td>0.0</td>\n",
       "      <td>0.010204</td>\n",
       "      <td>0.575850</td>\n",
       "      <td>0.092343</td>\n",
       "      <td>0.302083</td>\n",
       "      <td>0.052347</td>\n",
       "      <td>...</td>\n",
       "      <td>0.000997</td>\n",
       "      <td>0.019802</td>\n",
       "      <td>0.560615</td>\n",
       "      <td>0.001723</td>\n",
       "      <td>0.303338</td>\n",
       "      <td>0.698951</td>\n",
       "      <td>0.034624</td>\n",
       "      <td>0.000918</td>\n",
       "      <td>0.575891</td>\n",
       "      <td>0.002978</td>\n",
       "    </tr>\n",
       "    <tr>\n",
       "      <th>1</th>\n",
       "      <td>907</td>\n",
       "      <td>{42475}</td>\n",
       "      <td>0</td>\n",
       "      <td>138</td>\n",
       "      <td>0.0</td>\n",
       "      <td>0.010204</td>\n",
       "      <td>0.582685</td>\n",
       "      <td>0.051026</td>\n",
       "      <td>0.302083</td>\n",
       "      <td>0.052347</td>\n",
       "      <td>...</td>\n",
       "      <td>0.000997</td>\n",
       "      <td>0.019802</td>\n",
       "      <td>0.560615</td>\n",
       "      <td>0.000574</td>\n",
       "      <td>0.303338</td>\n",
       "      <td>0.698951</td>\n",
       "      <td>0.011541</td>\n",
       "      <td>0.000918</td>\n",
       "      <td>0.576588</td>\n",
       "      <td>0.000331</td>\n",
       "    </tr>\n",
       "    <tr>\n",
       "      <th>2</th>\n",
       "      <td>1000</td>\n",
       "      <td>{42475}</td>\n",
       "      <td>0</td>\n",
       "      <td>138</td>\n",
       "      <td>0.0</td>\n",
       "      <td>0.000000</td>\n",
       "      <td>0.602108</td>\n",
       "      <td>0.163528</td>\n",
       "      <td>0.302083</td>\n",
       "      <td>0.052347</td>\n",
       "      <td>...</td>\n",
       "      <td>0.000000</td>\n",
       "      <td>0.000000</td>\n",
       "      <td>0.561185</td>\n",
       "      <td>0.000000</td>\n",
       "      <td>0.303338</td>\n",
       "      <td>0.698951</td>\n",
       "      <td>0.000000</td>\n",
       "      <td>0.000918</td>\n",
       "      <td>0.576936</td>\n",
       "      <td>0.000000</td>\n",
       "    </tr>\n",
       "    <tr>\n",
       "      <th>3</th>\n",
       "      <td>3265</td>\n",
       "      <td>{42475}</td>\n",
       "      <td>0</td>\n",
       "      <td>138</td>\n",
       "      <td>0.0</td>\n",
       "      <td>0.000000</td>\n",
       "      <td>0.655888</td>\n",
       "      <td>0.101653</td>\n",
       "      <td>0.302083</td>\n",
       "      <td>0.052347</td>\n",
       "      <td>...</td>\n",
       "      <td>0.000000</td>\n",
       "      <td>0.000000</td>\n",
       "      <td>0.561185</td>\n",
       "      <td>0.000000</td>\n",
       "      <td>0.303338</td>\n",
       "      <td>0.698951</td>\n",
       "      <td>0.000000</td>\n",
       "      <td>0.000918</td>\n",
       "      <td>0.576936</td>\n",
       "      <td>0.000000</td>\n",
       "    </tr>\n",
       "    <tr>\n",
       "      <th>4</th>\n",
       "      <td>4913</td>\n",
       "      <td>{42475}</td>\n",
       "      <td>0</td>\n",
       "      <td>138</td>\n",
       "      <td>0.0</td>\n",
       "      <td>0.000000</td>\n",
       "      <td>0.524920</td>\n",
       "      <td>0.087205</td>\n",
       "      <td>0.302083</td>\n",
       "      <td>0.052347</td>\n",
       "      <td>...</td>\n",
       "      <td>0.000000</td>\n",
       "      <td>0.000000</td>\n",
       "      <td>0.561185</td>\n",
       "      <td>0.000000</td>\n",
       "      <td>0.303338</td>\n",
       "      <td>0.698951</td>\n",
       "      <td>0.000000</td>\n",
       "      <td>0.000918</td>\n",
       "      <td>0.576936</td>\n",
       "      <td>0.000000</td>\n",
       "    </tr>\n",
       "  </tbody>\n",
       "</table>\n",
       "<p>5 rows × 124 columns</p>\n",
       "</div>"
      ],
      "text/plain": [
       "   product_id latest_cart  in_cart  user_id    0         1         2  \\\n",
       "0           1     {42475}        0      138  0.0  0.010204  0.575850   \n",
       "1         907     {42475}        0      138  0.0  0.010204  0.582685   \n",
       "2        1000     {42475}        0      138  0.0  0.000000  0.602108   \n",
       "3        3265     {42475}        0      138  0.0  0.000000  0.655888   \n",
       "4        4913     {42475}        0      138  0.0  0.000000  0.524920   \n",
       "\n",
       "          3         4         5  ...       110       111       112       113  \\\n",
       "0  0.092343  0.302083  0.052347  ...  0.000997  0.019802  0.560615  0.001723   \n",
       "1  0.051026  0.302083  0.052347  ...  0.000997  0.019802  0.560615  0.000574   \n",
       "2  0.163528  0.302083  0.052347  ...  0.000000  0.000000  0.561185  0.000000   \n",
       "3  0.101653  0.302083  0.052347  ...  0.000000  0.000000  0.561185  0.000000   \n",
       "4  0.087205  0.302083  0.052347  ...  0.000000  0.000000  0.561185  0.000000   \n",
       "\n",
       "        114       115       116       117       118       119  \n",
       "0  0.303338  0.698951  0.034624  0.000918  0.575891  0.002978  \n",
       "1  0.303338  0.698951  0.011541  0.000918  0.576588  0.000331  \n",
       "2  0.303338  0.698951  0.000000  0.000918  0.576936  0.000000  \n",
       "3  0.303338  0.698951  0.000000  0.000918  0.576936  0.000000  \n",
       "4  0.303338  0.698951  0.000000  0.000918  0.576936  0.000000  \n",
       "\n",
       "[5 rows x 124 columns]"
      ]
     },
     "execution_count": 115,
     "metadata": {},
     "output_type": "execute_result"
    }
   ],
   "source": [
    "train_df.head()"
   ]
  },
  {
   "cell_type": "code",
   "execution_count": 116,
   "metadata": {},
   "outputs": [
    {
     "data": {
      "text/html": [
       "<div>\n",
       "<style scoped>\n",
       "    .dataframe tbody tr th:only-of-type {\n",
       "        vertical-align: middle;\n",
       "    }\n",
       "\n",
       "    .dataframe tbody tr th {\n",
       "        vertical-align: top;\n",
       "    }\n",
       "\n",
       "    .dataframe thead th {\n",
       "        text-align: right;\n",
       "    }\n",
       "</style>\n",
       "<table border=\"1\" class=\"dataframe\">\n",
       "  <thead>\n",
       "    <tr style=\"text-align: right;\">\n",
       "      <th></th>\n",
       "      <th>product_id</th>\n",
       "      <th>user_id</th>\n",
       "      <th>0</th>\n",
       "      <th>1</th>\n",
       "      <th>2</th>\n",
       "      <th>3</th>\n",
       "      <th>4</th>\n",
       "      <th>5</th>\n",
       "      <th>6</th>\n",
       "      <th>7</th>\n",
       "      <th>...</th>\n",
       "      <th>110</th>\n",
       "      <th>111</th>\n",
       "      <th>112</th>\n",
       "      <th>113</th>\n",
       "      <th>114</th>\n",
       "      <th>115</th>\n",
       "      <th>116</th>\n",
       "      <th>117</th>\n",
       "      <th>118</th>\n",
       "      <th>119</th>\n",
       "    </tr>\n",
       "  </thead>\n",
       "  <tbody>\n",
       "    <tr>\n",
       "      <th>0</th>\n",
       "      <td>1</td>\n",
       "      <td>764</td>\n",
       "      <td>0.0</td>\n",
       "      <td>0.010204</td>\n",
       "      <td>0.57585</td>\n",
       "      <td>0.134631</td>\n",
       "      <td>0.000000</td>\n",
       "      <td>0.318841</td>\n",
       "      <td>0.048287</td>\n",
       "      <td>0.364957</td>\n",
       "      <td>...</td>\n",
       "      <td>0.113390</td>\n",
       "      <td>0.212327</td>\n",
       "      <td>0.536931</td>\n",
       "      <td>0.103082</td>\n",
       "      <td>0.290000</td>\n",
       "      <td>0.657656</td>\n",
       "      <td>0.201863</td>\n",
       "      <td>0.018098</td>\n",
       "      <td>0.534943</td>\n",
       "      <td>0.093711</td>\n",
       "    </tr>\n",
       "    <tr>\n",
       "      <th>1</th>\n",
       "      <td>1</td>\n",
       "      <td>825</td>\n",
       "      <td>0.0</td>\n",
       "      <td>0.000000</td>\n",
       "      <td>0.57585</td>\n",
       "      <td>0.134631</td>\n",
       "      <td>0.062500</td>\n",
       "      <td>0.046377</td>\n",
       "      <td>0.023364</td>\n",
       "      <td>0.756667</td>\n",
       "      <td>...</td>\n",
       "      <td>0.000000</td>\n",
       "      <td>0.000000</td>\n",
       "      <td>0.566558</td>\n",
       "      <td>0.000000</td>\n",
       "      <td>0.492267</td>\n",
       "      <td>0.818066</td>\n",
       "      <td>0.000000</td>\n",
       "      <td>0.022702</td>\n",
       "      <td>0.563581</td>\n",
       "      <td>0.000000</td>\n",
       "    </tr>\n",
       "    <tr>\n",
       "      <th>2</th>\n",
       "      <td>1</td>\n",
       "      <td>910</td>\n",
       "      <td>0.0</td>\n",
       "      <td>0.000000</td>\n",
       "      <td>0.57585</td>\n",
       "      <td>0.134631</td>\n",
       "      <td>0.093750</td>\n",
       "      <td>0.011594</td>\n",
       "      <td>0.017134</td>\n",
       "      <td>0.256140</td>\n",
       "      <td>...</td>\n",
       "      <td>0.000000</td>\n",
       "      <td>0.000000</td>\n",
       "      <td>0.566558</td>\n",
       "      <td>0.000000</td>\n",
       "      <td>0.318107</td>\n",
       "      <td>0.666221</td>\n",
       "      <td>0.000000</td>\n",
       "      <td>0.012491</td>\n",
       "      <td>0.563581</td>\n",
       "      <td>0.000000</td>\n",
       "    </tr>\n",
       "    <tr>\n",
       "      <th>3</th>\n",
       "      <td>1</td>\n",
       "      <td>1379</td>\n",
       "      <td>0.0</td>\n",
       "      <td>0.000000</td>\n",
       "      <td>0.57585</td>\n",
       "      <td>0.134631</td>\n",
       "      <td>0.072917</td>\n",
       "      <td>0.020870</td>\n",
       "      <td>0.028037</td>\n",
       "      <td>0.589474</td>\n",
       "      <td>...</td>\n",
       "      <td>0.000000</td>\n",
       "      <td>0.000000</td>\n",
       "      <td>0.566558</td>\n",
       "      <td>0.000000</td>\n",
       "      <td>0.296529</td>\n",
       "      <td>0.679793</td>\n",
       "      <td>0.000000</td>\n",
       "      <td>0.007754</td>\n",
       "      <td>0.563581</td>\n",
       "      <td>0.000000</td>\n",
       "    </tr>\n",
       "    <tr>\n",
       "      <th>4</th>\n",
       "      <td>1</td>\n",
       "      <td>1480</td>\n",
       "      <td>0.0</td>\n",
       "      <td>0.020408</td>\n",
       "      <td>0.57585</td>\n",
       "      <td>0.134631</td>\n",
       "      <td>0.416667</td>\n",
       "      <td>0.062690</td>\n",
       "      <td>0.079439</td>\n",
       "      <td>0.282373</td>\n",
       "      <td>...</td>\n",
       "      <td>0.002208</td>\n",
       "      <td>0.027634</td>\n",
       "      <td>0.568775</td>\n",
       "      <td>0.003729</td>\n",
       "      <td>0.251304</td>\n",
       "      <td>0.755824</td>\n",
       "      <td>0.048814</td>\n",
       "      <td>0.005207</td>\n",
       "      <td>0.567563</td>\n",
       "      <td>0.006299</td>\n",
       "    </tr>\n",
       "  </tbody>\n",
       "</table>\n",
       "<p>5 rows × 122 columns</p>\n",
       "</div>"
      ],
      "text/plain": [
       "   product_id  user_id    0         1        2         3         4         5  \\\n",
       "0           1      764  0.0  0.010204  0.57585  0.134631  0.000000  0.318841   \n",
       "1           1      825  0.0  0.000000  0.57585  0.134631  0.062500  0.046377   \n",
       "2           1      910  0.0  0.000000  0.57585  0.134631  0.093750  0.011594   \n",
       "3           1     1379  0.0  0.000000  0.57585  0.134631  0.072917  0.020870   \n",
       "4           1     1480  0.0  0.020408  0.57585  0.134631  0.416667  0.062690   \n",
       "\n",
       "          6         7  ...       110       111       112       113       114  \\\n",
       "0  0.048287  0.364957  ...  0.113390  0.212327  0.536931  0.103082  0.290000   \n",
       "1  0.023364  0.756667  ...  0.000000  0.000000  0.566558  0.000000  0.492267   \n",
       "2  0.017134  0.256140  ...  0.000000  0.000000  0.566558  0.000000  0.318107   \n",
       "3  0.028037  0.589474  ...  0.000000  0.000000  0.566558  0.000000  0.296529   \n",
       "4  0.079439  0.282373  ...  0.002208  0.027634  0.568775  0.003729  0.251304   \n",
       "\n",
       "        115       116       117       118       119  \n",
       "0  0.657656  0.201863  0.018098  0.534943  0.093711  \n",
       "1  0.818066  0.000000  0.022702  0.563581  0.000000  \n",
       "2  0.666221  0.000000  0.012491  0.563581  0.000000  \n",
       "3  0.679793  0.000000  0.007754  0.563581  0.000000  \n",
       "4  0.755824  0.048814  0.005207  0.567563  0.006299  \n",
       "\n",
       "[5 rows x 122 columns]"
      ]
     },
     "execution_count": 116,
     "metadata": {},
     "output_type": "execute_result"
    }
   ],
   "source": [
    "test_df.head()"
   ]
  },
  {
   "cell_type": "markdown",
   "metadata": {},
   "source": [
    "## Gaussian Naive Bayes"
   ]
  },
  {
   "cell_type": "code",
   "execution_count": 68,
   "metadata": {},
   "outputs": [],
   "source": [
    "df = pd.read_pickle('full_features_with_dep')"
   ]
  },
  {
   "cell_type": "code",
   "execution_count": 69,
   "metadata": {},
   "outputs": [],
   "source": [
    "X_tr, X_val, y_tr, y_val = get_user_split_data(df)"
   ]
  },
  {
   "cell_type": "code",
   "execution_count": 70,
   "metadata": {},
   "outputs": [],
   "source": [
    "clf = GaussianNB(var_smoothing=1e-9)\n",
    "clf.fit(X_tr, y_tr)\n",
    "probabilities = clf.predict_proba(X_val)[:,1]\n"
   ]
  },
  {
   "cell_type": "code",
   "execution_count": 71,
   "metadata": {},
   "outputs": [
    {
     "data": {
      "text/plain": [
       "0.7950174703006965"
      ]
     },
     "execution_count": 71,
     "metadata": {},
     "output_type": "execute_result"
    }
   ],
   "source": [
    "roc_auc_score(y_val,probabilities)"
   ]
  },
  {
   "cell_type": "code",
   "execution_count": 72,
   "metadata": {},
   "outputs": [],
   "source": [
    "fpr, tpr, thresholds = roc_curve(y_val,probabilities)"
   ]
  },
  {
   "cell_type": "code",
   "execution_count": 73,
   "metadata": {},
   "outputs": [
    {
     "name": "stdout",
     "output_type": "stream",
     "text": [
      "ROC AUC score =  0.7950174703006965\n"
     ]
    },
    {
     "data": {
      "image/png": "[encoded data removed]",
      "text/plain": [
       "<Figure size 432x288 with 1 Axes>"
      ]
     },
     "metadata": {
      "needs_background": "light"
     },
     "output_type": "display_data"
    }
   ],
   "source": [
    "plt.plot(fpr, tpr,lw=2)\n",
    "plt.plot([0,1],[0,1],c='violet',ls='--')\n",
    "plt.xlim([-0.05,1.05])\n",
    "plt.ylim([-0.05,1.05])\n",
    "\n",
    "plt.xlabel('False positive rate')\n",
    "plt.ylabel('True positive rate')\n",
    "plt.title('Mah Curve');\n",
    "print(\"ROC AUC score = \", roc_auc_score(y_val, probabilities))"
   ]
  },
  {
   "cell_type": "code",
   "execution_count": 56,
   "metadata": {},
   "outputs": [],
   "source": [
    "lr = LogisticRegression(solver='liblinear',C=10611)\n",
    "lr.fit(X_tr, y_tr)\n",
    "probabilities = clf.predict_proba(X_val)[:,1]"
   ]
  },
  {
   "cell_type": "code",
   "execution_count": 57,
   "metadata": {},
   "outputs": [],
   "source": [
    "fpr, tpr, thresholds = roc_curve(y_val,probabilities)"
   ]
  },
  {
   "cell_type": "code",
   "execution_count": 58,
   "metadata": {},
   "outputs": [
    {
     "name": "stdout",
     "output_type": "stream",
     "text": [
      "ROC AUC score =  0.7950174703006965\n"
     ]
    },
    {
     "data": {
      "image/png": "[encoded data removed]",
      "text/plain": [
       "<Figure size 432x288 with 1 Axes>"
      ]
     },
     "metadata": {
      "needs_background": "light"
     },
     "output_type": "display_data"
    }
   ],
   "source": [
    "plt.plot(fpr, tpr,lw=2)\n",
    "plt.plot([0,1],[0,1],c='violet',ls='--')\n",
    "plt.xlim([-0.05,1.05])\n",
    "plt.ylim([-0.05,1.05])\n",
    "\n",
    "plt.xlabel('False positive rate')\n",
    "plt.ylabel('True positive rate')\n",
    "plt.title('Mah Curve');\n",
    "print(\"ROC AUC score = \", roc_auc_score(y_val, probabilities))"
   ]
  },
  {
   "cell_type": "markdown",
   "metadata": {},
   "source": [
    "## Messing with thresholds"
   ]
  },
  {
   "cell_type": "code",
   "execution_count": 130,
   "metadata": {},
   "outputs": [],
   "source": [
    "df = pd.read_pickle('full_features_with_dep')"
   ]
  },
  {
   "cell_type": "code",
   "execution_count": 131,
   "metadata": {},
   "outputs": [],
   "source": [
    "X_tr, X_val, y_tr, y_val = get_user_split_data(df)"
   ]
  },
  {
   "cell_type": "code",
   "execution_count": 132,
   "metadata": {},
   "outputs": [],
   "source": [
    "clf = GaussianNB(var_smoothing=1e-9)\n",
    "clf.fit(X_tr, y_tr)\n",
    "probabilities = clf.predict_proba(X_val)[:,1]\n"
   ]
  },
  {
   "cell_type": "code",
   "execution_count": 133,
   "metadata": {},
   "outputs": [
    {
     "data": {
      "text/plain": [
       "0.7950174703006965"
      ]
     },
     "execution_count": 133,
     "metadata": {},
     "output_type": "execute_result"
    }
   ],
   "source": [
    "roc_auc_score(y_val,probabilities)"
   ]
  },
  {
   "cell_type": "code",
   "execution_count": 134,
   "metadata": {},
   "outputs": [],
   "source": [
    "fpr, tpr, thresholds = roc_curve(y_val,probabilities)"
   ]
  },
  {
   "cell_type": "code",
   "execution_count": 137,
   "metadata": {},
   "outputs": [],
   "source": [
    "probs = pd.DataFrame(probabilities)\n",
    "probs.columns = ['score']\n",
    "test = copy.deepcopy(probs)"
   ]
  },
  {
   "cell_type": "code",
   "execution_count": 140,
   "metadata": {},
   "outputs": [],
   "source": [
    "\n",
    "conditions = [\n",
    "    (test.score > 0.5),\n",
    "    (test.score < 0.5)\n",
    "]\n",
    "choices = [1,0]\n",
    "test.score = np.select(conditions, choices)"
   ]
  },
  {
   "cell_type": "code",
   "execution_count": 141,
   "metadata": {},
   "outputs": [
    {
     "data": {
      "text/plain": [
       "0.40047800190876326"
      ]
     },
     "execution_count": 141,
     "metadata": {},
     "output_type": "execute_result"
    }
   ],
   "source": [
    "f1_score(y_val,test)"
   ]
  },
  {
   "cell_type": "code",
   "execution_count": null,
   "metadata": {},
   "outputs": [],
   "source": [
    "test.head()"
   ]
  },
  {
   "cell_type": "code",
   "execution_count": null,
   "metadata": {},
   "outputs": [],
   "source": [
    "threshold = np.linspace(.2,.5,100)\n",
    "dict_thresholdf1 = dict()\n",
    "\n",
    "for i in threshold:\n",
    "    test = copy.deepcopy(probs)\n",
    "    conditions = [\n",
    "    (test.score > i),\n",
    "    (test.score < i)\n",
    "    ]\n",
    "    choices = [1,0]\n",
    "    test.score = np.select(conditions, choices)\n",
    "    dict_thresholdf1[i] = f1_score(y_val,test)\n",
    "\n",
    "dict_thresholdf1"
   ]
  },
  {
   "cell_type": "code",
   "execution_count": null,
   "metadata": {},
   "outputs": [],
   "source": []
  }
 ],
 "metadata": {
  "kernelspec": {
   "display_name": "Python 3",
   "language": "python",
   "name": "python3"
  },
  "language_info": {
   "codemirror_mode": {
    "name": "ipython",
    "version": 3
   },
   "file_extension": ".py",
   "mimetype": "text/x-python",
   "name": "python",
   "nbconvert_exporter": "python",
   "pygments_lexer": "ipython3",
   "version": "3.7.2"
  }
 },
 "nbformat": 4,
 "nbformat_minor": 2
}

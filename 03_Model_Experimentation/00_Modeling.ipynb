{
 "cells": [
  {
   "cell_type": "code",
   "execution_count": 1,
   "metadata": {},
   "outputs": [],
   "source": [
    "import os\n",
    "\n",
    "from collections import OrderedDict\n",
    "\n",
    "import pandas as pd\n",
    "import numpy as np\n",
    "\n",
    "import seaborn as sns\n",
    "import matplotlib.pyplot as plt\n",
    "\n",
    "from sklearn.linear_model import LogisticRegression\n",
    "from sklearn.metrics import f1_score\n",
    "import scipy\n",
    "from sklearn.ensemble import RandomForestClassifier\n",
    "from sklearn.naive_bayes import GaussianNB\n",
    "\n",
    "from Standard_functions import plot_features, get_user_split_data, plot_fit_score_pred, fit_score_pred, kfold_val_fit_score_pred_log, kfold_val_fit_score_pred_G_NB, kfold_val_fit_score_pred_RF, fit_score_pred_RF, kfold_val_fit_score_pred_M_NB\n",
    "\n",
    "import warnings\n",
    "\n",
    "warnings.filterwarnings('always') \n",
    "np.seterr(divide='ignore', invalid='ignore')\n",
    "%matplotlib inline"
   ]
  },
  {
   "cell_type": "markdown",
   "metadata": {},
   "source": [
    "## Logistic Regression\n",
    "The following score was achieved in Logistic Regression using the following features:  \n",
    "Average f1-score: 0.144 +- 0.016:\n",
    "* num_ord_per_user_per_prod  \n",
    "* product_total_orders  \n",
    "* product_avg_add_to_cart_order  \n",
    "* user_total_orders  \n",
    "* user_avg_cartsize  \n",
    "* user_total_products  \n",
    "* user_avg_days_since_prior_order  \n",
    "* user_product_avg_add_to_cart_order  \n",
    "* user_product_order_freq  \n",
    "* number_orders_since_product_last_ordered  \n",
    "* percent_of_time_product_ordered  \n",
    "* mean_order_hour_of_day_by_user  \n",
    "* diff_between_average_and_current_order_time  \n",
    "* max_order_number  \n",
    "* recent_order_weight  \n",
    "\n",
    "After dropping max_order_number the following score was achieved:  \n",
    "Average f1-score: 0.250 +- 0.001\n",
    "   \n",
    "## Gaussian Naive Bayes - All Features\n",
    "Average f1-score: 0.347 +- 0.001\n",
    "\n",
    "\n",
    "After dropping max_order_number the following score was achieved:  \n",
    "Average f1-score: 0.400 +- 0.001\n",
    "\n",
    "\n",
    "## Random Forest n_estimators = 10  - All Features\n",
    "Average f1-score: 0.278 +- 0.002\n",
    "\n",
    "## Multinomial Naive Bayes - All Features\n",
    "Average f1-score: 0.183 +- 0.001\n",
    "\n",
    "\n",
    "After dropping max_order_number the following score was achieved:  \n",
    "Average f1-score: 0.286 +- 0.000\n",
    "\n"
   ]
  },
  {
   "cell_type": "code",
   "execution_count": 2,
   "metadata": {},
   "outputs": [],
   "source": [
    "os.chdir('../Data/')"
   ]
  },
  {
   "cell_type": "code",
   "execution_count": 3,
   "metadata": {},
   "outputs": [],
   "source": [
    "df = pd.read_pickle('full_features')"
   ]
  },
  {
   "cell_type": "code",
   "execution_count": null,
   "metadata": {},
   "outputs": [],
   "source": [
    "kfold_val_fit_score_pred(df, val_size=.2, seed=42)"
   ]
  },
  {
   "cell_type": "markdown",
   "metadata": {},
   "source": [
    "### Dropping max order number increases score by ~10%"
   ]
  },
  {
   "cell_type": "code",
   "execution_count": 4,
   "metadata": {},
   "outputs": [],
   "source": [
    "df.drop(['max_order_number'],axis=1,inplace=True)"
   ]
  },
  {
   "cell_type": "code",
   "execution_count": null,
   "metadata": {},
   "outputs": [],
   "source": [
    "kfold_val_fit_score_pred(df, val_size=.2, seed=42)"
   ]
  },
  {
   "cell_type": "code",
   "execution_count": 14,
   "metadata": {},
   "outputs": [],
   "source": [
    "test = pd.read_pickle('full_features')"
   ]
  },
  {
   "cell_type": "code",
   "execution_count": 5,
   "metadata": {},
   "outputs": [
    {
     "name": "stdout",
     "output_type": "stream",
     "text": [
      "1\n",
      "1\n",
      "1\n",
      "1\n",
      "1\n",
      "Individual f-1 score:  [0.40078980926654684, 0.398303739110914, 0.3996617211169772, 0.39949921512655223, 0.39952020112117387]\n",
      "Average f1-score: 0.400 +- 0.001\n"
     ]
    }
   ],
   "source": [
    "kfold_val_fit_score_pred_G_NB(df)"
   ]
  },
  {
   "cell_type": "code",
   "execution_count": 7,
   "metadata": {},
   "outputs": [
    {
     "name": "stdout",
     "output_type": "stream",
     "text": [
      "1\n",
      "1\n",
      "1\n",
      "1\n",
      "1\n",
      "Individual f-1 score:  [0.28663903956515396, 0.28639571016703874, 0.28620533573544504, 0.28682152283079676, 0.28556139654162765]\n",
      "Average f1-score: 0.286 +- 0.000\n"
     ]
    }
   ],
   "source": [
    "kfold_val_fit_score_pred_M_NB(df)"
   ]
  },
  {
   "cell_type": "code",
   "execution_count": 4,
   "metadata": {},
   "outputs": [
    {
     "name": "stdout",
     "output_type": "stream",
     "text": [
      "1\n",
      "1\n",
      "1\n",
      "1\n",
      "1\n",
      "Individual f-1 score:  [0.27658351749496574, 0.27635676415414906, 0.2769318277183592, 0.2784755989847244, 0.28041748437230507]\n",
      "Average f1-score: 0.278 +- 0.002\n"
     ]
    }
   ],
   "source": [
    "kfold_val_fit_score_pred_RF(df)"
   ]
  },
  {
   "cell_type": "code",
   "execution_count": 12,
   "metadata": {},
   "outputs": [],
   "source": [
    "def fit_score_pred_RF(df, X_train, X_val, y_train, y_val):\n",
    "    \"\"\"    \n",
    "    Takes a DataFrame, training, and validation data as its input.\n",
    "    Returns f1-score, features and their coefficients, and predicted non-re-orders and re-orders.\n",
    "    \"\"\"\n",
    "    \n",
    "    rfc = RandomForestClassifier(n_estimators=25)\n",
    "    rfc.fit(X_train, y_train)        \n",
    "    vals = pd.DataFrame(rfc.predict(X_val))[0].value_counts()\n",
    "    print('Our f1-score is',f1_score(rfc.predict(X_val), y_val))\n",
    "    print('And we\\'ve predicted',vals[0],'non-re-orders and',\n",
    "    vals[1],'re-orders.')"
   ]
  },
  {
   "cell_type": "code",
   "execution_count": 11,
   "metadata": {},
   "outputs": [
    {
     "name": "stdout",
     "output_type": "stream",
     "text": [
      "Our f1-score is 0.24183378964972507\n",
      "And we've predicted 1647128 non-re-orders and 48606 re-orders.\n"
     ]
    }
   ],
   "source": [
    "X_tr, X_val, y_tr, y_val = get_user_split_data(df)\n",
    "fit_score_pred_RF(df, X_tr, X_val, y_tr, y_val)"
   ]
  },
  {
   "cell_type": "code",
   "execution_count": 13,
   "metadata": {},
   "outputs": [
    {
     "name": "stdout",
     "output_type": "stream",
     "text": [
      "Our f1-score is 0.27204383282364936\n",
      "And we've predicted 1643243 non-re-orders and 52491 re-orders.\n"
     ]
    }
   ],
   "source": [
    "X_tr, X_val, y_tr, y_val = get_user_split_data(df)\n",
    "fit_score_pred_RF(df, X_tr, X_val, y_tr, y_val)"
   ]
  },
  {
   "cell_type": "code",
   "execution_count": null,
   "metadata": {},
   "outputs": [],
   "source": []
  },
  {
   "cell_type": "code",
   "execution_count": null,
   "metadata": {},
   "outputs": [],
   "source": []
  },
  {
   "cell_type": "code",
   "execution_count": 2,
   "metadata": {},
   "outputs": [],
   "source": [
    "os.chdir('../Data/')"
   ]
  },
  {
   "cell_type": "code",
   "execution_count": 9,
   "metadata": {},
   "outputs": [],
   "source": [
    "df = pd.read_pickle('no_feature_reduction')"
   ]
  },
  {
   "cell_type": "markdown",
   "metadata": {},
   "source": [
    "### Dropping max order number increases score by ~10%"
   ]
  },
  {
   "cell_type": "code",
   "execution_count": 10,
   "metadata": {},
   "outputs": [],
   "source": [
    "df.drop(['max_order_number'],axis=1,inplace=True)"
   ]
  },
  {
   "cell_type": "code",
   "execution_count": 11,
   "metadata": {},
   "outputs": [
    {
     "name": "stdout",
     "output_type": "stream",
     "text": [
      "1\n",
      "1\n",
      "1\n",
      "1\n",
      "1\n",
      "Individual f-1 score:  [0.3227816853433815, 0.32301157731730695, 0.3229468818648686, 0.3222449635975556, 0.32207629585636083]\n",
      "Average f1-score: 0.323 +- 0.000\n"
     ]
    }
   ],
   "source": [
    "kfold_val_fit_score_pred_G_NB(df)"
   ]
  },
  {
   "cell_type": "code",
   "execution_count": null,
   "metadata": {},
   "outputs": [],
   "source": []
  }
 ],
 "metadata": {
  "kernelspec": {
   "display_name": "Python 3",
   "language": "python",
   "name": "python3"
  },
  "language_info": {
   "codemirror_mode": {
    "name": "ipython",
    "version": 3
   },
   "file_extension": ".py",
   "mimetype": "text/x-python",
   "name": "python",
   "nbconvert_exporter": "python",
   "pygments_lexer": "ipython3",
   "version": "3.7.2"
  }
 },
 "nbformat": 4,
 "nbformat_minor": 2
}

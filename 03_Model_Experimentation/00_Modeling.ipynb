{
 "cells": [
  {
   "cell_type": "code",
   "execution_count": 14,
   "metadata": {},
   "outputs": [],
   "source": [
    "import os\n",
    "\n",
    "from collections import OrderedDict\n",
    "\n",
    "import pandas as pd\n",
    "import numpy as np\n",
    "\n",
    "import seaborn as sns\n",
    "import matplotlib.pyplot as plt\n",
    "\n",
    "from sklearn.linear_model import LogisticRegression\n",
    "from sklearn.metrics import f1_score\n",
    "import scipy\n",
    "from sklearn.ensemble import RandomForestClassifier\n",
    "from sklearn.naive_bayes import GaussianNB\n",
    "from sklearn.preprocessing import StandardScaler\n",
    "\n",
    "\n",
    "from Standard_functions import plot_features, get_user_split_data, plot_fit_score_pred, fit_score_pred, kfold_val_fit_score_pred_log, kfold_val_fit_score_pred_G_NB, kfold_val_fit_score_pred_RF, fit_score_pred_RF, kfold_val_fit_score_pred_M_NB\n",
    "\n",
    "import warnings\n",
    "\n",
    "warnings.filterwarnings('always') \n",
    "np.seterr(divide='ignore', invalid='ignore')\n",
    "%matplotlib inline"
   ]
  },
  {
   "cell_type": "code",
   "execution_count": null,
   "metadata": {},
   "outputs": [],
   "source": [
    "StandardScaler"
   ]
  },
  {
   "cell_type": "markdown",
   "metadata": {},
   "source": [
    "## Logistic Regression\n",
    "The following score was achieved in Logistic Regression using the following features:  \n",
    "Average f1-score: 0.144 +- 0.016:\n",
    "* num_ord_per_user_per_prod  \n",
    "* product_total_orders  \n",
    "* product_avg_add_to_cart_order  \n",
    "* user_total_orders  \n",
    "* user_avg_cartsize  \n",
    "* user_total_products  \n",
    "* user_avg_days_since_prior_order  \n",
    "* user_product_avg_add_to_cart_order  \n",
    "* user_product_order_freq  \n",
    "* number_orders_since_product_last_ordered  \n",
    "* percent_of_time_product_ordered  \n",
    "* mean_order_hour_of_day_by_user  \n",
    "* diff_between_average_and_current_order_time  \n",
    "* max_order_number  \n",
    "* recent_order_weight  \n",
    "\n",
    "After dropping max_order_number the following score was achieved:  \n",
    "Average f1-score: 0.250 +- 0.001\n",
    "   \n",
    "## Gaussian Naive Bayes - All Features\n",
    "Average f1-score: 0.347 +- 0.001\n",
    "\n",
    "\n",
    "After dropping max_order_number the following score was achieved:  \n",
    "Average f1-score: 0.400 +- 0.001\n",
    "\n",
    "\n",
    "## Random Forest n_estimators = 10  - All Features\n",
    "Average f1-score: 0.278 +- 0.002\n",
    "\n",
    "## Multinomial Naive Bayes - All Features\n",
    "Average f1-score: 0.183 +- 0.001\n",
    "\n",
    "\n",
    "After dropping max_order_number the following score was achieved:  \n",
    "Average f1-score: 0.286 +- 0.000\n",
    "\n"
   ]
  },
  {
   "cell_type": "code",
   "execution_count": 2,
   "metadata": {},
   "outputs": [],
   "source": [
    "os.chdir('../Data/')"
   ]
  },
  {
   "cell_type": "code",
   "execution_count": 3,
   "metadata": {},
   "outputs": [],
   "source": [
    "df = pd.read_pickle('full_features')"
   ]
  },
  {
   "cell_type": "code",
   "execution_count": null,
   "metadata": {},
   "outputs": [],
   "source": [
    "kfold_val_fit_score_pred(df, val_size=.2, seed=42)"
   ]
  },
  {
   "cell_type": "markdown",
   "metadata": {},
   "source": [
    "### Dropping max order number increases score by ~10%"
   ]
  },
  {
   "cell_type": "code",
   "execution_count": 4,
   "metadata": {},
   "outputs": [],
   "source": [
    "df.drop(['max_order_number'],axis=1,inplace=True)"
   ]
  },
  {
   "cell_type": "code",
   "execution_count": null,
   "metadata": {},
   "outputs": [],
   "source": [
    "kfold_val_fit_score_pred(df, val_size=.2, seed=42)"
   ]
  },
  {
   "cell_type": "code",
   "execution_count": 14,
   "metadata": {},
   "outputs": [],
   "source": [
    "test = pd.read_pickle('full_features')"
   ]
  },
  {
   "cell_type": "code",
   "execution_count": 5,
   "metadata": {},
   "outputs": [
    {
     "name": "stdout",
     "output_type": "stream",
     "text": [
      "1\n",
      "1\n",
      "1\n",
      "1\n",
      "1\n",
      "Individual f-1 score:  [0.40078980926654684, 0.398303739110914, 0.3996617211169772, 0.39949921512655223, 0.39952020112117387]\n",
      "Average f1-score: 0.400 +- 0.001\n"
     ]
    }
   ],
   "source": [
    "kfold_val_fit_score_pred_G_NB(df)"
   ]
  },
  {
   "cell_type": "code",
   "execution_count": 7,
   "metadata": {},
   "outputs": [
    {
     "name": "stdout",
     "output_type": "stream",
     "text": [
      "1\n",
      "1\n",
      "1\n",
      "1\n",
      "1\n",
      "Individual f-1 score:  [0.28663903956515396, 0.28639571016703874, 0.28620533573544504, 0.28682152283079676, 0.28556139654162765]\n",
      "Average f1-score: 0.286 +- 0.000\n"
     ]
    }
   ],
   "source": [
    "kfold_val_fit_score_pred_M_NB(df)"
   ]
  },
  {
   "cell_type": "code",
   "execution_count": 4,
   "metadata": {},
   "outputs": [
    {
     "name": "stdout",
     "output_type": "stream",
     "text": [
      "1\n",
      "1\n",
      "1\n",
      "1\n",
      "1\n",
      "Individual f-1 score:  [0.27658351749496574, 0.27635676415414906, 0.2769318277183592, 0.2784755989847244, 0.28041748437230507]\n",
      "Average f1-score: 0.278 +- 0.002\n"
     ]
    }
   ],
   "source": [
    "kfold_val_fit_score_pred_RF(df)"
   ]
  },
  {
   "cell_type": "code",
   "execution_count": 12,
   "metadata": {},
   "outputs": [],
   "source": [
    "def fit_score_pred_RF(df, X_train, X_val, y_train, y_val):\n",
    "    \"\"\"    \n",
    "    Takes a DataFrame, training, and validation data as its input.\n",
    "    Returns f1-score, features and their coefficients, and predicted non-re-orders and re-orders.\n",
    "    \"\"\"\n",
    "    \n",
    "    rfc = RandomForestClassifier(n_estimators=25)\n",
    "    rfc.fit(X_train, y_train)        \n",
    "    vals = pd.DataFrame(rfc.predict(X_val))[0].value_counts()\n",
    "    print('Our f1-score is',f1_score(rfc.predict(X_val), y_val))\n",
    "    print('And we\\'ve predicted',vals[0],'non-re-orders and',\n",
    "    vals[1],'re-orders.')"
   ]
  },
  {
   "cell_type": "code",
   "execution_count": 11,
   "metadata": {},
   "outputs": [
    {
     "name": "stdout",
     "output_type": "stream",
     "text": [
      "Our f1-score is 0.24183378964972507\n",
      "And we've predicted 1647128 non-re-orders and 48606 re-orders.\n"
     ]
    }
   ],
   "source": [
    "X_tr, X_val, y_tr, y_val = get_user_split_data(df)\n",
    "fit_score_pred_RF(df, X_tr, X_val, y_tr, y_val)"
   ]
  },
  {
   "cell_type": "code",
   "execution_count": 13,
   "metadata": {},
   "outputs": [
    {
     "name": "stdout",
     "output_type": "stream",
     "text": [
      "Our f1-score is 0.27204383282364936\n",
      "And we've predicted 1643243 non-re-orders and 52491 re-orders.\n"
     ]
    }
   ],
   "source": [
    "X_tr, X_val, y_tr, y_val = get_user_split_data(df)\n",
    "fit_score_pred_RF(df, X_tr, X_val, y_tr, y_val)"
   ]
  },
  {
   "cell_type": "code",
   "execution_count": null,
   "metadata": {},
   "outputs": [],
   "source": []
  },
  {
   "cell_type": "code",
   "execution_count": null,
   "metadata": {},
   "outputs": [],
   "source": []
  },
  {
   "cell_type": "code",
   "execution_count": 2,
   "metadata": {},
   "outputs": [],
   "source": [
    "os.chdir('../Data/')"
   ]
  },
  {
   "cell_type": "code",
   "execution_count": 9,
   "metadata": {},
   "outputs": [],
   "source": [
    "df = pd.read_pickle('no_feature_reduction')"
   ]
  },
  {
   "cell_type": "markdown",
   "metadata": {},
   "source": [
    "### Dropping max order number increases score by ~10%"
   ]
  },
  {
   "cell_type": "code",
   "execution_count": 10,
   "metadata": {},
   "outputs": [],
   "source": [
    "df.drop(['max_order_number'],axis=1,inplace=True)"
   ]
  },
  {
   "cell_type": "code",
   "execution_count": null,
   "metadata": {},
   "outputs": [],
   "source": []
  },
  {
   "cell_type": "code",
   "execution_count": 6,
   "metadata": {},
   "outputs": [],
   "source": [
    "df = pd.read_pickle('full_features_with_dep')"
   ]
  },
  {
   "cell_type": "code",
   "execution_count": 7,
   "metadata": {},
   "outputs": [],
   "source": [
    "df.drop(['max_order_number'],axis=1,inplace=True)"
   ]
  },
  {
   "cell_type": "code",
   "execution_count": null,
   "metadata": {},
   "outputs": [],
   "source": []
  },
  {
   "cell_type": "code",
   "execution_count": 8,
   "metadata": {},
   "outputs": [
    {
     "name": "stderr",
     "output_type": "stream",
     "text": [
      "/anaconda3/lib/python3.7/site-packages/sklearn/linear_model/logistic.py:758: ConvergenceWarning: lbfgs failed to converge. Increase the number of iterations.\n",
      "  \"of iterations.\", ConvergenceWarning)\n"
     ]
    },
    {
     "name": "stdout",
     "output_type": "stream",
     "text": [
      "Our f1-score is 0.24944869940483247\n",
      "The coefficients are: \n",
      "                                        Features  Coefficients\n",
      "0                     num_ord_per_user_per_prod        0.0009\n",
      "1                          product_total_orders        0.0139\n",
      "2                 product_avg_add_to_cart_order       -0.1462\n",
      "3                             user_total_orders        0.0077\n",
      "4                             user_avg_cartsize        0.0230\n",
      "5                           user_total_products       -0.0022\n",
      "6               user_avg_days_since_prior_order       -0.0147\n",
      "7            user_product_avg_add_to_cart_order       -0.0031\n",
      "8                       user_product_order_freq        1.1270\n",
      "9      number_orders_since_product_last_ordered       -0.1213\n",
      "10              percent_of_time_product_ordered        1.2351\n",
      "11               mean_order_hour_of_day_by_user       -0.0525\n",
      "12  diff_between_average_and_current_order_time       -0.0063\n",
      "13                          recent_order_weight        1.3947\n",
      "14                           department_alcohol       -0.0963\n",
      "15                            department_babies        0.0581\n",
      "16                            department_bakery        0.0388\n",
      "17                         department_beverages       -0.0455\n",
      "18                         department_breakfast        0.0374\n",
      "19                              department_bulk        0.0008\n",
      "20                      department_canned_goods       -0.0284\n",
      "21                        department_dairy_eggs        0.0899\n",
      "22                              department_deli        0.0963\n",
      "23                   department_dry_goods_pasta        0.0392\n",
      "24                            department_frozen        0.0724\n",
      "25                         department_household       -0.2339\n",
      "26                     department_international       -0.0623\n",
      "27                      department_meat_seafood       -0.0049\n",
      "28                           department_missing        0.0437\n",
      "29                             department_other       -0.0155\n",
      "30                            department_pantry       -0.4597\n",
      "31                     department_personal_care       -0.2118\n",
      "32                              department_pets        0.0097\n",
      "33                           department_produce        0.0819\n",
      "34                            department_snacks        0.1528\n",
      "And we've predicted 1652054 non-re-orders and 43625 re-orders.\n"
     ]
    }
   ],
   "source": [
    "X_tr, X_val, y_tr, y_val = get_user_split_data(df)\n",
    "fit_score_pred(df, X_tr, X_val, y_tr, y_val)"
   ]
  },
  {
   "cell_type": "code",
   "execution_count": 9,
   "metadata": {},
   "outputs": [],
   "source": [
    "df.drop(['department_pets','department_meat_seafood','department_bulk'],axis=1,inplace=True)"
   ]
  },
  {
   "cell_type": "code",
   "execution_count": 10,
   "metadata": {},
   "outputs": [
    {
     "name": "stderr",
     "output_type": "stream",
     "text": [
      "/anaconda3/lib/python3.7/site-packages/sklearn/linear_model/logistic.py:758: ConvergenceWarning: lbfgs failed to converge. Increase the number of iterations.\n",
      "  \"of iterations.\", ConvergenceWarning)\n"
     ]
    },
    {
     "name": "stdout",
     "output_type": "stream",
     "text": [
      "Our f1-score is 0.2513263289295745\n",
      "The coefficients are: \n",
      "                                        Features  Coefficients\n",
      "0                     num_ord_per_user_per_prod        0.0009\n",
      "1                          product_total_orders        0.0154\n",
      "2                 product_avg_add_to_cart_order       -0.1547\n",
      "3                             user_total_orders        0.0085\n",
      "4                             user_avg_cartsize        0.0242\n",
      "5                           user_total_products       -0.0023\n",
      "6               user_avg_days_since_prior_order       -0.0124\n",
      "7            user_product_avg_add_to_cart_order       -0.0036\n",
      "8                       user_product_order_freq        1.1282\n",
      "9      number_orders_since_product_last_ordered       -0.1191\n",
      "10              percent_of_time_product_ordered        1.2396\n",
      "11               mean_order_hour_of_day_by_user       -0.0523\n",
      "12  diff_between_average_and_current_order_time       -0.0072\n",
      "13                          recent_order_weight        1.4063\n",
      "14                           department_alcohol       -0.0985\n",
      "15                            department_babies        0.0592\n",
      "16                            department_bakery        0.0392\n",
      "17                         department_beverages       -0.0447\n",
      "18                         department_breakfast        0.0380\n",
      "19                      department_canned_goods       -0.0282\n",
      "20                        department_dairy_eggs        0.0898\n",
      "21                              department_deli        0.0974\n",
      "22                   department_dry_goods_pasta        0.0400\n",
      "23                            department_frozen        0.0717\n",
      "24                         department_household       -0.2362\n",
      "25                     department_international       -0.0636\n",
      "26                           department_missing        0.0448\n",
      "27                             department_other       -0.0158\n",
      "28                            department_pantry       -0.4594\n",
      "29                     department_personal_care       -0.2155\n",
      "30                           department_produce        0.0805\n",
      "31                            department_snacks        0.1493\n",
      "And we've predicted 1651433 non-re-orders and 44246 re-orders.\n"
     ]
    }
   ],
   "source": [
    "X_tr, X_val, y_tr, y_val = get_user_split_data(df)\n",
    "fit_score_pred(df, X_tr, X_val, y_tr, y_val)"
   ]
  },
  {
   "cell_type": "code",
   "execution_count": 11,
   "metadata": {},
   "outputs": [
    {
     "name": "stdout",
     "output_type": "stream",
     "text": [
      "['num_ord_per_user_per_prod', 'product_total_orders', 'product_avg_add_to_cart_order', 'user_total_orders', 'user_avg_cartsize', 'user_total_products', 'user_avg_days_since_prior_order', 'user_product_avg_add_to_cart_order', 'user_product_order_freq', 'number_orders_since_product_last_ordered', 'percent_of_time_product_ordered', 'mean_order_hour_of_day_by_user', 'diff_between_average_and_current_order_time', 'recent_order_weight', 'department_alcohol', 'department_babies', 'department_bakery', 'department_beverages', 'department_breakfast', 'department_canned_goods', 'department_dairy_eggs', 'department_deli', 'department_dry_goods_pasta', 'department_frozen', 'department_household', 'department_international', 'department_missing', 'department_other', 'department_pantry', 'department_personal_care', 'department_produce', 'department_snacks']\n",
      "['num_ord_per_user_per_prod', 'product_total_orders', 'product_avg_add_to_cart_order', 'user_total_orders', 'user_avg_cartsize', 'user_total_products', 'user_avg_days_since_prior_order', 'user_product_avg_add_to_cart_order', 'user_product_order_freq', 'number_orders_since_product_last_ordered', 'percent_of_time_product_ordered', 'mean_order_hour_of_day_by_user', 'diff_between_average_and_current_order_time', 'recent_order_weight', 'department_alcohol', 'department_babies', 'department_bakery', 'department_beverages', 'department_breakfast', 'department_canned_goods', 'department_dairy_eggs', 'department_deli', 'department_dry_goods_pasta', 'department_frozen', 'department_household', 'department_international', 'department_missing', 'department_other', 'department_pantry', 'department_personal_care', 'department_produce', 'department_snacks']\n",
      "['num_ord_per_user_per_prod', 'product_total_orders', 'product_avg_add_to_cart_order', 'user_total_orders', 'user_avg_cartsize', 'user_total_products', 'user_avg_days_since_prior_order', 'user_product_avg_add_to_cart_order', 'user_product_order_freq', 'number_orders_since_product_last_ordered', 'percent_of_time_product_ordered', 'mean_order_hour_of_day_by_user', 'diff_between_average_and_current_order_time', 'recent_order_weight', 'department_alcohol', 'department_babies', 'department_bakery', 'department_beverages', 'department_breakfast', 'department_canned_goods', 'department_dairy_eggs', 'department_deli', 'department_dry_goods_pasta', 'department_frozen', 'department_household', 'department_international', 'department_missing', 'department_other', 'department_pantry', 'department_personal_care', 'department_produce', 'department_snacks']\n",
      "['num_ord_per_user_per_prod', 'product_total_orders', 'product_avg_add_to_cart_order', 'user_total_orders', 'user_avg_cartsize', 'user_total_products', 'user_avg_days_since_prior_order', 'user_product_avg_add_to_cart_order', 'user_product_order_freq', 'number_orders_since_product_last_ordered', 'percent_of_time_product_ordered', 'mean_order_hour_of_day_by_user', 'diff_between_average_and_current_order_time', 'recent_order_weight', 'department_alcohol', 'department_babies', 'department_bakery', 'department_beverages', 'department_breakfast', 'department_canned_goods', 'department_dairy_eggs', 'department_deli', 'department_dry_goods_pasta', 'department_frozen', 'department_household', 'department_international', 'department_missing', 'department_other', 'department_pantry', 'department_personal_care', 'department_produce', 'department_snacks']\n",
      "['num_ord_per_user_per_prod', 'product_total_orders', 'product_avg_add_to_cart_order', 'user_total_orders', 'user_avg_cartsize', 'user_total_products', 'user_avg_days_since_prior_order', 'user_product_avg_add_to_cart_order', 'user_product_order_freq', 'number_orders_since_product_last_ordered', 'percent_of_time_product_ordered', 'mean_order_hour_of_day_by_user', 'diff_between_average_and_current_order_time', 'recent_order_weight', 'department_alcohol', 'department_babies', 'department_bakery', 'department_beverages', 'department_breakfast', 'department_canned_goods', 'department_dairy_eggs', 'department_deli', 'department_dry_goods_pasta', 'department_frozen', 'department_household', 'department_international', 'department_missing', 'department_other', 'department_pantry', 'department_personal_care', 'department_produce', 'department_snacks']\n",
      "Individual f-1 score:  [0.3752536391707102, 0.3743384019153314, 0.37488565455418726, 0.3746325878594249, 0.3753134855607255]\n",
      "Average f1-score: 0.375 +- 0.000\n"
     ]
    }
   ],
   "source": [
    "kfold_val_fit_score_pred_G_NB(df)"
   ]
  },
  {
   "cell_type": "code",
   "execution_count": 12,
   "metadata": {},
   "outputs": [],
   "source": [
    "df.drop(['department_other','department_babies','department_breakfast','department_canned_goods'],axis=1,inplace=True)"
   ]
  },
  {
   "cell_type": "code",
   "execution_count": 13,
   "metadata": {},
   "outputs": [
    {
     "name": "stdout",
     "output_type": "stream",
     "text": [
      "['num_ord_per_user_per_prod', 'product_total_orders', 'product_avg_add_to_cart_order', 'user_total_orders', 'user_avg_cartsize', 'user_total_products', 'user_avg_days_since_prior_order', 'user_product_avg_add_to_cart_order', 'user_product_order_freq', 'number_orders_since_product_last_ordered', 'percent_of_time_product_ordered', 'mean_order_hour_of_day_by_user', 'diff_between_average_and_current_order_time', 'recent_order_weight', 'department_alcohol', 'department_bakery', 'department_beverages', 'department_dairy_eggs', 'department_deli', 'department_dry_goods_pasta', 'department_frozen', 'department_household', 'department_international', 'department_missing', 'department_pantry', 'department_personal_care', 'department_produce', 'department_snacks']\n",
      "['num_ord_per_user_per_prod', 'product_total_orders', 'product_avg_add_to_cart_order', 'user_total_orders', 'user_avg_cartsize', 'user_total_products', 'user_avg_days_since_prior_order', 'user_product_avg_add_to_cart_order', 'user_product_order_freq', 'number_orders_since_product_last_ordered', 'percent_of_time_product_ordered', 'mean_order_hour_of_day_by_user', 'diff_between_average_and_current_order_time', 'recent_order_weight', 'department_alcohol', 'department_bakery', 'department_beverages', 'department_dairy_eggs', 'department_deli', 'department_dry_goods_pasta', 'department_frozen', 'department_household', 'department_international', 'department_missing', 'department_pantry', 'department_personal_care', 'department_produce', 'department_snacks']\n",
      "['num_ord_per_user_per_prod', 'product_total_orders', 'product_avg_add_to_cart_order', 'user_total_orders', 'user_avg_cartsize', 'user_total_products', 'user_avg_days_since_prior_order', 'user_product_avg_add_to_cart_order', 'user_product_order_freq', 'number_orders_since_product_last_ordered', 'percent_of_time_product_ordered', 'mean_order_hour_of_day_by_user', 'diff_between_average_and_current_order_time', 'recent_order_weight', 'department_alcohol', 'department_bakery', 'department_beverages', 'department_dairy_eggs', 'department_deli', 'department_dry_goods_pasta', 'department_frozen', 'department_household', 'department_international', 'department_missing', 'department_pantry', 'department_personal_care', 'department_produce', 'department_snacks']\n",
      "['num_ord_per_user_per_prod', 'product_total_orders', 'product_avg_add_to_cart_order', 'user_total_orders', 'user_avg_cartsize', 'user_total_products', 'user_avg_days_since_prior_order', 'user_product_avg_add_to_cart_order', 'user_product_order_freq', 'number_orders_since_product_last_ordered', 'percent_of_time_product_ordered', 'mean_order_hour_of_day_by_user', 'diff_between_average_and_current_order_time', 'recent_order_weight', 'department_alcohol', 'department_bakery', 'department_beverages', 'department_dairy_eggs', 'department_deli', 'department_dry_goods_pasta', 'department_frozen', 'department_household', 'department_international', 'department_missing', 'department_pantry', 'department_personal_care', 'department_produce', 'department_snacks']\n",
      "['num_ord_per_user_per_prod', 'product_total_orders', 'product_avg_add_to_cart_order', 'user_total_orders', 'user_avg_cartsize', 'user_total_products', 'user_avg_days_since_prior_order', 'user_product_avg_add_to_cart_order', 'user_product_order_freq', 'number_orders_since_product_last_ordered', 'percent_of_time_product_ordered', 'mean_order_hour_of_day_by_user', 'diff_between_average_and_current_order_time', 'recent_order_weight', 'department_alcohol', 'department_bakery', 'department_beverages', 'department_dairy_eggs', 'department_deli', 'department_dry_goods_pasta', 'department_frozen', 'department_household', 'department_international', 'department_missing', 'department_pantry', 'department_personal_care', 'department_produce', 'department_snacks']\n",
      "Individual f-1 score:  [0.39018057251143384, 0.38931394762771815, 0.38971654342467743, 0.3891642866238562, 0.3900567286836815]\n",
      "Average f1-score: 0.390 +- 0.000\n"
     ]
    }
   ],
   "source": [
    "kfold_val_fit_score_pred_G_NB(df)"
   ]
  },
  {
   "cell_type": "code",
   "execution_count": null,
   "metadata": {},
   "outputs": [],
   "source": []
  }
 ],
 "metadata": {
  "kernelspec": {
   "display_name": "Python 3",
   "language": "python",
   "name": "python3"
  },
  "language_info": {
   "codemirror_mode": {
    "name": "ipython",
    "version": 3
   },
   "file_extension": ".py",
   "mimetype": "text/x-python",
   "name": "python",
   "nbconvert_exporter": "python",
   "pygments_lexer": "ipython3",
   "version": "3.7.2"
  }
 },
 "nbformat": 4,
 "nbformat_minor": 2
}
